{
 "cells": [
  {
   "cell_type": "code",
   "execution_count": 46,
   "metadata": {
    "collapsed": true
   },
   "outputs": [],
   "source": [
    "import glob\n",
    "import json\n",
    "import pandas as pd"
   ]
  },
  {
   "cell_type": "markdown",
   "metadata": {},
   "source": [
    "Let us gather the name of all json files into a list"
   ]
  },
  {
   "cell_type": "code",
   "execution_count": 47,
   "metadata": {},
   "outputs": [
    {
     "name": "stdout",
     "output_type": "stream",
     "text": [
      "The following test description files : \n",
      "['../test_validation2DWaveSystemUpwindDeformedQuadrangles/test_WaveSystem2DUpwind_SquareWithDeformedQuadrangles16Cells.json', '../test_validation2DWaveSystemUpwindDeformedQuadrangles/test_WaveSystem2DUpwind_SquareWithDeformedQuadrangles256Cells.json', '../test_validation2DWaveSystemUpwindDeformedQuadrangles/test_WaveSystem2DUpwind_SquareWithDeformedQuadrangles64Cells.json', '../test_validation2DWaveSystemUpwindDeformedQuadrangles/test_WaveSystem2DUpwind_SquareWithDeformedQuadrangles1024Cells.json', '../test_validation2DPoissonVF_brickwall/test_Poisson2D_VF_25Cells.json', '../test_validation2DPoissonVF_brickwall/test_Poisson2D_VF_900Cells.json', '../test_validation2DPoissonVF_brickwall/test_Poisson2D_VF_10000Cells.json', '../test_validation2DPoissonVF_brickwall/test_Poisson2D_VF_225Cells.json', '../test_validation2DPoissonVF_brickwall/test_Poisson2D_VF_2500Cells.json', '../test_validation2DWaveSystemUpwindBrickWall/test_WaveSystem2DUpwind_squareWithBrickWall2500Cells.json', '../test_validation2DWaveSystemUpwindBrickWall/test_WaveSystem2DUpwind_squareWithBrickWall900Cells.json', '../test_validation2DWaveSystemUpwindBrickWall/test_WaveSystem2DUpwind_squareWithBrickWall225Cells.json', '../test_validation2DWaveSystemUpwindBrickWall/test_WaveSystem2DUpwind_squareWithBrickWall25Cells.json', '../test_validation2DPoissonVF_hexagons/test_Poisson2D_VF_25Cells.json', '../test_validation2DPoissonVF_hexagons/test_Poisson2D_VF_11500Cells.json', '../test_validation2DPoissonVF_hexagons/test_Poisson2D_VF_1020Cells.json', '../test_validation2DPoissonVF_hexagons/test_Poisson2D_VF_2850Cells.json', '../test_validation2DPoissonVF_hexagons/test_Poisson2D_VF_255Cells.json', '../test_validation2DWaveSystemUpwindTriangles/test_WaveSystem2DUpwind_squareWithTriangles6422Cells.json', '../test_validation2DWaveSystemUpwindTriangles/test_WaveSystem2DUpwind_squareWithTriangles934Cells.json', '../test_validation2DWaveSystemUpwindTriangles/test_WaveSystem2DUpwind_squareWithTriangles40Cells.json', '../test_validation2DWaveSystemUpwindTriangles/test_WaveSystem2DUpwind_squareWithTriangles224Cells.json', '../test_validation2DWaveSystemUpwindSquares/test_WaveSystem2DUpwind_meshSquareWithSquares16Cells.json', '../test_validation2DWaveSystemUpwindSquares/test_WaveSystem2DUpwind_meshSquareWithSquares4096Cells.json', '../test_validation2DWaveSystemUpwindSquares/test_WaveSystem2DUpwind_meshSquareWithSquares64Cells.json', '../test_validation2DWaveSystemUpwindSquares/test_WaveSystem2DUpwind_meshSquareWithSquares1024Cells.json', '../test_validation2DWaveSystemUpwindSquares/test_WaveSystem2DUpwind_meshSquareWithSquares256Cells.json', '../test_validation3DWaveSystemUpwindTetrahedra/test_WaveSystem3DUpwind_CubeWithTetrahedra55566Cells.json', '../test_validation3DWaveSystemUpwindTetrahedra/test_WaveSystem3DUpwind_CubeWithTetrahedra7986Cells.json', '../test_validation3DWaveSystemUpwindTetrahedra/test_WaveSystem3DUpwind_CubeWithTetrahedra750Cells.json', '../test_validation3DWaveSystemUpwindTetrahedra/test_WaveSystem3DUpwind_CubeWithTetrahedra105456Cells.json', '../test_validation2DPoissonVF_loc_ref/test_Poisson2D_VF_2560Cells.json', '../test_validation2DPoissonVF_loc_ref/test_Poisson2D_VF_160Cells.json', '../test_validation2DPoissonVF_loc_ref/test_Poisson2D_VF_640Cells.json', '../test_validation2DPoissonVF_loc_ref/test_Poisson2D_VF_10240Cells.json', '../test_validation2DPoissonVF_loc_ref/test_Poisson2D_VF_163840Cells.json', '../test_validation2DPoissonVF_loc_ref/test_Poisson2D_VF_40Cells.json', '../test_validation2DPoissonVF_loc_ref/test_Poisson2D_VF_40960Cells.json', '../test_validation2DPoissonVF_squares/test_Poisson2D_VF_256Cells.json', '../test_validation2DPoissonVF_squares/test_Poisson2D_VF_1024Cells.json', '../test_validation2DPoissonVF_squares/test_Poisson2D_VF_4096Cells.json', '../test_validation2DPoissonVF_squares/test_Poisson2D_VF_16Cells.json', '../test_validation2DPoissonVF_squares/test_Poisson2D_VF_64Cells.json', '../test_validation2DWaveSystemPStagSquares/test_WaveSystem2DPStag_SquareWithSquares64Cells.json', '../test_validation2DWaveSystemPStagSquares/test_WaveSystem2DPStag_SquareWithSquares16Cells.json', '../test_validation2DWaveSystemPStagSquares/test_WaveSystem2DPStag_SquareWithSquares256Cells.json', '../test_validation2DWaveSystemPStagSquares/test_WaveSystem2DPStag_SquareWithSquares1024Cells.json', '../test_validation2DWaveSystemPStagSquares/test_WaveSystem2DPStag_SquareWithSquares4096Cells.json', '../test_validation3DWaveSystemUpwindCubes/test_WaveSystem3DUpwind_CubeWithCubes216Cells.json', '../test_validation3DWaveSystemUpwindCubes/test_WaveSystem3DUpwind_CubeWithCubes9261Cells.json', '../test_validation3DWaveSystemUpwindCubes/test_WaveSystem3DUpwind_CubeWithCubes1331Cells.json', '../test_validation2DPoissonVF_checkerboard/test_Poisson2D_VF_2560Cells.json', '../test_validation2DPoissonVF_checkerboard/test_Poisson2D_VF_160Cells.json', '../test_validation2DPoissonVF_checkerboard/test_Poisson2D_VF_640Cells.json', '../test_validation2DPoissonVF_checkerboard/test_Poisson2D_VF_10240Cells.json', '../test_validation2DPoissonVF_checkerboard/test_Poisson2D_VF_40Cells.json', '../test_validation2DPoissonVF_checkerboard/test_Poisson2D_VF_40960Cells.json', '../test_validation2DPoissonVF_triangles/test_Poisson2D_VF_6422Cells.json', '../test_validation2DPoissonVF_triangles/test_Poisson2D_VF_224Cells.json', '../test_validation2DPoissonVF_triangles/test_Poisson2D_VF_25872Cells.json', '../test_validation2DPoissonVF_triangles/test_Poisson2D_VF_40Cells.json', '../test_validation2DPoissonVF_triangles/test_Poisson2D_VF_934Cells.json', '../test_validation2DWaveSystemPStagTriangles/test_WaveSystem2DPStag_SquareWithTriangles6422Cells.json', '../test_validation2DWaveSystemPStagTriangles/test_WaveSystem2DPStag_SquareWithTriangles224Cells.json', '../test_validation2DWaveSystemPStagTriangles/test_WaveSystem2DPStag_SquareWithTriangles40Cells.json', '../test_validation2DWaveSystemPStagTriangles/test_WaveSystem2DPStag_SquareWithTriangles934Cells.json', '../test_validation2DWaveSystemUpwindHexagons/test_WaveSystem2DUpwind_squareWithHexagons255Cells.json', '../test_validation2DWaveSystemUpwindHexagons/test_WaveSystem2DUpwind_squareWithHexagons25Cells.json', '../test_validation2DWaveSystemUpwindHexagons/test_WaveSystem2DUpwind_squareWithHexagons1020Cells.json', '../test_validation2DWaveSystemUpwindHexagons/test_WaveSystem2DUpwind_squareWithHexagons2850Cells.json', '../test_validation2DPoissonVF_deformedQuadrangles/test_Poisson2D_VF_256Cells.json', '../test_validation2DPoissonVF_deformedQuadrangles/test_Poisson2D_VF_16384Cells.json', '../test_validation2DPoissonVF_deformedQuadrangles/test_Poisson2D_VF_1024Cells.json', '../test_validation2DPoissonVF_deformedQuadrangles/test_Poisson2D_VF_4096Cells.json', '../test_validation2DPoissonVF_deformedQuadrangles/test_Poisson2D_VF_16Cells.json', '../test_validation2DPoissonVF_deformedQuadrangles/test_Poisson2D_VF_64Cells.json', '../test_validation2DPoissonVF_deformedQuadrangles/test_Poisson2D_VF_65536Cells.json', '../test_validation2DWaveSystemUpwindCheckerboard/test_WaveSystem2DUpwind_squareWithCheckerboard40Cells.json', '../test_validation2DWaveSystemUpwindCheckerboard/test_WaveSystem2DUpwind_squareWithCheckerboard2560Cells.json', '../test_validation2DWaveSystemUpwindCheckerboard/test_WaveSystem2DUpwind_squareWithCheckerboard160Cells.json', '../test_validation2DWaveSystemUpwindCheckerboard/test_WaveSystem2DUpwind_squareWithCheckerboard640Cells.json']\n",
      "will be imported\n"
     ]
    }
   ],
   "source": [
    "description_files = glob.glob('../*/test_*.json')\n",
    "\n",
    "print(\"The following test description files : \")\n",
    "print(description_files)\n",
    "print(\"will be imported\")"
   ]
  },
  {
   "cell_type": "markdown",
   "metadata": {},
   "source": [
    "Each json file content will be imported into a python dict, all these dict will be gathered into a list called `all_descriptions`"
   ]
  },
  {
   "cell_type": "code",
   "execution_count": 48,
   "metadata": {},
   "outputs": [
    {
     "name": "stdout",
     "output_type": "stream",
     "text": [
      "json files have been imported\n"
     ]
    }
   ],
   "source": [
    "# Let's import all json files into a list of dictionaries\n",
    "all_descriptions = []\n",
    "\n",
    "for file_name in description_files:\n",
    "    with open(file_name, 'r') as fd:\n",
    "        all_descriptions.append(json.load(fd))\n",
    "\n",
    "print(\"json files have been imported\")"
   ]
  },
  {
   "cell_type": "markdown",
   "metadata": {},
   "source": [
    "In order to print a list (or a sublist), we need to import the pprint python package"
   ]
  },
  {
   "cell_type": "code",
   "execution_count": 49,
   "metadata": {
    "collapsed": true
   },
   "outputs": [],
   "source": [
    "import pprint as pp\n",
    "#pp.pprint(all_descriptions)"
   ]
  },
  {
   "cell_type": "code",
   "execution_count": 50,
   "metadata": {},
   "outputs": [
    {
     "name": "stdout",
     "output_type": "stream",
     "text": [
      "The pandas dataframe has been created\n",
      "Printing the columns of the dataframe : these are the parameters of the database\n",
      "Index([u'Absolute_error', u'Boundary_conditions',\n",
      "       u'Computational_time_taken_by_run', u'Geometry', u'Global_comment',\n",
      "       u'Global_name', u'Initial_data', u'Linear_solver_algorithm',\n",
      "       u'Linear_solver_maximum_iterations', u'Linear_solver_precision',\n",
      "       u'Linear_solver_preconditioner', u'Linear_solver_with_scaling',\n",
      "       u'Linear_system_max_actual_condition number',\n",
      "       u'Linear_system_max_actual_error',\n",
      "       u'Linear_system_max_actual_iterations_number', u'Mesh_cell_type',\n",
      "       u'Mesh_dimension', u'Mesh_is_unstructured',\n",
      "       u'Mesh_max_number_of_neighbours', u'Mesh_number_of_elements',\n",
      "       u'Mesh_type', u'Numerical_method_name',\n",
      "       u'Numerical_method_space_discretization',\n",
      "       u'Numerical_method_time_discretization', u'Numerical_parameter_cfl',\n",
      "       u'Numerical_parameter_space_step', u'Numerical_parameter_time_step',\n",
      "       u'PDE_is_stationary', u'PDE_model',\n",
      "       u'PDE_search_for_stationary_solution',\n",
      "       u'Part_of_mesh_convergence_analysis', u'Relative_error',\n",
      "       u'Simulation_final_number_of_time_steps_after_run',\n",
      "       u'Simulation_final_time_after_run', u'Simulation_output_frequency',\n",
      "       u'Simulation_parameter_maximum_time',\n",
      "       u'Simulation_parameter_maximum_time_step', u'Space_dimension',\n",
      "       u'Test_color'],\n",
      "      dtype='object')\n"
     ]
    }
   ],
   "source": [
    "# Let's create a pandas dataframe out of our dict list\n",
    "df = pd.DataFrame(all_descriptions)\n",
    "print(\"The pandas dataframe has been created\")\n",
    "\n",
    "list_of_all_columns = df.columns\n",
    "print(\"Printing the columns of the dataframe : these are the parameters of the database\")\n",
    "pp.pprint(list_of_all_columns)"
   ]
  },
  {
   "cell_type": "code",
   "execution_count": 51,
   "metadata": {
    "collapsed": true
   },
   "outputs": [],
   "source": [
    "#print(\"Printing the dataframe\")\n",
    "#pp.pprint(df)\n",
    "\n",
    "# print values of columns: the name of the column can be used as attributes\n",
    "#print(\"Values of the Name column\")\n",
    "#print(df.Global_name)"
   ]
  },
  {
   "cell_type": "code",
   "execution_count": 52,
   "metadata": {
    "scrolled": true
   },
   "outputs": [],
   "source": [
    "# a new dataframe with a few columns only\n",
    "#Tous les résultats avec cfl >1\n",
    "column_list = ['Geometry', 'Numerical_parameter_cfl']\n",
    "sub_df1 = df[column_list]\n",
    "#print(\"sub_df1\")\n",
    "#pp.pprint(sub_df1)"
   ]
  },
  {
   "cell_type": "code",
   "execution_count": 53,
   "metadata": {
    "collapsed": true
   },
   "outputs": [],
   "source": [
    "# a new dataframe according to the CFL value\n",
    "sub_df2 = df[df.Numerical_parameter_cfl > 0.1]\n",
    "#print(\"sub_df2\")\n",
    "#pp.pprint(sub_df2)"
   ]
  },
  {
   "cell_type": "code",
   "execution_count": 54,
   "metadata": {
    "collapsed": true
   },
   "outputs": [],
   "source": [
    "# sorting a dataframe\n",
    "df.sort_values(by=['PDE_model','Numerical_method_name','Mesh_dimension','Mesh_type','Mesh_cell_type','Test_color','Mesh_number_of_elements'], inplace=True)\n",
    "\n",
    "sub_df3 = df[df['Boundary_conditions'].isin(['Dirichlet'])]\n",
    "#print(\"sub_df3\")\n",
    "#pp.pprint(sub_df3)"
   ]
  },
  {
   "cell_type": "markdown",
   "metadata": {},
   "source": [
    "# Displaying validation test tables with qgrid\n",
    "\n",
    "Let's play with `qgrid now`.\n",
    "First extract the most interesting columns and visualise them in a widget."
   ]
  },
  {
   "cell_type": "code",
   "execution_count": 55,
   "metadata": {
    "scrolled": true
   },
   "outputs": [
    {
     "data": {
      "application/vnd.jupyter.widget-view+json": {
       "model_id": "85b27d317ec440b0b8452eaeb0298667",
       "version_major": 2,
       "version_minor": 0
      },
      "text/plain": [
       "QgridWidget(grid_options={'defaultColumnWidth': 150, 'highlightSelectedRow': True, 'enableTextSelectionOnCells…"
      ]
     },
     "metadata": {},
     "output_type": "display_data"
    }
   ],
   "source": [
    "import qgrid\n",
    "\n",
    "# here's a cool dictionnary of options for displaying data\n",
    "gopt={\n",
    "    'fullWidthRows': True,\n",
    "    'syncColumnCellResize': True,\n",
    "    'forceFitColumns': True,\n",
    "    'defaultColumnWidth': 150,\n",
    "    'rowHeight': 28,\n",
    "    'enableColumnReorder': True,\n",
    "    'enableTextSelectionOnCells': True,\n",
    "    'editable': False,\n",
    "    'autoEdit': False,\n",
    "    'explicitInitialization': True,\n",
    "    'maxVisibleRows': 40,\n",
    "    'minVisibleRows': 8,\n",
    "    'sortable': True,\n",
    "    'filterable': True,\n",
    "    'highlightSelectedCell': False,\n",
    "    'highlightSelectedRow': True\n",
    "}\n",
    "\n",
    "# Extract the most interesting column from df into a second dataframe df2\n",
    "df2=df[['PDE_model','Numerical_method_name','Mesh_dimension','Mesh_type','Mesh_cell_type','Test_color','Mesh_number_of_elements','Computational_time_taken_by_run']]\n",
    "\n",
    "# Let's create a jupyter table widget from the dataframe df2\n",
    "qgrid_widget=qgrid.show_grid(df2, grid_options=gopt, show_toolbar=False)\n",
    "\n",
    "# let's output this widget\n",
    "qgrid_widget"
   ]
  },
  {
   "cell_type": "markdown",
   "metadata": {},
   "source": [
    "# Exporting validation test table to CSV and Excel format\n",
    "\n",
    "`pandas` can be used to export to csv and excel, this is useful!\n",
    "\n",
    "Let us first export the large database df."
   ]
  },
  {
   "cell_type": "code",
   "execution_count": 56,
   "metadata": {},
   "outputs": [
    {
     "name": "stdout",
     "output_type": "stream",
     "text": [
      "Done writing file test_synthesis_all.xlsx\n"
     ]
    }
   ],
   "source": [
    "df.to_csv('test_synthesis_all.csv')#Saving using csv format\n",
    "output_file_name='test_synthesis_all.xlsx'\n",
    "writer = pd.ExcelWriter(output_file_name)\n",
    "df.to_excel(writer,'Sheet1')\n",
    "writer.save()#Saving using excel format\n",
    "print(\"Done writing file \"+output_file_name)"
   ]
  },
  {
   "cell_type": "markdown",
   "metadata": {},
   "source": [
    "Let us now export the short database df2."
   ]
  },
  {
   "cell_type": "code",
   "execution_count": 57,
   "metadata": {},
   "outputs": [
    {
     "name": "stdout",
     "output_type": "stream",
     "text": [
      "Done writing file test_synthesis_short.xlsx\n"
     ]
    }
   ],
   "source": [
    "df2.to_csv('test_synthesis_short.csv')#Saving using csv format\n",
    "df2.to_latex('test_synthesis_short.tex')#Saving using latex format\n",
    "output_file_name='test_synthesis_short.xlsx'\n",
    "writer = pd.ExcelWriter(output_file_name)\n",
    "df2.to_excel(writer,'Sheet1')\n",
    "writer.save()#Saving using excel format\n",
    "print(\"Done writing file \"+output_file_name)"
   ]
  },
  {
   "cell_type": "markdown",
   "metadata": {},
   "source": [
    "# Convergence study table"
   ]
  },
  {
   "cell_type": "code",
   "execution_count": 58,
   "metadata": {},
   "outputs": [
    {
     "name": "stdout",
     "output_type": "stream",
     "text": [
      "The following convergence description files : \n",
      "['../test_validation2DWaveSystemUpwindDeformedQuadrangles/test_WaveSystem2DUpwind_SquareWithDeformedQuadrangles16Cells.json', '../test_validation2DWaveSystemUpwindDeformedQuadrangles/test_WaveSystem2DUpwind_SquareWithDeformedQuadrangles256Cells.json', '../test_validation2DWaveSystemUpwindDeformedQuadrangles/test_WaveSystem2DUpwind_SquareWithDeformedQuadrangles64Cells.json', '../test_validation2DWaveSystemUpwindDeformedQuadrangles/test_WaveSystem2DUpwind_SquareWithDeformedQuadrangles1024Cells.json', '../test_validation2DPoissonVF_brickwall/test_Poisson2D_VF_25Cells.json', '../test_validation2DPoissonVF_brickwall/test_Poisson2D_VF_900Cells.json', '../test_validation2DPoissonVF_brickwall/test_Poisson2D_VF_10000Cells.json', '../test_validation2DPoissonVF_brickwall/test_Poisson2D_VF_225Cells.json', '../test_validation2DPoissonVF_brickwall/test_Poisson2D_VF_2500Cells.json', '../test_validation2DWaveSystemUpwindBrickWall/test_WaveSystem2DUpwind_squareWithBrickWall2500Cells.json', '../test_validation2DWaveSystemUpwindBrickWall/test_WaveSystem2DUpwind_squareWithBrickWall900Cells.json', '../test_validation2DWaveSystemUpwindBrickWall/test_WaveSystem2DUpwind_squareWithBrickWall225Cells.json', '../test_validation2DWaveSystemUpwindBrickWall/test_WaveSystem2DUpwind_squareWithBrickWall25Cells.json', '../test_validation2DPoissonVF_hexagons/test_Poisson2D_VF_25Cells.json', '../test_validation2DPoissonVF_hexagons/test_Poisson2D_VF_11500Cells.json', '../test_validation2DPoissonVF_hexagons/test_Poisson2D_VF_1020Cells.json', '../test_validation2DPoissonVF_hexagons/test_Poisson2D_VF_2850Cells.json', '../test_validation2DPoissonVF_hexagons/test_Poisson2D_VF_255Cells.json', '../test_validation2DWaveSystemUpwindTriangles/test_WaveSystem2DUpwind_squareWithTriangles6422Cells.json', '../test_validation2DWaveSystemUpwindTriangles/test_WaveSystem2DUpwind_squareWithTriangles934Cells.json', '../test_validation2DWaveSystemUpwindTriangles/test_WaveSystem2DUpwind_squareWithTriangles40Cells.json', '../test_validation2DWaveSystemUpwindTriangles/test_WaveSystem2DUpwind_squareWithTriangles224Cells.json', '../test_validation2DWaveSystemUpwindSquares/test_WaveSystem2DUpwind_meshSquareWithSquares16Cells.json', '../test_validation2DWaveSystemUpwindSquares/test_WaveSystem2DUpwind_meshSquareWithSquares4096Cells.json', '../test_validation2DWaveSystemUpwindSquares/test_WaveSystem2DUpwind_meshSquareWithSquares64Cells.json', '../test_validation2DWaveSystemUpwindSquares/test_WaveSystem2DUpwind_meshSquareWithSquares1024Cells.json', '../test_validation2DWaveSystemUpwindSquares/test_WaveSystem2DUpwind_meshSquareWithSquares256Cells.json', '../test_validation3DWaveSystemUpwindTetrahedra/test_WaveSystem3DUpwind_CubeWithTetrahedra55566Cells.json', '../test_validation3DWaveSystemUpwindTetrahedra/test_WaveSystem3DUpwind_CubeWithTetrahedra7986Cells.json', '../test_validation3DWaveSystemUpwindTetrahedra/test_WaveSystem3DUpwind_CubeWithTetrahedra750Cells.json', '../test_validation3DWaveSystemUpwindTetrahedra/test_WaveSystem3DUpwind_CubeWithTetrahedra105456Cells.json', '../test_validation2DPoissonVF_loc_ref/test_Poisson2D_VF_2560Cells.json', '../test_validation2DPoissonVF_loc_ref/test_Poisson2D_VF_160Cells.json', '../test_validation2DPoissonVF_loc_ref/test_Poisson2D_VF_640Cells.json', '../test_validation2DPoissonVF_loc_ref/test_Poisson2D_VF_10240Cells.json', '../test_validation2DPoissonVF_loc_ref/test_Poisson2D_VF_163840Cells.json', '../test_validation2DPoissonVF_loc_ref/test_Poisson2D_VF_40Cells.json', '../test_validation2DPoissonVF_loc_ref/test_Poisson2D_VF_40960Cells.json', '../test_validation2DPoissonVF_squares/test_Poisson2D_VF_256Cells.json', '../test_validation2DPoissonVF_squares/test_Poisson2D_VF_1024Cells.json', '../test_validation2DPoissonVF_squares/test_Poisson2D_VF_4096Cells.json', '../test_validation2DPoissonVF_squares/test_Poisson2D_VF_16Cells.json', '../test_validation2DPoissonVF_squares/test_Poisson2D_VF_64Cells.json', '../test_validation2DWaveSystemPStagSquares/test_WaveSystem2DPStag_SquareWithSquares64Cells.json', '../test_validation2DWaveSystemPStagSquares/test_WaveSystem2DPStag_SquareWithSquares16Cells.json', '../test_validation2DWaveSystemPStagSquares/test_WaveSystem2DPStag_SquareWithSquares256Cells.json', '../test_validation2DWaveSystemPStagSquares/test_WaveSystem2DPStag_SquareWithSquares1024Cells.json', '../test_validation2DWaveSystemPStagSquares/test_WaveSystem2DPStag_SquareWithSquares4096Cells.json', '../test_validation3DWaveSystemUpwindCubes/test_WaveSystem3DUpwind_CubeWithCubes216Cells.json', '../test_validation3DWaveSystemUpwindCubes/test_WaveSystem3DUpwind_CubeWithCubes9261Cells.json', '../test_validation3DWaveSystemUpwindCubes/test_WaveSystem3DUpwind_CubeWithCubes1331Cells.json', '../test_validation2DPoissonVF_checkerboard/test_Poisson2D_VF_2560Cells.json', '../test_validation2DPoissonVF_checkerboard/test_Poisson2D_VF_160Cells.json', '../test_validation2DPoissonVF_checkerboard/test_Poisson2D_VF_640Cells.json', '../test_validation2DPoissonVF_checkerboard/test_Poisson2D_VF_10240Cells.json', '../test_validation2DPoissonVF_checkerboard/test_Poisson2D_VF_40Cells.json', '../test_validation2DPoissonVF_checkerboard/test_Poisson2D_VF_40960Cells.json', '../test_validation2DPoissonVF_triangles/test_Poisson2D_VF_6422Cells.json', '../test_validation2DPoissonVF_triangles/test_Poisson2D_VF_224Cells.json', '../test_validation2DPoissonVF_triangles/test_Poisson2D_VF_25872Cells.json', '../test_validation2DPoissonVF_triangles/test_Poisson2D_VF_40Cells.json', '../test_validation2DPoissonVF_triangles/test_Poisson2D_VF_934Cells.json', '../test_validation2DWaveSystemPStagTriangles/test_WaveSystem2DPStag_SquareWithTriangles6422Cells.json', '../test_validation2DWaveSystemPStagTriangles/test_WaveSystem2DPStag_SquareWithTriangles224Cells.json', '../test_validation2DWaveSystemPStagTriangles/test_WaveSystem2DPStag_SquareWithTriangles40Cells.json', '../test_validation2DWaveSystemPStagTriangles/test_WaveSystem2DPStag_SquareWithTriangles934Cells.json', '../test_validation2DWaveSystemUpwindHexagons/test_WaveSystem2DUpwind_squareWithHexagons255Cells.json', '../test_validation2DWaveSystemUpwindHexagons/test_WaveSystem2DUpwind_squareWithHexagons25Cells.json', '../test_validation2DWaveSystemUpwindHexagons/test_WaveSystem2DUpwind_squareWithHexagons1020Cells.json', '../test_validation2DWaveSystemUpwindHexagons/test_WaveSystem2DUpwind_squareWithHexagons2850Cells.json', '../test_validation2DPoissonVF_deformedQuadrangles/test_Poisson2D_VF_256Cells.json', '../test_validation2DPoissonVF_deformedQuadrangles/test_Poisson2D_VF_16384Cells.json', '../test_validation2DPoissonVF_deformedQuadrangles/test_Poisson2D_VF_1024Cells.json', '../test_validation2DPoissonVF_deformedQuadrangles/test_Poisson2D_VF_4096Cells.json', '../test_validation2DPoissonVF_deformedQuadrangles/test_Poisson2D_VF_16Cells.json', '../test_validation2DPoissonVF_deformedQuadrangles/test_Poisson2D_VF_64Cells.json', '../test_validation2DPoissonVF_deformedQuadrangles/test_Poisson2D_VF_65536Cells.json', '../test_validation2DWaveSystemUpwindCheckerboard/test_WaveSystem2DUpwind_squareWithCheckerboard40Cells.json', '../test_validation2DWaveSystemUpwindCheckerboard/test_WaveSystem2DUpwind_squareWithCheckerboard2560Cells.json', '../test_validation2DWaveSystemUpwindCheckerboard/test_WaveSystem2DUpwind_squareWithCheckerboard160Cells.json', '../test_validation2DWaveSystemUpwindCheckerboard/test_WaveSystem2DUpwind_squareWithCheckerboard640Cells.json']\n",
      "will be imported\n"
     ]
    }
   ],
   "source": [
    "convergence_files = glob.glob('../*/Convergence_*.json')\n",
    "\n",
    "print(\"The following convergence description files : \")\n",
    "print(description_files)\n",
    "print(\"will be imported\")"
   ]
  },
  {
   "cell_type": "code",
   "execution_count": 59,
   "metadata": {},
   "outputs": [
    {
     "name": "stdout",
     "output_type": "stream",
     "text": [
      "convergence json files have been imported\n"
     ]
    }
   ],
   "source": [
    "# Let's import all json files into a list of dictionaries\n",
    "convergence_descriptions = []\n",
    "\n",
    "for file_name in convergence_files:\n",
    "    with open(file_name, 'r') as fd:\n",
    "        convergence_descriptions.append(json.load(fd))\n",
    "\n",
    "print(\"convergence json files have been imported\")"
   ]
  },
  {
   "cell_type": "code",
   "execution_count": 60,
   "metadata": {},
   "outputs": [
    {
     "name": "stdout",
     "output_type": "stream",
     "text": [
      "The convergence pandas dataframe has been created\n",
      "Printing the columns of the dataframe : these are the parameters of the database\n",
      "Index([u'Boundary_conditions', u'Computational_time', u'Condition_numbers',\n",
      "       u'Errors', u'Final_time', u'Final_time_step', u'Geometry',\n",
      "       u'Global_comment', u'Global_name', u'Initial_data', u'Max_vel_norm',\n",
      "       u'Mesh_cell_type', u'Mesh_description', u'Mesh_dimension',\n",
      "       u'Mesh_is_unstructured', u'Mesh_names', u'Mesh_path', u'Mesh_sizes',\n",
      "       u'Mesh_type', u'Numerical_error_pressure', u'Numerical_error_velocity',\n",
      "       u'Numerical_method_name', u'Numerical_method_space_discretization',\n",
      "       u'Numerical_method_time_discretization', u'Numerical_parameter_cfl',\n",
      "       u'PDE_is_stationary', u'PDE_model',\n",
      "       u'PDE_search_for_stationary_solution',\n",
      "       u'Part_of_mesh_convergence_analysis', u'Scaling_preconditioner',\n",
      "       u'Scheme_order', u'Scheme_order_press', u'Scheme_order_vel',\n",
      "       u'Space_dimension', u'Test_color'],\n",
      "      dtype='object')\n"
     ]
    }
   ],
   "source": [
    "# Let's create a pandas dataframe out of the convergence dictionary\n",
    "df_convergence = pd.DataFrame(convergence_descriptions)\n",
    "print(\"The convergence pandas dataframe has been created\")\n",
    "df_convergence.sort_values(by=['PDE_model','Numerical_method_name','Mesh_dimension','Mesh_type','Mesh_cell_type','Test_color'], inplace=True)\n",
    "\n",
    "list_of_all_columns_convergence = df_convergence.columns\n",
    "print(\"Printing the columns of the dataframe : these are the parameters of the database\")\n",
    "pp.pprint(list_of_all_columns_convergence)"
   ]
  },
  {
   "cell_type": "code",
   "execution_count": 61,
   "metadata": {},
   "outputs": [
    {
     "data": {
      "application/vnd.jupyter.widget-view+json": {
       "model_id": "fb2277edaab648bfafd2a28c1ba8d411",
       "version_major": 2,
       "version_minor": 0
      },
      "text/plain": [
       "QgridWidget(grid_options={'defaultColumnWidth': 150, 'highlightSelectedRow': True, 'enableTextSelectionOnCells…"
      ]
     },
     "metadata": {},
     "output_type": "display_data"
    }
   ],
   "source": [
    "# Extract the most interesting column from df_convergence into a second dataframe df2_convergence\n",
    "df2_convergence=df_convergence[['PDE_model','Numerical_method_name','Mesh_dimension','Mesh_type','Scheme_order','Mesh_cell_type','Test_color','Computational_time']]\n",
    "\n",
    "# Let's create a jupyter table widget from the convergenc dataframe\n",
    "qgrid_widget_convergence=qgrid.show_grid(df2_convergence, grid_options=gopt, show_toolbar=False)\n",
    "\n",
    "# let's output this widget\n",
    "qgrid_widget_convergence\n"
   ]
  },
  {
   "cell_type": "code",
   "execution_count": 62,
   "metadata": {},
   "outputs": [
    {
     "name": "stdout",
     "output_type": "stream",
     "text": [
      "Done writing file Convergence_table_all.xlsx\n",
      "Done writing file Convergence_table_short.xlsx\n"
     ]
    }
   ],
   "source": [
    "#Now export convergence study table\n",
    "df_convergence.to_csv('Convergence_table_all.csv')#Saving using csv format\n",
    "output_file_name='Convergence_table_all.xlsx'\n",
    "writer = pd.ExcelWriter(output_file_name)\n",
    "df_convergence.to_excel(writer,'Sheet1')\n",
    "writer.save()#Saving using excel format\n",
    "print(\"Done writing file \"+output_file_name)\n",
    "\n",
    "df2_convergence.to_csv('Convergence_table_short.csv')#Saving using csv format\n",
    "df2_convergence.to_latex('Convergence_table_short.tex')#Saving using latex format\n",
    "output_file_name='Convergence_table_short.xlsx'\n",
    "writer = pd.ExcelWriter(output_file_name)\n",
    "df2_convergence.to_excel(writer,'Sheet1')\n",
    "writer.save()#Saving using excel format\n",
    "print(\"Done writing file \"+output_file_name)"
   ]
  }
 ],
 "metadata": {
  "kernelspec": {
   "display_name": "Python 2",
   "language": "python",
   "name": "python2"
  },
  "language_info": {
   "codemirror_mode": {
    "name": "ipython",
    "version": 2
   },
   "file_extension": ".py",
   "mimetype": "text/x-python",
   "name": "python",
   "nbconvert_exporter": "python",
   "pygments_lexer": "ipython2",
   "version": "2.7.15"
  },
  "widgets": {
   "application/vnd.jupyter.widget-state+json": {
    "state": {
     "4ddefd99ea614b809b7dd91882770d47": {
      "model_module": "qgrid",
      "model_module_version": "1.1.1",
      "model_name": "QgridModel",
      "state": {
       "_columns": {
        "Global_name": {
         "cssClass": "string",
         "defaultSortAsc": true,
         "editable": true,
         "field": "Global_name",
         "id": "Global_name",
         "minWidth": 30,
         "name": "Global_name",
         "position": 10,
         "resizable": true,
         "sortable": true,
         "toolTip": "",
         "type": "string"
        },
        "Mesh_cell_type": {
         "cssClass": "string",
         "defaultSortAsc": true,
         "editable": true,
         "field": "Mesh_cell_type",
         "id": "Mesh_cell_type",
         "minWidth": 30,
         "name": "Mesh_cell_type",
         "position": 7,
         "resizable": true,
         "sortable": true,
         "toolTip": "",
         "type": "string"
        },
        "Mesh_dimension": {
         "cssClass": "integer",
         "defaultSortAsc": true,
         "editable": true,
         "field": "Mesh_dimension",
         "id": "Mesh_dimension",
         "minWidth": 30,
         "name": "Mesh_dimension",
         "position": 5,
         "resizable": true,
         "sortable": true,
         "toolTip": "",
         "type": "integer"
        },
        "Mesh_number_of_elements": {
         "cssClass": "integer",
         "defaultSortAsc": true,
         "editable": true,
         "field": "Mesh_number_of_elements",
         "id": "Mesh_number_of_elements",
         "minWidth": 30,
         "name": "Mesh_number_of_elements",
         "position": 9,
         "resizable": true,
         "sortable": true,
         "toolTip": "",
         "type": "integer"
        },
        "Mesh_type": {
         "cssClass": "string",
         "defaultSortAsc": true,
         "editable": true,
         "field": "Mesh_type",
         "id": "Mesh_type",
         "minWidth": 30,
         "name": "Mesh_type",
         "position": 6,
         "resizable": true,
         "sortable": true,
         "toolTip": "",
         "type": "string"
        },
        "Numerical_method_name": {
         "cssClass": "string",
         "defaultSortAsc": true,
         "editable": true,
         "field": "Numerical_method_name",
         "id": "Numerical_method_name",
         "minWidth": 30,
         "name": "Numerical_method_name",
         "position": 4,
         "resizable": true,
         "sortable": true,
         "toolTip": "",
         "type": "string"
        },
        "Numerical_method_space_discretization": {
         "cssClass": "string",
         "defaultSortAsc": true,
         "editable": true,
         "field": "Numerical_method_space_discretization",
         "id": "Numerical_method_space_discretization",
         "minWidth": 30,
         "name": "Numerical_method_space_discretization",
         "position": 3,
         "resizable": true,
         "sortable": true,
         "toolTip": "",
         "type": "string"
        },
        "PDE_model": {
         "cssClass": "string",
         "defaultSortAsc": true,
         "editable": true,
         "field": "PDE_model",
         "id": "PDE_model",
         "minWidth": 30,
         "name": "PDE_model",
         "position": 2,
         "resizable": true,
         "sortable": true,
         "toolTip": "",
         "type": "string"
        },
        "Test_color": {
         "cssClass": "string",
         "defaultSortAsc": true,
         "editable": true,
         "field": "Test_color",
         "id": "Test_color",
         "minWidth": 30,
         "name": "Test_color",
         "position": 8,
         "resizable": true,
         "sortable": true,
         "toolTip": "",
         "type": "string"
        },
        "index": {
         "cssClass": "integer first-idx-col idx-col",
         "defaultSortAsc": true,
         "editable": true,
         "field": "index",
         "first_index": true,
         "id": "index",
         "index_display_text": "",
         "is_index": true,
         "level": 0,
         "minWidth": 30,
         "name": "",
         "position": 0,
         "resizable": true,
         "sortable": true,
         "toolTip": "",
         "type": "integer"
        },
        "qgrid_unfiltered_index": {
         "cssClass": "integer",
         "defaultSortAsc": true,
         "editable": true,
         "field": "qgrid_unfiltered_index",
         "id": "qgrid_unfiltered_index",
         "maxWidth": null,
         "minWidth": 30,
         "name": "qgrid_unfiltered_index",
         "position": 1,
         "resizable": true,
         "sortable": true,
         "toolTip": "",
         "type": "integer",
         "width": null
        }
       },
       "_df_json": "{\"schema\": {\"fields\":[{\"type\":\"integer\",\"name\":\"index\"},{\"type\":\"integer\",\"name\":\"qgrid_unfiltered_index\"},{\"type\":\"string\",\"name\":\"PDE_model\"},{\"type\":\"string\",\"name\":\"Numerical_method_space_discretization\"},{\"type\":\"string\",\"name\":\"Numerical_method_name\"},{\"type\":\"integer\",\"name\":\"Mesh_dimension\"},{\"type\":\"string\",\"name\":\"Mesh_type\"},{\"type\":\"string\",\"name\":\"Mesh_cell_type\"},{\"type\":\"string\",\"name\":\"Test_color\"},{\"type\":\"integer\",\"name\":\"Mesh_number_of_elements\"},{\"type\":\"string\",\"name\":\"Global_name\"}],\"pandas_version\":\"0.20.0\",\"primaryKey\":[\"index\"]}, \"data\": [{\"index\":0,\"qgrid_unfiltered_index\":0,\"PDE_model\":\"Poisson\",\"Numerical_method_space_discretization\":\"Finite volumes\",\"Numerical_method_name\":\"VF5\",\"Mesh_dimension\":3,\"Mesh_type\":\"Regular cubes\",\"Mesh_cell_type\":\"Hexahedra \",\"Test_color\":\"Green\",\"Mesh_number_of_elements\":9261,\"Global_name\":\"FV simulation of the 3D Poisson equation\"},{\"index\":1,\"qgrid_unfiltered_index\":1,\"PDE_model\":\"Poisson\",\"Numerical_method_space_discretization\":\"Finite volumes\",\"Numerical_method_name\":\"VF5\",\"Mesh_dimension\":3,\"Mesh_type\":\"Regular cubes\",\"Mesh_cell_type\":\"Hexahedra \",\"Test_color\":\"Green\",\"Mesh_number_of_elements\":68921,\"Global_name\":\"FV simulation of the 3D Poisson equation\"},{\"index\":2,\"qgrid_unfiltered_index\":2,\"PDE_model\":\"Poisson\",\"Numerical_method_space_discretization\":\"Finite volumes\",\"Numerical_method_name\":\"VF5\",\"Mesh_dimension\":3,\"Mesh_type\":\"Regular cubes\",\"Mesh_cell_type\":\"Hexahedra \",\"Test_color\":\"Green\",\"Mesh_number_of_elements\":1331,\"Global_name\":\"FV simulation of the 3D Poisson equation\"},{\"index\":3,\"qgrid_unfiltered_index\":3,\"PDE_model\":\"Wave system\",\"Numerical_method_space_discretization\":\"Finite volumes\",\"Numerical_method_name\":\"Upwind\",\"Mesh_dimension\":2,\"Mesh_type\":\"Unstructured triangles\",\"Mesh_cell_type\":\"Triangles \",\"Test_color\":\"Green\",\"Mesh_number_of_elements\":104420,\"Global_name\":\"Resolution of the Wave system in dimension 3 on 104420 cells\"},{\"index\":4,\"qgrid_unfiltered_index\":4,\"PDE_model\":\"Wave system\",\"Numerical_method_space_discretization\":\"Finite volumes\",\"Numerical_method_name\":\"Upwind\",\"Mesh_dimension\":2,\"Mesh_type\":\"Unstructured triangles\",\"Mesh_cell_type\":\"Triangles \",\"Test_color\":\"Green\",\"Mesh_number_of_elements\":224,\"Global_name\":\"Resolution of the Wave system in dimension 3 on 224 cells\"},{\"index\":5,\"qgrid_unfiltered_index\":5,\"PDE_model\":\"Wave system\",\"Numerical_method_space_discretization\":\"Finite volumes\",\"Numerical_method_name\":\"Upwind\",\"Mesh_dimension\":2,\"Mesh_type\":\"Unstructured triangles\",\"Mesh_cell_type\":\"Triangles \",\"Test_color\":\"Green\",\"Mesh_number_of_elements\":40,\"Global_name\":\"Resolution of the Wave system in dimension 3 on 40 cells\"},{\"index\":6,\"qgrid_unfiltered_index\":6,\"PDE_model\":\"Wave system\",\"Numerical_method_space_discretization\":\"Finite volumes\",\"Numerical_method_name\":\"Upwind\",\"Mesh_dimension\":2,\"Mesh_type\":\"Unstructured triangles\",\"Mesh_cell_type\":\"Triangles \",\"Test_color\":\"Green\",\"Mesh_number_of_elements\":6422,\"Global_name\":\"Resolution of the Wave system in dimension 3 on 6422 cells\"},{\"index\":7,\"qgrid_unfiltered_index\":7,\"PDE_model\":\"Wave system\",\"Numerical_method_space_discretization\":\"Finite volumes\",\"Numerical_method_name\":\"Upwind\",\"Mesh_dimension\":2,\"Mesh_type\":\"Unstructured triangles\",\"Mesh_cell_type\":\"Triangles \",\"Test_color\":\"Green\",\"Mesh_number_of_elements\":25872,\"Global_name\":\"Resolution of the Wave system in dimension 3 on 25872 cells\"},{\"index\":8,\"qgrid_unfiltered_index\":8,\"PDE_model\":\"Wave system\",\"Numerical_method_space_discretization\":\"Finite volumes\",\"Numerical_method_name\":\"Upwind\",\"Mesh_dimension\":2,\"Mesh_type\":\"Unstructured triangles\",\"Mesh_cell_type\":\"Triangles \",\"Test_color\":\"Green\",\"Mesh_number_of_elements\":934,\"Global_name\":\"Resolution of the Wave system in dimension 3 on 934 cells\"},{\"index\":9,\"qgrid_unfiltered_index\":9,\"PDE_model\":\"Poisson\",\"Numerical_method_space_discretization\":\"Finite elements\",\"Numerical_method_name\":\"P1 FE\",\"Mesh_dimension\":2,\"Mesh_type\":\"Unstructured 3D triangles\",\"Mesh_cell_type\":\"Triangles \",\"Test_color\":\"Green\",\"Mesh_number_of_elements\":288,\"Global_name\":\"FE simulation of the Poisson equation on a sphere\"},{\"index\":10,\"qgrid_unfiltered_index\":10,\"PDE_model\":\"Poisson\",\"Numerical_method_space_discretization\":\"Finite elements\",\"Numerical_method_name\":\"P1 FE\",\"Mesh_dimension\":2,\"Mesh_type\":\"Unstructured 3D triangles\",\"Mesh_cell_type\":\"Triangles \",\"Test_color\":\"Green\",\"Mesh_number_of_elements\":10773,\"Global_name\":\"FE simulation of the Poisson equation on a sphere\"},{\"index\":11,\"qgrid_unfiltered_index\":11,\"PDE_model\":\"Poisson\",\"Numerical_method_space_discretization\":\"Finite elements\",\"Numerical_method_name\":\"P1 FE\",\"Mesh_dimension\":2,\"Mesh_type\":\"Unstructured 3D triangles\",\"Mesh_cell_type\":\"Triangles \",\"Test_color\":\"Green\",\"Mesh_number_of_elements\":1124,\"Global_name\":\"FE simulation of the Poisson equation on a sphere\"},{\"index\":12,\"qgrid_unfiltered_index\":12,\"PDE_model\":\"Poisson\",\"Numerical_method_space_discretization\":\"Finite elements\",\"Numerical_method_name\":\"P1 FE\",\"Mesh_dimension\":2,\"Mesh_type\":\"Unstructured 3D triangles\",\"Mesh_cell_type\":\"Triangles \",\"Test_color\":\"Green\",\"Mesh_number_of_elements\":2638,\"Global_name\":\"FE simulation of the Poisson equation on a sphere\"},{\"index\":13,\"qgrid_unfiltered_index\":13,\"PDE_model\":\"Poisson\",\"Numerical_method_space_discretization\":\"Finite elements\",\"Numerical_method_name\":\"P1 FE\",\"Mesh_dimension\":2,\"Mesh_type\":\"Unstructured 3D triangles\",\"Mesh_cell_type\":\"Triangles \",\"Test_color\":\"Green\",\"Mesh_number_of_elements\":4512,\"Global_name\":\"FE simulation of the Poisson equation on a sphere\"},{\"index\":14,\"qgrid_unfiltered_index\":14,\"PDE_model\":\"Wave system\",\"Numerical_method_space_discretization\":\"Finite volumes\",\"Numerical_method_name\":\"Upwind\",\"Mesh_dimension\":2,\"Mesh_type\":\"Regular squares\",\"Mesh_cell_type\":\"Quadrangles \",\"Test_color\":\"Green\",\"Mesh_number_of_elements\":6561,\"Global_name\":\"Resolution of the Wave system in dimension 2 on 6561 cells\"},{\"index\":15,\"qgrid_unfiltered_index\":15,\"PDE_model\":\"Wave system\",\"Numerical_method_space_discretization\":\"Finite volumes\",\"Numerical_method_name\":\"Upwind\",\"Mesh_dimension\":2,\"Mesh_type\":\"Regular squares\",\"Mesh_cell_type\":\"Quadrangles \",\"Test_color\":\"Green\",\"Mesh_number_of_elements\":225,\"Global_name\":\"Resolution of the Wave system in dimension 2 on 225 cells\"},{\"index\":16,\"qgrid_unfiltered_index\":16,\"PDE_model\":\"Wave system\",\"Numerical_method_space_discretization\":\"Finite volumes\",\"Numerical_method_name\":\"Upwind\",\"Mesh_dimension\":2,\"Mesh_type\":\"Regular squares\",\"Mesh_cell_type\":\"Quadrangles \",\"Test_color\":\"Green\",\"Mesh_number_of_elements\":49,\"Global_name\":\"Resolution of the Wave system in dimension 2 on 49 cells\"},{\"index\":17,\"qgrid_unfiltered_index\":17,\"PDE_model\":\"Wave system\",\"Numerical_method_space_discretization\":\"Finite volumes\",\"Numerical_method_name\":\"Upwind\",\"Mesh_dimension\":2,\"Mesh_type\":\"Regular squares\",\"Mesh_cell_type\":\"Quadrangles \",\"Test_color\":\"Green\",\"Mesh_number_of_elements\":961,\"Global_name\":\"Resolution of the Wave system in dimension 2 on 961 cells\"},{\"index\":18,\"qgrid_unfiltered_index\":18,\"PDE_model\":\"Wave system\",\"Numerical_method_space_discretization\":\"Finite volumes\",\"Numerical_method_name\":\"Upwind\",\"Mesh_dimension\":2,\"Mesh_type\":\"Regular squares\",\"Mesh_cell_type\":\"Quadrangles \",\"Test_color\":\"Green\",\"Mesh_number_of_elements\":2601,\"Global_name\":\"Resolution of the Wave system in dimension 2 on 2601 cells\"},{\"index\":19,\"qgrid_unfiltered_index\":19,\"PDE_model\":\"Poisson\",\"Numerical_method_space_discretization\":\"Finite volumes\",\"Numerical_method_name\":\"VF5\",\"Mesh_dimension\":3,\"Mesh_type\":\"Unstructured tetrahedra\",\"Mesh_cell_type\":\"Tetrahedra \",\"Test_color\":\"Green\",\"Mesh_number_of_elements\":16834,\"Global_name\":\"FV simulation of the 3D Poisson equation\"},{\"index\":20,\"qgrid_unfiltered_index\":20,\"PDE_model\":\"Poisson\",\"Numerical_method_space_discretization\":\"Finite volumes\",\"Numerical_method_name\":\"VF5\",\"Mesh_dimension\":3,\"Mesh_type\":\"Unstructured tetrahedra\",\"Mesh_cell_type\":\"Tetrahedra \",\"Test_color\":\"Green\",\"Mesh_number_of_elements\":28561,\"Global_name\":\"FV simulation of the 3D Poisson equation\"},{\"index\":21,\"qgrid_unfiltered_index\":21,\"PDE_model\":\"Poisson\",\"Numerical_method_space_discretization\":\"Finite volumes\",\"Numerical_method_name\":\"VF5\",\"Mesh_dimension\":3,\"Mesh_type\":\"Unstructured tetrahedra\",\"Mesh_cell_type\":\"Tetrahedra \",\"Test_color\":\"Green\",\"Mesh_number_of_elements\":63249,\"Global_name\":\"FV simulation of the 3D Poisson equation\"},{\"index\":22,\"qgrid_unfiltered_index\":22,\"PDE_model\":\"Poisson\",\"Numerical_method_space_discretization\":\"Finite volumes\",\"Numerical_method_name\":\"VF5\",\"Mesh_dimension\":3,\"Mesh_type\":\"Unstructured tetrahedra\",\"Mesh_cell_type\":\"Tetrahedra \",\"Test_color\":\"Green\",\"Mesh_number_of_elements\":7629,\"Global_name\":\"FV simulation of the 3D Poisson equation\"},{\"index\":23,\"qgrid_unfiltered_index\":23,\"PDE_model\":\"Poisson\",\"Numerical_method_space_discretization\":\"Finite volumes\",\"Numerical_method_name\":\"VF5\",\"Mesh_dimension\":3,\"Mesh_type\":\"Unstructured tetrahedra\",\"Mesh_cell_type\":\"Tetrahedra \",\"Test_color\":\"Green\",\"Mesh_number_of_elements\":270,\"Global_name\":\"FV simulation of the 3D Poisson equation\"},{\"index\":24,\"qgrid_unfiltered_index\":24,\"PDE_model\":\"Poisson\",\"Numerical_method_space_discretization\":\"Finite volumes\",\"Numerical_method_name\":\"VF5\",\"Mesh_dimension\":3,\"Mesh_type\":\"Unstructured tetrahedra\",\"Mesh_cell_type\":\"Tetrahedra \",\"Test_color\":\"Green\",\"Mesh_number_of_elements\":4077,\"Global_name\":\"FV simulation of the 3D Poisson equation\"},{\"index\":25,\"qgrid_unfiltered_index\":25,\"PDE_model\":\"Poisson\",\"Numerical_method_space_discretization\":\"Finite volumes\",\"Numerical_method_name\":\"VF5\",\"Mesh_dimension\":3,\"Mesh_type\":\"Unstructured tetrahedra\",\"Mesh_cell_type\":\"Tetrahedra \",\"Test_color\":\"Green\",\"Mesh_number_of_elements\":2081,\"Global_name\":\"FV simulation of the 3D Poisson equation\"},{\"index\":26,\"qgrid_unfiltered_index\":26,\"PDE_model\":\"Wave system\",\"Numerical_method_space_discretization\":\"Finite volumes\",\"Numerical_method_name\":\"Upwind\",\"Mesh_dimension\":3,\"Mesh_type\":\"Regular tetrahedra\",\"Mesh_cell_type\":\"Tetrahedra \",\"Test_color\":\"Green\",\"Mesh_number_of_elements\":750,\"Global_name\":\"Resolution of the Wave system in dimension 3 on 750 cells\"},{\"index\":27,\"qgrid_unfiltered_index\":27,\"PDE_model\":\"Wave system\",\"Numerical_method_space_discretization\":\"Finite volumes\",\"Numerical_method_name\":\"Upwind\",\"Mesh_dimension\":3,\"Mesh_type\":\"Regular tetrahedra\",\"Mesh_cell_type\":\"Tetrahedra \",\"Test_color\":\"Green\",\"Mesh_number_of_elements\":7986,\"Global_name\":\"Resolution of the Wave system in dimension 3 on 7986 cells\"},{\"index\":28,\"qgrid_unfiltered_index\":28,\"PDE_model\":\"Wave system\",\"Numerical_method_space_discretization\":\"Finite volumes\",\"Numerical_method_name\":\"Upwind\",\"Mesh_dimension\":3,\"Mesh_type\":\"Regular tetrahedra\",\"Mesh_cell_type\":\"Tetrahedra \",\"Test_color\":\"Green\",\"Mesh_number_of_elements\":55566,\"Global_name\":\"Resolution of the Wave system in dimension 3 on 55566 cells\"},{\"index\":29,\"qgrid_unfiltered_index\":29,\"PDE_model\":\"Wave system\",\"Numerical_method_space_discretization\":\"Finite volumes\",\"Numerical_method_name\":\"Upwind\",\"Mesh_dimension\":3,\"Mesh_type\":\"Regular tetrahedra\",\"Mesh_cell_type\":\"Tetrahedra \",\"Test_color\":\"Green\",\"Mesh_number_of_elements\":105456,\"Global_name\":\"Resolution of the Wave system in dimension 3 on 105456 cells\"},{\"index\":30,\"qgrid_unfiltered_index\":30,\"PDE_model\":\"Poisson\",\"Numerical_method_space_discretization\":\"Finite volumes\",\"Numerical_method_name\":\"VF5\",\"Mesh_dimension\":2,\"Mesh_type\":\"Non conforming cartesian locally refined\",\"Mesh_cell_type\":\"Quadrangles Polygons \",\"Test_color\":\"Green\",\"Mesh_number_of_elements\":2560,\"Global_name\":\"FV simulation of the 2D Poisson equation\"},{\"index\":31,\"qgrid_unfiltered_index\":31,\"PDE_model\":\"Poisson\",\"Numerical_method_space_discretization\":\"Finite volumes\",\"Numerical_method_name\":\"VF5\",\"Mesh_dimension\":2,\"Mesh_type\":\"Non conforming cartesian locally refined\",\"Mesh_cell_type\":\"Quadrangles Polygons \",\"Test_color\":\"Green\",\"Mesh_number_of_elements\":40,\"Global_name\":\"FV simulation of the 2D Poisson equation\"},{\"index\":32,\"qgrid_unfiltered_index\":32,\"PDE_model\":\"Poisson\",\"Numerical_method_space_discretization\":\"Finite volumes\",\"Numerical_method_name\":\"VF5\",\"Mesh_dimension\":2,\"Mesh_type\":\"Non conforming cartesian locally refined\",\"Mesh_cell_type\":\"Quadrangles Polygons \",\"Test_color\":\"Green\",\"Mesh_number_of_elements\":640,\"Global_name\":\"FV simulation of the 2D Poisson equation\"},{\"index\":33,\"qgrid_unfiltered_index\":33,\"PDE_model\":\"Poisson\",\"Numerical_method_space_discretization\":\"Finite volumes\",\"Numerical_method_name\":\"VF5\",\"Mesh_dimension\":2,\"Mesh_type\":\"Non conforming cartesian locally refined\",\"Mesh_cell_type\":\"Quadrangles Polygons \",\"Test_color\":\"Green\",\"Mesh_number_of_elements\":160,\"Global_name\":\"FV simulation of the 2D Poisson equation\"},{\"index\":34,\"qgrid_unfiltered_index\":34,\"PDE_model\":\"Poisson\",\"Numerical_method_space_discretization\":\"Finite volumes\",\"Numerical_method_name\":\"VF5\",\"Mesh_dimension\":2,\"Mesh_type\":\"Non conforming cartesian locally refined\",\"Mesh_cell_type\":\"Quadrangles Polygons \",\"Test_color\":\"Green\",\"Mesh_number_of_elements\":10240,\"Global_name\":\"FV simulation of the 2D Poisson equation\"},{\"index\":35,\"qgrid_unfiltered_index\":35,\"PDE_model\":\"Poisson\",\"Numerical_method_space_discretization\":\"Finite volumes\",\"Numerical_method_name\":\"VF5\",\"Mesh_dimension\":2,\"Mesh_type\":\"Non conforming cartesian locally refined\",\"Mesh_cell_type\":\"Quadrangles Polygons \",\"Test_color\":\"Green\",\"Mesh_number_of_elements\":163840,\"Global_name\":\"FV simulation of the 2D Poisson equation\"},{\"index\":36,\"qgrid_unfiltered_index\":36,\"PDE_model\":\"Poisson\",\"Numerical_method_space_discretization\":\"Finite volumes\",\"Numerical_method_name\":\"VF5\",\"Mesh_dimension\":2,\"Mesh_type\":\"Non conforming cartesian locally refined\",\"Mesh_cell_type\":\"Quadrangles Polygons \",\"Test_color\":\"Green\",\"Mesh_number_of_elements\":40960,\"Global_name\":\"FV simulation of the 2D Poisson equation\"},{\"index\":37,\"qgrid_unfiltered_index\":37,\"PDE_model\":\"Poisson\",\"Numerical_method_space_discretization\":\"Finite elements\",\"Numerical_method_name\":\"P1 FE\",\"Mesh_dimension\":2,\"Mesh_type\":\"Unstructured triangles\",\"Mesh_cell_type\":\"Triangles \",\"Test_color\":\"Green\",\"Mesh_number_of_elements\":131,\"Global_name\":\"FE simulation of the 2D Poisson equation\"},{\"index\":38,\"qgrid_unfiltered_index\":38,\"PDE_model\":\"Poisson\",\"Numerical_method_space_discretization\":\"Finite elements\",\"Numerical_method_name\":\"P1 FE\",\"Mesh_dimension\":2,\"Mesh_type\":\"Unstructured triangles\",\"Mesh_cell_type\":\"Triangles \",\"Test_color\":\"Green\",\"Mesh_number_of_elements\":29,\"Global_name\":\"FE simulation of the 2D Poisson equation\"},{\"index\":39,\"qgrid_unfiltered_index\":39,\"PDE_model\":\"Poisson\",\"Numerical_method_space_discretization\":\"Finite elements\",\"Numerical_method_name\":\"P1 FE\",\"Mesh_dimension\":2,\"Mesh_type\":\"Unstructured triangles\",\"Mesh_cell_type\":\"Triangles \",\"Test_color\":\"Green\",\"Mesh_number_of_elements\":506,\"Global_name\":\"FE simulation of the 2D Poisson equation\"},{\"index\":40,\"qgrid_unfiltered_index\":40,\"PDE_model\":\"Poisson\",\"Numerical_method_space_discretization\":\"Finite elements\",\"Numerical_method_name\":\"P1 FE\",\"Mesh_dimension\":2,\"Mesh_type\":\"Unstructured triangles\",\"Mesh_cell_type\":\"Triangles \",\"Test_color\":\"Green\",\"Mesh_number_of_elements\":13135,\"Global_name\":\"FE simulation of the 2D Poisson equation\"},{\"index\":41,\"qgrid_unfiltered_index\":41,\"PDE_model\":\"Poisson\",\"Numerical_method_space_discretization\":\"Finite elements\",\"Numerical_method_name\":\"P1 FE\",\"Mesh_dimension\":2,\"Mesh_type\":\"Unstructured triangles\",\"Mesh_cell_type\":\"Triangles \",\"Test_color\":\"Green\",\"Mesh_number_of_elements\":3310,\"Global_name\":\"FE simulation of the 2D Poisson equation\"},{\"index\":42,\"qgrid_unfiltered_index\":42,\"PDE_model\":\"Poisson\",\"Numerical_method_space_discretization\":\"Finite volumes\",\"Numerical_method_name\":\"VF5\",\"Mesh_dimension\":2,\"Mesh_type\":\"Regular squares\",\"Mesh_cell_type\":\"Quadrangles \",\"Test_color\":\"Green\",\"Mesh_number_of_elements\":22801,\"Global_name\":\"FV simulation of the 2D Poisson equation\"},{\"index\":43,\"qgrid_unfiltered_index\":43,\"PDE_model\":\"Poisson\",\"Numerical_method_space_discretization\":\"Finite volumes\",\"Numerical_method_name\":\"VF5\",\"Mesh_dimension\":2,\"Mesh_type\":\"Regular squares\",\"Mesh_cell_type\":\"Quadrangles \",\"Test_color\":\"Green\",\"Mesh_number_of_elements\":2601,\"Global_name\":\"FV simulation of the 2D Poisson equation\"},{\"index\":44,\"qgrid_unfiltered_index\":44,\"PDE_model\":\"Poisson\",\"Numerical_method_space_discretization\":\"Finite volumes\",\"Numerical_method_name\":\"VF5\",\"Mesh_dimension\":2,\"Mesh_type\":\"Regular squares\",\"Mesh_cell_type\":\"Quadrangles \",\"Test_color\":\"Green\",\"Mesh_number_of_elements\":121,\"Global_name\":\"FV simulation of the 2D Poisson equation\"},{\"index\":45,\"qgrid_unfiltered_index\":45,\"PDE_model\":\"Poisson\",\"Numerical_method_space_discretization\":\"Finite volumes\",\"Numerical_method_name\":\"VF5\",\"Mesh_dimension\":2,\"Mesh_type\":\"Regular squares\",\"Mesh_cell_type\":\"Quadrangles \",\"Test_color\":\"Green\",\"Mesh_number_of_elements\":40401,\"Global_name\":\"FV simulation of the 2D Poisson equation\"},{\"index\":46,\"qgrid_unfiltered_index\":46,\"PDE_model\":\"Wave system\",\"Numerical_method_space_discretization\":\"Finite volumes\",\"Numerical_method_name\":\"Pseudo staggered\",\"Mesh_dimension\":2,\"Mesh_type\":\"Regular squares\",\"Mesh_cell_type\":\"Quadrangles \",\"Test_color\":\"Green\",\"Mesh_number_of_elements\":6561,\"Global_name\":\"Resolution of the Wave system in dimension 2 on 6561 cells\"},{\"index\":47,\"qgrid_unfiltered_index\":47,\"PDE_model\":\"Wave system\",\"Numerical_method_space_discretization\":\"Finite volumes\",\"Numerical_method_name\":\"Pseudo staggered\",\"Mesh_dimension\":2,\"Mesh_type\":\"Regular squares\",\"Mesh_cell_type\":\"Quadrangles \",\"Test_color\":\"Green\",\"Mesh_number_of_elements\":2601,\"Global_name\":\"Resolution of the Wave system in dimension 2 on 2601 cells\"},{\"index\":48,\"qgrid_unfiltered_index\":48,\"PDE_model\":\"Wave system\",\"Numerical_method_space_discretization\":\"Finite volumes\",\"Numerical_method_name\":\"Pseudo staggered\",\"Mesh_dimension\":2,\"Mesh_type\":\"Regular squares\",\"Mesh_cell_type\":\"Quadrangles \",\"Test_color\":\"Green\",\"Mesh_number_of_elements\":49,\"Global_name\":\"Resolution of the Wave system in dimension 2 on 49 cells\"},{\"index\":49,\"qgrid_unfiltered_index\":49,\"PDE_model\":\"Wave system\",\"Numerical_method_space_discretization\":\"Finite volumes\",\"Numerical_method_name\":\"Pseudo staggered\",\"Mesh_dimension\":2,\"Mesh_type\":\"Regular squares\",\"Mesh_cell_type\":\"Quadrangles \",\"Test_color\":\"Green\",\"Mesh_number_of_elements\":961,\"Global_name\":\"Resolution of the Wave system in dimension 2 on 961 cells\"},{\"index\":50,\"qgrid_unfiltered_index\":50,\"PDE_model\":\"Wave system\",\"Numerical_method_space_discretization\":\"Finite volumes\",\"Numerical_method_name\":\"Pseudo staggered\",\"Mesh_dimension\":2,\"Mesh_type\":\"Regular squares\",\"Mesh_cell_type\":\"Quadrangles \",\"Test_color\":\"Green\",\"Mesh_number_of_elements\":225,\"Global_name\":\"Resolution of the Wave system in dimension 2 on 225 cells\"},{\"index\":51,\"qgrid_unfiltered_index\":51,\"PDE_model\":\"Wave system\",\"Numerical_method_space_discretization\":\"Finite volumes\",\"Numerical_method_name\":\"Upwind\",\"Mesh_dimension\":3,\"Mesh_type\":\"Regular cubes\",\"Mesh_cell_type\":\"Hexahedra \",\"Test_color\":\"Green\",\"Mesh_number_of_elements\":1331,\"Global_name\":\"Resolution of the Wave system in dimension 3 on 1331 cells\"},{\"index\":52,\"qgrid_unfiltered_index\":52,\"PDE_model\":\"Wave system\",\"Numerical_method_space_discretization\":\"Finite volumes\",\"Numerical_method_name\":\"Upwind\",\"Mesh_dimension\":3,\"Mesh_type\":\"Regular cubes\",\"Mesh_cell_type\":\"Hexahedra \",\"Test_color\":\"Green\",\"Mesh_number_of_elements\":29791,\"Global_name\":\"Resolution of the Wave system in dimension 3 on 29791 cells\"},{\"index\":53,\"qgrid_unfiltered_index\":53,\"PDE_model\":\"Wave system\",\"Numerical_method_space_discretization\":\"Finite volumes\",\"Numerical_method_name\":\"Upwind\",\"Mesh_dimension\":3,\"Mesh_type\":\"Regular cubes\",\"Mesh_cell_type\":\"Hexahedra \",\"Test_color\":\"Green\",\"Mesh_number_of_elements\":9261,\"Global_name\":\"Resolution of the Wave system in dimension 3 on 9261 cells\"},{\"index\":54,\"qgrid_unfiltered_index\":54,\"PDE_model\":\"Poisson\",\"Numerical_method_space_discretization\":\"Finite volumes\",\"Numerical_method_name\":\"VF5\",\"Mesh_dimension\":2,\"Mesh_type\":\"Non conforming cartesian checkerboard\",\"Mesh_cell_type\":\"Quadrangles Polygons \",\"Test_color\":\"Orange, dark squares. PB with mesh ?\",\"Mesh_number_of_elements\":2560,\"Global_name\":\"FV simulation of the 2D Poisson equation\"},{\"index\":55,\"qgrid_unfiltered_index\":55,\"PDE_model\":\"Poisson\",\"Numerical_method_space_discretization\":\"Finite volumes\",\"Numerical_method_name\":\"VF5\",\"Mesh_dimension\":2,\"Mesh_type\":\"Non conforming cartesian checkerboard\",\"Mesh_cell_type\":\"Quadrangles Polygons \",\"Test_color\":\"Orange, dark squares. PB with mesh ?\",\"Mesh_number_of_elements\":40,\"Global_name\":\"FV simulation of the 2D Poisson equation\"},{\"index\":56,\"qgrid_unfiltered_index\":56,\"PDE_model\":\"Poisson\",\"Numerical_method_space_discretization\":\"Finite volumes\",\"Numerical_method_name\":\"VF5\",\"Mesh_dimension\":2,\"Mesh_type\":\"Non conforming cartesian checkerboard\",\"Mesh_cell_type\":\"Quadrangles Polygons \",\"Test_color\":\"Orange, dark squares. PB with mesh ?\",\"Mesh_number_of_elements\":640,\"Global_name\":\"FV simulation of the 2D Poisson equation\"},{\"index\":57,\"qgrid_unfiltered_index\":57,\"PDE_model\":\"Poisson\",\"Numerical_method_space_discretization\":\"Finite volumes\",\"Numerical_method_name\":\"VF5\",\"Mesh_dimension\":2,\"Mesh_type\":\"Non conforming cartesian checkerboard\",\"Mesh_cell_type\":\"Quadrangles Polygons \",\"Test_color\":\"Orange, dark squares. PB with mesh ?\",\"Mesh_number_of_elements\":160,\"Global_name\":\"FV simulation of the 2D Poisson equation\"},{\"index\":58,\"qgrid_unfiltered_index\":58,\"PDE_model\":\"Poisson\",\"Numerical_method_space_discretization\":\"Finite volumes\",\"Numerical_method_name\":\"VF5\",\"Mesh_dimension\":2,\"Mesh_type\":\"Non conforming cartesian checkerboard\",\"Mesh_cell_type\":\"Quadrangles Polygons \",\"Test_color\":\"Orange, dark squares. PB with mesh ?\",\"Mesh_number_of_elements\":10240,\"Global_name\":\"FV simulation of the 2D Poisson equation\"},{\"index\":59,\"qgrid_unfiltered_index\":59,\"PDE_model\":\"Poisson\",\"Numerical_method_space_discretization\":\"Finite volumes\",\"Numerical_method_name\":\"VF5\",\"Mesh_dimension\":2,\"Mesh_type\":\"Non conforming cartesian checkerboard\",\"Mesh_cell_type\":\"Quadrangles Polygons \",\"Test_color\":\"Orange, dark squares. PB with mesh ?\",\"Mesh_number_of_elements\":40960,\"Global_name\":\"FV simulation of the 2D Poisson equation\"},{\"index\":60,\"qgrid_unfiltered_index\":60,\"PDE_model\":\"Poisson\",\"Numerical_method_space_discretization\":\"Finite volumes\",\"Numerical_method_name\":\"VF5\",\"Mesh_dimension\":2,\"Mesh_type\":\"Unstructured triangles\",\"Mesh_cell_type\":\"Triangles \",\"Test_color\":\"Green\",\"Mesh_number_of_elements\":25872,\"Global_name\":\"FV simulation of the 2D Poisson equation\"},{\"index\":61,\"qgrid_unfiltered_index\":61,\"PDE_model\":\"Poisson\",\"Numerical_method_space_discretization\":\"Finite volumes\",\"Numerical_method_name\":\"VF5\",\"Mesh_dimension\":2,\"Mesh_type\":\"Unstructured triangles\",\"Mesh_cell_type\":\"Triangles \",\"Test_color\":\"Green\",\"Mesh_number_of_elements\":40,\"Global_name\":\"FV simulation of the 2D Poisson equation\"},{\"index\":62,\"qgrid_unfiltered_index\":62,\"PDE_model\":\"Poisson\",\"Numerical_method_space_discretization\":\"Finite volumes\",\"Numerical_method_name\":\"VF5\",\"Mesh_dimension\":2,\"Mesh_type\":\"Unstructured triangles\",\"Mesh_cell_type\":\"Triangles \",\"Test_color\":\"Green\",\"Mesh_number_of_elements\":934,\"Global_name\":\"FV simulation of the 2D Poisson equation\"},{\"index\":63,\"qgrid_unfiltered_index\":63,\"PDE_model\":\"Poisson\",\"Numerical_method_space_discretization\":\"Finite volumes\",\"Numerical_method_name\":\"VF5\",\"Mesh_dimension\":2,\"Mesh_type\":\"Unstructured triangles\",\"Mesh_cell_type\":\"Triangles \",\"Test_color\":\"Green\",\"Mesh_number_of_elements\":224,\"Global_name\":\"FV simulation of the 2D Poisson equation\"},{\"index\":64,\"qgrid_unfiltered_index\":64,\"PDE_model\":\"Poisson\",\"Numerical_method_space_discretization\":\"Finite volumes\",\"Numerical_method_name\":\"VF5\",\"Mesh_dimension\":2,\"Mesh_type\":\"Unstructured triangles\",\"Mesh_cell_type\":\"Triangles \",\"Test_color\":\"Green\",\"Mesh_number_of_elements\":6422,\"Global_name\":\"FV simulation of the 2D Poisson equation\"},{\"index\":65,\"qgrid_unfiltered_index\":65,\"PDE_model\":\"Poisson\",\"Numerical_method_space_discretization\":\"Finite elements\",\"Numerical_method_name\":\"P1 FE\",\"Mesh_dimension\":3,\"Mesh_type\":\"Unstructured tetrahedra\",\"Mesh_cell_type\":\"Tetrahedra \",\"Test_color\":\"Green\",\"Mesh_number_of_elements\":12465,\"Global_name\":\"FE simulation of the 3D Poisson equation\"},{\"index\":66,\"qgrid_unfiltered_index\":66,\"PDE_model\":\"Poisson\",\"Numerical_method_space_discretization\":\"Finite elements\",\"Numerical_method_name\":\"P1 FE\",\"Mesh_dimension\":3,\"Mesh_type\":\"Unstructured tetrahedra\",\"Mesh_cell_type\":\"Tetrahedra \",\"Test_color\":\"Green\",\"Mesh_number_of_elements\":1543,\"Global_name\":\"FE simulation of the 3D Poisson equation\"},{\"index\":67,\"qgrid_unfiltered_index\":67,\"PDE_model\":\"Poisson\",\"Numerical_method_space_discretization\":\"Finite elements\",\"Numerical_method_name\":\"P1 FE\",\"Mesh_dimension\":3,\"Mesh_type\":\"Unstructured tetrahedra\",\"Mesh_cell_type\":\"Tetrahedra \",\"Test_color\":\"Green\",\"Mesh_number_of_elements\":5956,\"Global_name\":\"FE simulation of the 3D Poisson equation\"},{\"index\":68,\"qgrid_unfiltered_index\":68,\"PDE_model\":\"Poisson\",\"Numerical_method_space_discretization\":\"Finite elements\",\"Numerical_method_name\":\"P1 FE\",\"Mesh_dimension\":3,\"Mesh_type\":\"Unstructured tetrahedra\",\"Mesh_cell_type\":\"Tetrahedra \",\"Test_color\":\"Green\",\"Mesh_number_of_elements\":74,\"Global_name\":\"FE simulation of the 3D Poisson equation\"},{\"index\":69,\"qgrid_unfiltered_index\":69,\"PDE_model\":\"Poisson\",\"Numerical_method_space_discretization\":\"Finite elements\",\"Numerical_method_name\":\"P1 FE\",\"Mesh_dimension\":3,\"Mesh_type\":\"Unstructured tetrahedra\",\"Mesh_cell_type\":\"Tetrahedra \",\"Test_color\":\"Green\",\"Mesh_number_of_elements\":841,\"Global_name\":\"FE simulation of the 3D Poisson equation\"},{\"index\":70,\"qgrid_unfiltered_index\":70,\"PDE_model\":\"Poisson\",\"Numerical_method_space_discretization\":\"Finite elements\",\"Numerical_method_name\":\"P1 FE\",\"Mesh_dimension\":3,\"Mesh_type\":\"Unstructured tetrahedra\",\"Mesh_cell_type\":\"Tetrahedra \",\"Test_color\":\"Green\",\"Mesh_number_of_elements\":3372,\"Global_name\":\"FE simulation of the 3D Poisson equation\"},{\"index\":71,\"qgrid_unfiltered_index\":71,\"PDE_model\":\"Poisson\",\"Numerical_method_space_discretization\":\"Finite elements\",\"Numerical_method_name\":\"P1 FE\",\"Mesh_dimension\":3,\"Mesh_type\":\"Unstructured tetrahedra\",\"Mesh_cell_type\":\"Tetrahedra \",\"Test_color\":\"Green\",\"Mesh_number_of_elements\":508,\"Global_name\":\"FE simulation of the 3D Poisson equation\"},{\"index\":72,\"qgrid_unfiltered_index\":72,\"PDE_model\":\"Poisson\",\"Numerical_method_space_discretization\":\"Finite volumes\",\"Numerical_method_name\":\"VF5\",\"Mesh_dimension\":3,\"Mesh_type\":\"Non conforming cartesian checkerboard\",\"Mesh_cell_type\":\"Hexahedra Polyhedrons \",\"Test_color\":\"Orange, BC violated. PB with mesh ?\",\"Mesh_number_of_elements\":2304,\"Global_name\":\"FV simulation of the 3D Poisson equation\"},{\"index\":73,\"qgrid_unfiltered_index\":73,\"PDE_model\":\"Poisson\",\"Numerical_method_space_discretization\":\"Finite volumes\",\"Numerical_method_name\":\"VF5\",\"Mesh_dimension\":3,\"Mesh_type\":\"Non conforming cartesian checkerboard\",\"Mesh_cell_type\":\"Hexahedra Polyhedrons \",\"Test_color\":\"Orange, BC violated. PB with mesh ?\",\"Mesh_number_of_elements\":18432,\"Global_name\":\"FV simulation of the 3D Poisson equation\"},{\"index\":74,\"qgrid_unfiltered_index\":74,\"PDE_model\":\"Poisson\",\"Numerical_method_space_discretization\":\"Finite volumes\",\"Numerical_method_name\":\"VF5\",\"Mesh_dimension\":3,\"Mesh_type\":\"Non conforming cartesian checkerboard\",\"Mesh_cell_type\":\"Hexahedra Polyhedrons \",\"Test_color\":\"Orange, BC violated. PB with mesh ?\",\"Mesh_number_of_elements\":288,\"Global_name\":\"FV simulation of the 3D Poisson equation\"},{\"index\":75,\"qgrid_unfiltered_index\":75,\"PDE_model\":\"Poisson\",\"Numerical_method_space_discretization\":\"Finite volumes\",\"Numerical_method_name\":\"VF5\",\"Mesh_dimension\":3,\"Mesh_type\":\"Non conforming cartesian checkerboard\",\"Mesh_cell_type\":\"Hexahedra Polyhedrons \",\"Test_color\":\"Orange, BC violated. PB with mesh ?\",\"Mesh_number_of_elements\":36,\"Global_name\":\"FV simulation of the 3D Poisson equation\"}]}",
       "_df_range": [
        0,
        134
       ],
       "_editable_rows": {},
       "_index_col_name": "qgrid_unfiltered_index",
       "_interval_columns": [],
       "_model_module_version": "1.1.1",
       "_multi_index": false,
       "_row_count": 76,
       "_row_styles": {},
       "_sort_ascending": true,
       "_sort_field": null,
       "_view_module_version": "1.1.1",
       "_viewport_range": [
        34,
        76
       ],
       "grid_options": {
        "autoEdit": false,
        "boldIndex": true,
        "defaultColumnWidth": 150,
        "editable": false,
        "enableColumnReorder": true,
        "enableTextSelectionOnCells": true,
        "explicitInitialization": true,
        "filterable": true,
        "forceFitColumns": true,
        "fullWidthRows": true,
        "highlightSelectedCell": false,
        "highlightSelectedRow": true,
        "maxVisibleRows": 40,
        "minVisibleRows": 8,
        "rowHeight": 28,
        "sortable": true,
        "syncColumnCellResize": true
       },
       "id": "e26002c6-846f-4846-aaae-b7da63d1d747",
       "layout": "IPY_MODEL_e6c8ff65d9ad4f2987fbc857fda80da7",
       "precision": 5,
       "show_toolbar": false
      }
     },
     "5a0eb109462d4aceb263a599836e0584": {
      "model_module": "qgrid",
      "model_module_version": "1.1.1",
      "model_name": "QgridModel",
      "state": {
       "_columns": {
        "Mesh_cell_type": {
         "cssClass": "string",
         "defaultSortAsc": true,
         "editable": true,
         "field": "Mesh_cell_type",
         "id": "Mesh_cell_type",
         "minWidth": 30,
         "name": "Mesh_cell_type",
         "position": 7,
         "resizable": true,
         "sortable": true,
         "toolTip": "",
         "type": "string"
        },
        "Mesh_dimension": {
         "cssClass": "integer",
         "defaultSortAsc": true,
         "editable": true,
         "field": "Mesh_dimension",
         "id": "Mesh_dimension",
         "minWidth": 30,
         "name": "Mesh_dimension",
         "position": 5,
         "resizable": true,
         "sortable": true,
         "toolTip": "",
         "type": "integer"
        },
        "Mesh_number_of_elements": {
         "cssClass": "integer",
         "defaultSortAsc": true,
         "editable": true,
         "field": "Mesh_number_of_elements",
         "id": "Mesh_number_of_elements",
         "minWidth": 30,
         "name": "Mesh_number_of_elements",
         "position": 8,
         "resizable": true,
         "sortable": true,
         "toolTip": "",
         "type": "integer"
        },
        "Mesh_type": {
         "cssClass": "string",
         "defaultSortAsc": true,
         "editable": true,
         "field": "Mesh_type",
         "id": "Mesh_type",
         "minWidth": 30,
         "name": "Mesh_type",
         "position": 6,
         "resizable": true,
         "sortable": true,
         "toolTip": "",
         "type": "string"
        },
        "Numerical_method_name": {
         "cssClass": "string",
         "defaultSortAsc": true,
         "editable": true,
         "field": "Numerical_method_name",
         "id": "Numerical_method_name",
         "minWidth": 30,
         "name": "Numerical_method_name",
         "position": 4,
         "resizable": true,
         "sortable": true,
         "toolTip": "",
         "type": "string"
        },
        "Numerical_method_space_discretization": {
         "cssClass": "string",
         "defaultSortAsc": true,
         "editable": true,
         "field": "Numerical_method_space_discretization",
         "id": "Numerical_method_space_discretization",
         "minWidth": 30,
         "name": "Numerical_method_space_discretization",
         "position": 3,
         "resizable": true,
         "sortable": true,
         "toolTip": "",
         "type": "string"
        },
        "PDE_model": {
         "cssClass": "string",
         "defaultSortAsc": true,
         "editable": true,
         "field": "PDE_model",
         "id": "PDE_model",
         "minWidth": 30,
         "name": "PDE_model",
         "position": 2,
         "resizable": true,
         "sortable": true,
         "toolTip": "",
         "type": "string"
        },
        "index": {
         "cssClass": "integer first-idx-col idx-col",
         "defaultSortAsc": true,
         "editable": true,
         "field": "index",
         "first_index": true,
         "id": "index",
         "index_display_text": "",
         "is_index": true,
         "level": 0,
         "minWidth": 30,
         "name": "",
         "position": 0,
         "resizable": true,
         "sortable": true,
         "toolTip": "",
         "type": "integer"
        },
        "qgrid_unfiltered_index": {
         "cssClass": "integer",
         "defaultSortAsc": true,
         "editable": true,
         "field": "qgrid_unfiltered_index",
         "id": "qgrid_unfiltered_index",
         "maxWidth": null,
         "minWidth": 30,
         "name": "qgrid_unfiltered_index",
         "position": 1,
         "resizable": true,
         "sortable": true,
         "toolTip": "",
         "type": "integer",
         "width": null
        }
       },
       "_df_json": "{\"schema\": {\"fields\":[{\"type\":\"integer\",\"name\":\"index\"},{\"type\":\"integer\",\"name\":\"qgrid_unfiltered_index\"},{\"type\":\"string\",\"name\":\"PDE_model\"},{\"type\":\"string\",\"name\":\"Numerical_method_space_discretization\"},{\"type\":\"string\",\"name\":\"Numerical_method_name\"},{\"type\":\"integer\",\"name\":\"Mesh_dimension\"},{\"type\":\"string\",\"name\":\"Mesh_type\"},{\"type\":\"string\",\"name\":\"Mesh_cell_type\"},{\"type\":\"integer\",\"name\":\"Mesh_number_of_elements\"}],\"pandas_version\":\"0.20.0\",\"primaryKey\":[\"index\"]}, \"data\": [{\"index\":0,\"qgrid_unfiltered_index\":0,\"PDE_model\":\"Poisson\",\"Numerical_method_space_discretization\":\"Finite volumes\",\"Numerical_method_name\":\"VF9\",\"Mesh_dimension\":2,\"Mesh_type\":\"Non conforming cartesian\",\"Mesh_cell_type\":\"Quadrangles Polygons \",\"Mesh_number_of_elements\":163840},{\"index\":1,\"qgrid_unfiltered_index\":1,\"PDE_model\":\"Poisson\",\"Numerical_method_space_discretization\":\"Finite volumes\",\"Numerical_method_name\":\"VF9\",\"Mesh_dimension\":2,\"Mesh_type\":\"Non conforming cartesian\",\"Mesh_cell_type\":\"Quadrangles Polygons \",\"Mesh_number_of_elements\":40960},{\"index\":2,\"qgrid_unfiltered_index\":2,\"PDE_model\":\"Poisson\",\"Numerical_method_space_discretization\":\"Finite volumes\",\"Numerical_method_name\":\"VF9\",\"Mesh_dimension\":2,\"Mesh_type\":\"Non conforming cartesian\",\"Mesh_cell_type\":\"Quadrangles Polygons \",\"Mesh_number_of_elements\":160},{\"index\":3,\"qgrid_unfiltered_index\":3,\"PDE_model\":\"Poisson\",\"Numerical_method_space_discretization\":\"Finite volumes\",\"Numerical_method_name\":\"VF9\",\"Mesh_dimension\":2,\"Mesh_type\":\"Non conforming cartesian\",\"Mesh_cell_type\":\"Quadrangles Polygons \",\"Mesh_number_of_elements\":40},{\"index\":4,\"qgrid_unfiltered_index\":4,\"PDE_model\":\"Poisson\",\"Numerical_method_space_discretization\":\"Finite volumes\",\"Numerical_method_name\":\"VF9\",\"Mesh_dimension\":2,\"Mesh_type\":\"Non conforming cartesian\",\"Mesh_cell_type\":\"Quadrangles Polygons \",\"Mesh_number_of_elements\":2560},{\"index\":5,\"qgrid_unfiltered_index\":5,\"PDE_model\":\"Poisson\",\"Numerical_method_space_discretization\":\"Finite volumes\",\"Numerical_method_name\":\"VF9\",\"Mesh_dimension\":2,\"Mesh_type\":\"Non conforming cartesian\",\"Mesh_cell_type\":\"Quadrangles Polygons \",\"Mesh_number_of_elements\":10240},{\"index\":6,\"qgrid_unfiltered_index\":6,\"PDE_model\":\"Poisson\",\"Numerical_method_space_discretization\":\"Finite volumes\",\"Numerical_method_name\":\"VF9\",\"Mesh_dimension\":2,\"Mesh_type\":\"Non conforming cartesian\",\"Mesh_cell_type\":\"Quadrangles Polygons \",\"Mesh_number_of_elements\":640},{\"index\":7,\"qgrid_unfiltered_index\":7,\"PDE_model\":\"Wave system\",\"Numerical_method_space_discretization\":\"Finite volumes\",\"Numerical_method_name\":\"Pseudo staggered\",\"Mesh_dimension\":2,\"Mesh_type\":\"Regular squares\",\"Mesh_cell_type\":\"Quadrangles \",\"Mesh_number_of_elements\":225},{\"index\":8,\"qgrid_unfiltered_index\":8,\"PDE_model\":\"Wave system\",\"Numerical_method_space_discretization\":\"Finite volumes\",\"Numerical_method_name\":\"Pseudo staggered\",\"Mesh_dimension\":2,\"Mesh_type\":\"Regular squares\",\"Mesh_cell_type\":\"Quadrangles \",\"Mesh_number_of_elements\":6561},{\"index\":9,\"qgrid_unfiltered_index\":9,\"PDE_model\":\"Wave system\",\"Numerical_method_space_discretization\":\"Finite volumes\",\"Numerical_method_name\":\"Pseudo staggered\",\"Mesh_dimension\":2,\"Mesh_type\":\"Regular squares\",\"Mesh_cell_type\":\"Quadrangles \",\"Mesh_number_of_elements\":961},{\"index\":10,\"qgrid_unfiltered_index\":10,\"PDE_model\":\"Wave system\",\"Numerical_method_space_discretization\":\"Finite volumes\",\"Numerical_method_name\":\"Pseudo staggered\",\"Mesh_dimension\":2,\"Mesh_type\":\"Regular squares\",\"Mesh_cell_type\":\"Quadrangles \",\"Mesh_number_of_elements\":49},{\"index\":11,\"qgrid_unfiltered_index\":11,\"PDE_model\":\"Wave system\",\"Numerical_method_space_discretization\":\"Finite volumes\",\"Numerical_method_name\":\"Pseudo staggered\",\"Mesh_dimension\":2,\"Mesh_type\":\"Regular squares\",\"Mesh_cell_type\":\"Quadrangles \",\"Mesh_number_of_elements\":2601},{\"index\":12,\"qgrid_unfiltered_index\":12,\"PDE_model\":\"Poisson\",\"Numerical_method_space_discretization\":\"Finite elements\",\"Numerical_method_name\":\"P1 FE\",\"Mesh_dimension\":2,\"Mesh_type\":\"Unstructured 3D triangles\",\"Mesh_cell_type\":\"Triangles \",\"Mesh_number_of_elements\":2638},{\"index\":13,\"qgrid_unfiltered_index\":13,\"PDE_model\":\"Poisson\",\"Numerical_method_space_discretization\":\"Finite elements\",\"Numerical_method_name\":\"P1 FE\",\"Mesh_dimension\":2,\"Mesh_type\":\"Unstructured 3D triangles\",\"Mesh_cell_type\":\"Triangles \",\"Mesh_number_of_elements\":4512},{\"index\":14,\"qgrid_unfiltered_index\":14,\"PDE_model\":\"Poisson\",\"Numerical_method_space_discretization\":\"Finite elements\",\"Numerical_method_name\":\"P1 FE\",\"Mesh_dimension\":2,\"Mesh_type\":\"Unstructured 3D triangles\",\"Mesh_cell_type\":\"Triangles \",\"Mesh_number_of_elements\":1124},{\"index\":15,\"qgrid_unfiltered_index\":15,\"PDE_model\":\"Poisson\",\"Numerical_method_space_discretization\":\"Finite elements\",\"Numerical_method_name\":\"P1 FE\",\"Mesh_dimension\":2,\"Mesh_type\":\"Unstructured 3D triangles\",\"Mesh_cell_type\":\"Triangles \",\"Mesh_number_of_elements\":288},{\"index\":16,\"qgrid_unfiltered_index\":16,\"PDE_model\":\"Poisson\",\"Numerical_method_space_discretization\":\"Finite elements\",\"Numerical_method_name\":\"P1 FE\",\"Mesh_dimension\":2,\"Mesh_type\":\"Unstructured 3D triangles\",\"Mesh_cell_type\":\"Triangles \",\"Mesh_number_of_elements\":10773},{\"index\":17,\"qgrid_unfiltered_index\":17,\"PDE_model\":\"Poisson\",\"Numerical_method_space_discretization\":\"Finite volumes\",\"Numerical_method_name\":\"VF9\",\"Mesh_dimension\":2,\"Mesh_type\":\"Non conforming cartesian\",\"Mesh_cell_type\":\"Quadrangles Polygons \",\"Mesh_number_of_elements\":40960},{\"index\":18,\"qgrid_unfiltered_index\":18,\"PDE_model\":\"Poisson\",\"Numerical_method_space_discretization\":\"Finite volumes\",\"Numerical_method_name\":\"VF9\",\"Mesh_dimension\":2,\"Mesh_type\":\"Non conforming cartesian\",\"Mesh_cell_type\":\"Quadrangles Polygons \",\"Mesh_number_of_elements\":160},{\"index\":19,\"qgrid_unfiltered_index\":19,\"PDE_model\":\"Poisson\",\"Numerical_method_space_discretization\":\"Finite volumes\",\"Numerical_method_name\":\"VF9\",\"Mesh_dimension\":2,\"Mesh_type\":\"Non conforming cartesian\",\"Mesh_cell_type\":\"Quadrangles Polygons \",\"Mesh_number_of_elements\":40},{\"index\":20,\"qgrid_unfiltered_index\":20,\"PDE_model\":\"Poisson\",\"Numerical_method_space_discretization\":\"Finite volumes\",\"Numerical_method_name\":\"VF9\",\"Mesh_dimension\":2,\"Mesh_type\":\"Non conforming cartesian\",\"Mesh_cell_type\":\"Quadrangles Polygons \",\"Mesh_number_of_elements\":2560},{\"index\":21,\"qgrid_unfiltered_index\":21,\"PDE_model\":\"Poisson\",\"Numerical_method_space_discretization\":\"Finite volumes\",\"Numerical_method_name\":\"VF9\",\"Mesh_dimension\":2,\"Mesh_type\":\"Non conforming cartesian\",\"Mesh_cell_type\":\"Quadrangles Polygons \",\"Mesh_number_of_elements\":10240},{\"index\":22,\"qgrid_unfiltered_index\":22,\"PDE_model\":\"Poisson\",\"Numerical_method_space_discretization\":\"Finite volumes\",\"Numerical_method_name\":\"VF9\",\"Mesh_dimension\":2,\"Mesh_type\":\"Non conforming cartesian\",\"Mesh_cell_type\":\"Quadrangles Polygons \",\"Mesh_number_of_elements\":640},{\"index\":23,\"qgrid_unfiltered_index\":23,\"PDE_model\":\"Poisson\",\"Numerical_method_space_discretization\":\"Finite volumes\",\"Numerical_method_name\":\"VF27\",\"Mesh_dimension\":3,\"Mesh_type\":\"Unstructured tetrahedra\",\"Mesh_cell_type\":\"Tetrahedra \",\"Mesh_number_of_elements\":2081},{\"index\":24,\"qgrid_unfiltered_index\":24,\"PDE_model\":\"Poisson\",\"Numerical_method_space_discretization\":\"Finite volumes\",\"Numerical_method_name\":\"VF27\",\"Mesh_dimension\":3,\"Mesh_type\":\"Unstructured tetrahedra\",\"Mesh_cell_type\":\"Tetrahedra \",\"Mesh_number_of_elements\":4077},{\"index\":25,\"qgrid_unfiltered_index\":25,\"PDE_model\":\"Poisson\",\"Numerical_method_space_discretization\":\"Finite volumes\",\"Numerical_method_name\":\"VF27\",\"Mesh_dimension\":3,\"Mesh_type\":\"Unstructured tetrahedra\",\"Mesh_cell_type\":\"Tetrahedra \",\"Mesh_number_of_elements\":28561},{\"index\":26,\"qgrid_unfiltered_index\":26,\"PDE_model\":\"Poisson\",\"Numerical_method_space_discretization\":\"Finite volumes\",\"Numerical_method_name\":\"VF27\",\"Mesh_dimension\":3,\"Mesh_type\":\"Unstructured tetrahedra\",\"Mesh_cell_type\":\"Tetrahedra \",\"Mesh_number_of_elements\":270},{\"index\":27,\"qgrid_unfiltered_index\":27,\"PDE_model\":\"Poisson\",\"Numerical_method_space_discretization\":\"Finite volumes\",\"Numerical_method_name\":\"VF27\",\"Mesh_dimension\":3,\"Mesh_type\":\"Unstructured tetrahedra\",\"Mesh_cell_type\":\"Tetrahedra \",\"Mesh_number_of_elements\":16834},{\"index\":28,\"qgrid_unfiltered_index\":28,\"PDE_model\":\"Poisson\",\"Numerical_method_space_discretization\":\"Finite volumes\",\"Numerical_method_name\":\"VF27\",\"Mesh_dimension\":3,\"Mesh_type\":\"Unstructured tetrahedra\",\"Mesh_cell_type\":\"Tetrahedra \",\"Mesh_number_of_elements\":63249},{\"index\":29,\"qgrid_unfiltered_index\":29,\"PDE_model\":\"Poisson\",\"Numerical_method_space_discretization\":\"Finite volumes\",\"Numerical_method_name\":\"VF27\",\"Mesh_dimension\":3,\"Mesh_type\":\"Unstructured tetrahedra\",\"Mesh_cell_type\":\"Tetrahedra \",\"Mesh_number_of_elements\":7629},{\"index\":30,\"qgrid_unfiltered_index\":30,\"PDE_model\":\"Wave system\",\"Numerical_method_space_discretization\":\"Finite volumes\",\"Numerical_method_name\":\"Upwind\",\"Mesh_dimension\":2,\"Mesh_type\":\"Regular squares\",\"Mesh_cell_type\":\"Quadrangles \",\"Mesh_number_of_elements\":225},{\"index\":31,\"qgrid_unfiltered_index\":31,\"PDE_model\":\"Wave system\",\"Numerical_method_space_discretization\":\"Finite volumes\",\"Numerical_method_name\":\"Upwind\",\"Mesh_dimension\":2,\"Mesh_type\":\"Regular squares\",\"Mesh_cell_type\":\"Quadrangles \",\"Mesh_number_of_elements\":49},{\"index\":32,\"qgrid_unfiltered_index\":32,\"PDE_model\":\"Wave system\",\"Numerical_method_space_discretization\":\"Finite volumes\",\"Numerical_method_name\":\"Upwind\",\"Mesh_dimension\":2,\"Mesh_type\":\"Regular squares\",\"Mesh_cell_type\":\"Quadrangles \",\"Mesh_number_of_elements\":6561},{\"index\":33,\"qgrid_unfiltered_index\":33,\"PDE_model\":\"Wave system\",\"Numerical_method_space_discretization\":\"Finite volumes\",\"Numerical_method_name\":\"Upwind\",\"Mesh_dimension\":2,\"Mesh_type\":\"Regular squares\",\"Mesh_cell_type\":\"Quadrangles \",\"Mesh_number_of_elements\":961},{\"index\":34,\"qgrid_unfiltered_index\":34,\"PDE_model\":\"Wave system\",\"Numerical_method_space_discretization\":\"Finite volumes\",\"Numerical_method_name\":\"Upwind\",\"Mesh_dimension\":2,\"Mesh_type\":\"Regular squares\",\"Mesh_cell_type\":\"Quadrangles \",\"Mesh_number_of_elements\":2601},{\"index\":35,\"qgrid_unfiltered_index\":35,\"PDE_model\":\"Poisson\",\"Numerical_method_space_discretization\":\"Finite volumes\",\"Numerical_method_name\":\"VF9\",\"Mesh_dimension\":2,\"Mesh_type\":\"Unstructured triangles\",\"Mesh_cell_type\":\"Triangles \",\"Mesh_number_of_elements\":40},{\"index\":36,\"qgrid_unfiltered_index\":36,\"PDE_model\":\"Poisson\",\"Numerical_method_space_discretization\":\"Finite volumes\",\"Numerical_method_name\":\"VF9\",\"Mesh_dimension\":2,\"Mesh_type\":\"Unstructured triangles\",\"Mesh_cell_type\":\"Triangles \",\"Mesh_number_of_elements\":224},{\"index\":37,\"qgrid_unfiltered_index\":37,\"PDE_model\":\"Poisson\",\"Numerical_method_space_discretization\":\"Finite volumes\",\"Numerical_method_name\":\"VF9\",\"Mesh_dimension\":2,\"Mesh_type\":\"Unstructured triangles\",\"Mesh_cell_type\":\"Triangles \",\"Mesh_number_of_elements\":934},{\"index\":38,\"qgrid_unfiltered_index\":38,\"PDE_model\":\"Poisson\",\"Numerical_method_space_discretization\":\"Finite volumes\",\"Numerical_method_name\":\"VF9\",\"Mesh_dimension\":2,\"Mesh_type\":\"Unstructured triangles\",\"Mesh_cell_type\":\"Triangles \",\"Mesh_number_of_elements\":25872},{\"index\":39,\"qgrid_unfiltered_index\":39,\"PDE_model\":\"Poisson\",\"Numerical_method_space_discretization\":\"Finite volumes\",\"Numerical_method_name\":\"VF9\",\"Mesh_dimension\":2,\"Mesh_type\":\"Unstructured triangles\",\"Mesh_cell_type\":\"Triangles \",\"Mesh_number_of_elements\":6422},{\"index\":40,\"qgrid_unfiltered_index\":40,\"PDE_model\":\"Poisson\",\"Numerical_method_space_discretization\":\"Finite volumes\",\"Numerical_method_name\":\"VF9\",\"Mesh_dimension\":2,\"Mesh_type\":\"Regular squares\",\"Mesh_cell_type\":\"Quadrangles \",\"Mesh_number_of_elements\":22801},{\"index\":41,\"qgrid_unfiltered_index\":41,\"PDE_model\":\"Poisson\",\"Numerical_method_space_discretization\":\"Finite volumes\",\"Numerical_method_name\":\"VF9\",\"Mesh_dimension\":2,\"Mesh_type\":\"Regular squares\",\"Mesh_cell_type\":\"Quadrangles \",\"Mesh_number_of_elements\":2601},{\"index\":42,\"qgrid_unfiltered_index\":42,\"PDE_model\":\"Poisson\",\"Numerical_method_space_discretization\":\"Finite volumes\",\"Numerical_method_name\":\"VF9\",\"Mesh_dimension\":2,\"Mesh_type\":\"Regular squares\",\"Mesh_cell_type\":\"Quadrangles \",\"Mesh_number_of_elements\":121},{\"index\":43,\"qgrid_unfiltered_index\":43,\"PDE_model\":\"Poisson\",\"Numerical_method_space_discretization\":\"Finite volumes\",\"Numerical_method_name\":\"VF9\",\"Mesh_dimension\":2,\"Mesh_type\":\"Regular squares\",\"Mesh_cell_type\":\"Quadrangles \",\"Mesh_number_of_elements\":40401},{\"index\":44,\"qgrid_unfiltered_index\":44,\"PDE_model\":\"Poisson\",\"Numerical_method_space_discretization\":\"Finite volumes\",\"Numerical_method_name\":\"VF27\",\"Mesh_dimension\":3,\"Mesh_type\":\"Regular cubes\",\"Mesh_cell_type\":\"Hexahedra \",\"Mesh_number_of_elements\":1331},{\"index\":45,\"qgrid_unfiltered_index\":45,\"PDE_model\":\"Poisson\",\"Numerical_method_space_discretization\":\"Finite volumes\",\"Numerical_method_name\":\"VF27\",\"Mesh_dimension\":3,\"Mesh_type\":\"Regular cubes\",\"Mesh_cell_type\":\"Hexahedra \",\"Mesh_number_of_elements\":9261},{\"index\":46,\"qgrid_unfiltered_index\":46,\"PDE_model\":\"Poisson\",\"Numerical_method_space_discretization\":\"Finite volumes\",\"Numerical_method_name\":\"VF27\",\"Mesh_dimension\":3,\"Mesh_type\":\"Regular cubes\",\"Mesh_cell_type\":\"Hexahedra \",\"Mesh_number_of_elements\":68921},{\"index\":47,\"qgrid_unfiltered_index\":47,\"PDE_model\":\"Wave system\",\"Numerical_method_space_discretization\":\"Finite volumes\",\"Numerical_method_name\":\"Upwind\",\"Mesh_dimension\":3,\"Mesh_type\":\"Regular cubes\",\"Mesh_cell_type\":\"Hexahedra \",\"Mesh_number_of_elements\":9261},{\"index\":48,\"qgrid_unfiltered_index\":48,\"PDE_model\":\"Wave system\",\"Numerical_method_space_discretization\":\"Finite volumes\",\"Numerical_method_name\":\"Upwind\",\"Mesh_dimension\":3,\"Mesh_type\":\"Regular cubes\",\"Mesh_cell_type\":\"Hexahedra \",\"Mesh_number_of_elements\":1331},{\"index\":49,\"qgrid_unfiltered_index\":49,\"PDE_model\":\"Wave system\",\"Numerical_method_space_discretization\":\"Finite volumes\",\"Numerical_method_name\":\"Upwind\",\"Mesh_dimension\":3,\"Mesh_type\":\"Regular cubes\",\"Mesh_cell_type\":\"Hexahedra \",\"Mesh_number_of_elements\":29791},{\"index\":50,\"qgrid_unfiltered_index\":50,\"PDE_model\":\"Poisson\",\"Numerical_method_space_discretization\":\"Finite elements\",\"Numerical_method_name\":\"P1 FE\",\"Mesh_dimension\":2,\"Mesh_type\":\"Unstructured triangles\",\"Mesh_cell_type\":\"Triangles \",\"Mesh_number_of_elements\":3310},{\"index\":51,\"qgrid_unfiltered_index\":51,\"PDE_model\":\"Poisson\",\"Numerical_method_space_discretization\":\"Finite elements\",\"Numerical_method_name\":\"P1 FE\",\"Mesh_dimension\":2,\"Mesh_type\":\"Unstructured triangles\",\"Mesh_cell_type\":\"Triangles \",\"Mesh_number_of_elements\":131},{\"index\":52,\"qgrid_unfiltered_index\":52,\"PDE_model\":\"Poisson\",\"Numerical_method_space_discretization\":\"Finite elements\",\"Numerical_method_name\":\"P1 FE\",\"Mesh_dimension\":2,\"Mesh_type\":\"Unstructured triangles\",\"Mesh_cell_type\":\"Triangles \",\"Mesh_number_of_elements\":506},{\"index\":53,\"qgrid_unfiltered_index\":53,\"PDE_model\":\"Poisson\",\"Numerical_method_space_discretization\":\"Finite elements\",\"Numerical_method_name\":\"P1 FE\",\"Mesh_dimension\":2,\"Mesh_type\":\"Unstructured triangles\",\"Mesh_cell_type\":\"Triangles \",\"Mesh_number_of_elements\":29},{\"index\":54,\"qgrid_unfiltered_index\":54,\"PDE_model\":\"Poisson\",\"Numerical_method_space_discretization\":\"Finite elements\",\"Numerical_method_name\":\"P1 FE\",\"Mesh_dimension\":2,\"Mesh_type\":\"Unstructured triangles\",\"Mesh_cell_type\":\"Triangles \",\"Mesh_number_of_elements\":13135},{\"index\":55,\"qgrid_unfiltered_index\":55,\"PDE_model\":\"Poisson\",\"Numerical_method_space_discretization\":\"Finite elements\",\"Numerical_method_name\":\"P1 FE\",\"Mesh_dimension\":3,\"Mesh_type\":\"Unstructured tetrahedra\",\"Mesh_cell_type\":\"Tetrahedra \",\"Mesh_number_of_elements\":74},{\"index\":56,\"qgrid_unfiltered_index\":56,\"PDE_model\":\"Poisson\",\"Numerical_method_space_discretization\":\"Finite elements\",\"Numerical_method_name\":\"P1 FE\",\"Mesh_dimension\":3,\"Mesh_type\":\"Unstructured tetrahedra\",\"Mesh_cell_type\":\"Tetrahedra \",\"Mesh_number_of_elements\":841},{\"index\":57,\"qgrid_unfiltered_index\":57,\"PDE_model\":\"Poisson\",\"Numerical_method_space_discretization\":\"Finite elements\",\"Numerical_method_name\":\"P1 FE\",\"Mesh_dimension\":3,\"Mesh_type\":\"Unstructured tetrahedra\",\"Mesh_cell_type\":\"Tetrahedra \",\"Mesh_number_of_elements\":508},{\"index\":58,\"qgrid_unfiltered_index\":58,\"PDE_model\":\"Poisson\",\"Numerical_method_space_discretization\":\"Finite elements\",\"Numerical_method_name\":\"P1 FE\",\"Mesh_dimension\":3,\"Mesh_type\":\"Unstructured tetrahedra\",\"Mesh_cell_type\":\"Tetrahedra \",\"Mesh_number_of_elements\":3372},{\"index\":59,\"qgrid_unfiltered_index\":59,\"PDE_model\":\"Poisson\",\"Numerical_method_space_discretization\":\"Finite elements\",\"Numerical_method_name\":\"P1 FE\",\"Mesh_dimension\":3,\"Mesh_type\":\"Unstructured tetrahedra\",\"Mesh_cell_type\":\"Tetrahedra \",\"Mesh_number_of_elements\":5956},{\"index\":60,\"qgrid_unfiltered_index\":60,\"PDE_model\":\"Poisson\",\"Numerical_method_space_discretization\":\"Finite elements\",\"Numerical_method_name\":\"P1 FE\",\"Mesh_dimension\":3,\"Mesh_type\":\"Unstructured tetrahedra\",\"Mesh_cell_type\":\"Tetrahedra \",\"Mesh_number_of_elements\":1543},{\"index\":61,\"qgrid_unfiltered_index\":61,\"PDE_model\":\"Poisson\",\"Numerical_method_space_discretization\":\"Finite elements\",\"Numerical_method_name\":\"P1 FE\",\"Mesh_dimension\":3,\"Mesh_type\":\"Unstructured tetrahedra\",\"Mesh_cell_type\":\"Tetrahedra \",\"Mesh_number_of_elements\":12465},{\"index\":62,\"qgrid_unfiltered_index\":62,\"PDE_model\":\"Wave system\",\"Numerical_method_space_discretization\":\"Finite volumes\",\"Numerical_method_name\":\"Upwind\",\"Mesh_dimension\":3,\"Mesh_type\":\"Regular tetrahedra\",\"Mesh_cell_type\":\"Tetrahedra \",\"Mesh_number_of_elements\":7986},{\"index\":63,\"qgrid_unfiltered_index\":63,\"PDE_model\":\"Wave system\",\"Numerical_method_space_discretization\":\"Finite volumes\",\"Numerical_method_name\":\"Upwind\",\"Mesh_dimension\":3,\"Mesh_type\":\"Regular tetrahedra\",\"Mesh_cell_type\":\"Tetrahedra \",\"Mesh_number_of_elements\":55566},{\"index\":64,\"qgrid_unfiltered_index\":64,\"PDE_model\":\"Wave system\",\"Numerical_method_space_discretization\":\"Finite volumes\",\"Numerical_method_name\":\"Upwind\",\"Mesh_dimension\":3,\"Mesh_type\":\"Regular tetrahedra\",\"Mesh_cell_type\":\"Tetrahedra \",\"Mesh_number_of_elements\":750},{\"index\":65,\"qgrid_unfiltered_index\":65,\"PDE_model\":\"Poisson\",\"Numerical_method_space_discretization\":\"Finite volumes\",\"Numerical_method_name\":\"VF27\",\"Mesh_dimension\":3,\"Mesh_type\":\"Non conforming cartesian\",\"Mesh_cell_type\":\"Hexahedra Polyhedrons \",\"Mesh_number_of_elements\":36},{\"index\":66,\"qgrid_unfiltered_index\":66,\"PDE_model\":\"Poisson\",\"Numerical_method_space_discretization\":\"Finite volumes\",\"Numerical_method_name\":\"VF27\",\"Mesh_dimension\":3,\"Mesh_type\":\"Non conforming cartesian\",\"Mesh_cell_type\":\"Hexahedra Polyhedrons \",\"Mesh_number_of_elements\":288},{\"index\":67,\"qgrid_unfiltered_index\":67,\"PDE_model\":\"Poisson\",\"Numerical_method_space_discretization\":\"Finite volumes\",\"Numerical_method_name\":\"VF27\",\"Mesh_dimension\":3,\"Mesh_type\":\"Non conforming cartesian\",\"Mesh_cell_type\":\"Hexahedra Polyhedrons \",\"Mesh_number_of_elements\":2304},{\"index\":68,\"qgrid_unfiltered_index\":68,\"PDE_model\":\"Poisson\",\"Numerical_method_space_discretization\":\"Finite volumes\",\"Numerical_method_name\":\"VF27\",\"Mesh_dimension\":3,\"Mesh_type\":\"Non conforming cartesian\",\"Mesh_cell_type\":\"Hexahedra Polyhedrons \",\"Mesh_number_of_elements\":18432}]}",
       "_df_range": [
        0,
        100
       ],
       "_editable_rows": {},
       "_index_col_name": "qgrid_unfiltered_index",
       "_interval_columns": [],
       "_model_module_version": "1.1.1",
       "_multi_index": false,
       "_row_count": 69,
       "_row_styles": {},
       "_sort_ascending": true,
       "_sort_field": null,
       "_view_module_version": "1.1.1",
       "_viewport_range": [
        0,
        41
       ],
       "grid_options": {
        "autoEdit": false,
        "boldIndex": true,
        "defaultColumnWidth": 150,
        "editable": false,
        "enableColumnReorder": true,
        "enableTextSelectionOnCells": true,
        "explicitInitialization": true,
        "filterable": true,
        "forceFitColumns": true,
        "fullWidthRows": true,
        "highlightSelectedCell": false,
        "highlightSelectedRow": true,
        "maxVisibleRows": 40,
        "minVisibleRows": 8,
        "rowHeight": 28,
        "sortable": true,
        "syncColumnCellResize": true
       },
       "id": "ef09f05b-4799-42e2-a6f3-3d28f7a8c907",
       "layout": "IPY_MODEL_a2d6525633734bdfa1c2caaa519165db",
       "precision": 5,
       "show_toolbar": false
      }
     },
     "5e4375bc84d8418392571b4d82649005": {
      "model_module": "@jupyter-widgets/base",
      "model_module_version": "1.1.0",
      "model_name": "LayoutModel",
      "state": {}
     },
     "a2d6525633734bdfa1c2caaa519165db": {
      "model_module": "@jupyter-widgets/base",
      "model_module_version": "1.1.0",
      "model_name": "LayoutModel",
      "state": {}
     },
     "e6c8ff65d9ad4f2987fbc857fda80da7": {
      "model_module": "@jupyter-widgets/base",
      "model_module_version": "1.1.0",
      "model_name": "LayoutModel",
      "state": {}
     },
     "ed37bb9d6bbf49aab9ee21eda893f082": {
      "model_module": "qgrid",
      "model_module_version": "1.1.1",
      "model_name": "QgridModel",
      "state": {
       "_columns": {
        "Mesh_cell_type": {
         "cssClass": "string",
         "defaultSortAsc": true,
         "editable": true,
         "field": "Mesh_cell_type",
         "id": "Mesh_cell_type",
         "minWidth": 30,
         "name": "Mesh_cell_type",
         "position": 7,
         "resizable": true,
         "sortable": true,
         "toolTip": "",
         "type": "string"
        },
        "Mesh_dimension": {
         "cssClass": "integer",
         "defaultSortAsc": true,
         "editable": true,
         "field": "Mesh_dimension",
         "id": "Mesh_dimension",
         "minWidth": 30,
         "name": "Mesh_dimension",
         "position": 5,
         "resizable": true,
         "sortable": true,
         "toolTip": "",
         "type": "integer"
        },
        "Mesh_number_of_elements": {
         "cssClass": "integer",
         "defaultSortAsc": true,
         "editable": true,
         "field": "Mesh_number_of_elements",
         "id": "Mesh_number_of_elements",
         "minWidth": 30,
         "name": "Mesh_number_of_elements",
         "position": 9,
         "resizable": true,
         "sortable": true,
         "toolTip": "",
         "type": "integer"
        },
        "Mesh_type": {
         "cssClass": "string",
         "defaultSortAsc": true,
         "editable": true,
         "field": "Mesh_type",
         "id": "Mesh_type",
         "minWidth": 30,
         "name": "Mesh_type",
         "position": 6,
         "resizable": true,
         "sortable": true,
         "toolTip": "",
         "type": "string"
        },
        "Numerical_method_name": {
         "cssClass": "string",
         "defaultSortAsc": true,
         "editable": true,
         "field": "Numerical_method_name",
         "id": "Numerical_method_name",
         "minWidth": 30,
         "name": "Numerical_method_name",
         "position": 4,
         "resizable": true,
         "sortable": true,
         "toolTip": "",
         "type": "string"
        },
        "Numerical_method_space_discretization": {
         "cssClass": "string",
         "defaultSortAsc": true,
         "editable": true,
         "field": "Numerical_method_space_discretization",
         "id": "Numerical_method_space_discretization",
         "minWidth": 30,
         "name": "Numerical_method_space_discretization",
         "position": 3,
         "resizable": true,
         "sortable": true,
         "toolTip": "",
         "type": "string"
        },
        "PDE_model": {
         "cssClass": "string",
         "defaultSortAsc": true,
         "editable": true,
         "field": "PDE_model",
         "id": "PDE_model",
         "minWidth": 30,
         "name": "PDE_model",
         "position": 2,
         "resizable": true,
         "sortable": true,
         "toolTip": "",
         "type": "string"
        },
        "Test_color": {
         "cssClass": "string",
         "defaultSortAsc": true,
         "editable": true,
         "field": "Test_color",
         "id": "Test_color",
         "minWidth": 30,
         "name": "Test_color",
         "position": 8,
         "resizable": true,
         "sortable": true,
         "toolTip": "",
         "type": "string"
        },
        "index": {
         "cssClass": "integer first-idx-col idx-col",
         "defaultSortAsc": true,
         "editable": true,
         "field": "index",
         "first_index": true,
         "id": "index",
         "index_display_text": "",
         "is_index": true,
         "level": 0,
         "minWidth": 30,
         "name": "",
         "position": 0,
         "resizable": true,
         "sortable": true,
         "toolTip": "",
         "type": "integer"
        },
        "qgrid_unfiltered_index": {
         "cssClass": "integer",
         "defaultSortAsc": true,
         "editable": true,
         "field": "qgrid_unfiltered_index",
         "id": "qgrid_unfiltered_index",
         "maxWidth": null,
         "minWidth": 30,
         "name": "qgrid_unfiltered_index",
         "position": 1,
         "resizable": true,
         "sortable": true,
         "toolTip": "",
         "type": "integer",
         "width": null
        }
       },
       "_df_json": "{\"schema\": {\"fields\":[{\"type\":\"integer\",\"name\":\"index\"},{\"type\":\"integer\",\"name\":\"qgrid_unfiltered_index\"},{\"type\":\"string\",\"name\":\"PDE_model\"},{\"type\":\"string\",\"name\":\"Numerical_method_space_discretization\"},{\"type\":\"string\",\"name\":\"Numerical_method_name\"},{\"type\":\"integer\",\"name\":\"Mesh_dimension\"},{\"type\":\"string\",\"name\":\"Mesh_type\"},{\"type\":\"string\",\"name\":\"Mesh_cell_type\"},{\"type\":\"string\",\"name\":\"Test_color\"},{\"type\":\"integer\",\"name\":\"Mesh_number_of_elements\"}],\"pandas_version\":\"0.20.0\",\"primaryKey\":[\"index\"]}, \"data\": [{\"index\":0,\"qgrid_unfiltered_index\":0,\"PDE_model\":\"Poisson\",\"Numerical_method_space_discretization\":\"Finite volumes\",\"Numerical_method_name\":\"VF9\",\"Mesh_dimension\":2,\"Mesh_type\":\"Non conforming cartesian\",\"Mesh_cell_type\":\"Quadrangles Polygons \",\"Test_color\":\"Green\",\"Mesh_number_of_elements\":163840},{\"index\":1,\"qgrid_unfiltered_index\":1,\"PDE_model\":\"Poisson\",\"Numerical_method_space_discretization\":\"Finite volumes\",\"Numerical_method_name\":\"VF9\",\"Mesh_dimension\":2,\"Mesh_type\":\"Non conforming cartesian\",\"Mesh_cell_type\":\"Quadrangles Polygons \",\"Test_color\":\"Green\",\"Mesh_number_of_elements\":40960},{\"index\":2,\"qgrid_unfiltered_index\":2,\"PDE_model\":\"Poisson\",\"Numerical_method_space_discretization\":\"Finite volumes\",\"Numerical_method_name\":\"VF9\",\"Mesh_dimension\":2,\"Mesh_type\":\"Non conforming cartesian\",\"Mesh_cell_type\":\"Quadrangles Polygons \",\"Test_color\":\"Green\",\"Mesh_number_of_elements\":160},{\"index\":3,\"qgrid_unfiltered_index\":3,\"PDE_model\":\"Poisson\",\"Numerical_method_space_discretization\":\"Finite volumes\",\"Numerical_method_name\":\"VF9\",\"Mesh_dimension\":2,\"Mesh_type\":\"Non conforming cartesian\",\"Mesh_cell_type\":\"Quadrangles Polygons \",\"Test_color\":\"Green\",\"Mesh_number_of_elements\":40},{\"index\":4,\"qgrid_unfiltered_index\":4,\"PDE_model\":\"Poisson\",\"Numerical_method_space_discretization\":\"Finite volumes\",\"Numerical_method_name\":\"VF9\",\"Mesh_dimension\":2,\"Mesh_type\":\"Non conforming cartesian\",\"Mesh_cell_type\":\"Quadrangles Polygons \",\"Test_color\":\"Green\",\"Mesh_number_of_elements\":2560},{\"index\":5,\"qgrid_unfiltered_index\":5,\"PDE_model\":\"Poisson\",\"Numerical_method_space_discretization\":\"Finite volumes\",\"Numerical_method_name\":\"VF9\",\"Mesh_dimension\":2,\"Mesh_type\":\"Non conforming cartesian\",\"Mesh_cell_type\":\"Quadrangles Polygons \",\"Test_color\":\"Green\",\"Mesh_number_of_elements\":10240},{\"index\":6,\"qgrid_unfiltered_index\":6,\"PDE_model\":\"Poisson\",\"Numerical_method_space_discretization\":\"Finite volumes\",\"Numerical_method_name\":\"VF9\",\"Mesh_dimension\":2,\"Mesh_type\":\"Non conforming cartesian\",\"Mesh_cell_type\":\"Quadrangles Polygons \",\"Test_color\":\"Green\",\"Mesh_number_of_elements\":640},{\"index\":7,\"qgrid_unfiltered_index\":7,\"PDE_model\":\"Wave system\",\"Numerical_method_space_discretization\":\"Finite volumes\",\"Numerical_method_name\":\"Pseudo staggered\",\"Mesh_dimension\":2,\"Mesh_type\":\"Regular squares\",\"Mesh_cell_type\":\"Quadrangles \",\"Test_color\":\"Green\",\"Mesh_number_of_elements\":225},{\"index\":8,\"qgrid_unfiltered_index\":8,\"PDE_model\":\"Wave system\",\"Numerical_method_space_discretization\":\"Finite volumes\",\"Numerical_method_name\":\"Pseudo staggered\",\"Mesh_dimension\":2,\"Mesh_type\":\"Regular squares\",\"Mesh_cell_type\":\"Quadrangles \",\"Test_color\":\"Green\",\"Mesh_number_of_elements\":6561},{\"index\":9,\"qgrid_unfiltered_index\":9,\"PDE_model\":\"Wave system\",\"Numerical_method_space_discretization\":\"Finite volumes\",\"Numerical_method_name\":\"Pseudo staggered\",\"Mesh_dimension\":2,\"Mesh_type\":\"Regular squares\",\"Mesh_cell_type\":\"Quadrangles \",\"Test_color\":\"Green\",\"Mesh_number_of_elements\":961},{\"index\":10,\"qgrid_unfiltered_index\":10,\"PDE_model\":\"Wave system\",\"Numerical_method_space_discretization\":\"Finite volumes\",\"Numerical_method_name\":\"Pseudo staggered\",\"Mesh_dimension\":2,\"Mesh_type\":\"Regular squares\",\"Mesh_cell_type\":\"Quadrangles \",\"Test_color\":\"Green\",\"Mesh_number_of_elements\":49},{\"index\":11,\"qgrid_unfiltered_index\":11,\"PDE_model\":\"Wave system\",\"Numerical_method_space_discretization\":\"Finite volumes\",\"Numerical_method_name\":\"Pseudo staggered\",\"Mesh_dimension\":2,\"Mesh_type\":\"Regular squares\",\"Mesh_cell_type\":\"Quadrangles \",\"Test_color\":\"Green\",\"Mesh_number_of_elements\":2601},{\"index\":12,\"qgrid_unfiltered_index\":12,\"PDE_model\":\"Poisson\",\"Numerical_method_space_discretization\":\"Finite elements\",\"Numerical_method_name\":\"P1 FE\",\"Mesh_dimension\":2,\"Mesh_type\":\"Unstructured 3D triangles\",\"Mesh_cell_type\":\"Triangles \",\"Test_color\":\"Green\",\"Mesh_number_of_elements\":2638},{\"index\":13,\"qgrid_unfiltered_index\":13,\"PDE_model\":\"Poisson\",\"Numerical_method_space_discretization\":\"Finite elements\",\"Numerical_method_name\":\"P1 FE\",\"Mesh_dimension\":2,\"Mesh_type\":\"Unstructured 3D triangles\",\"Mesh_cell_type\":\"Triangles \",\"Test_color\":\"Green\",\"Mesh_number_of_elements\":4512},{\"index\":14,\"qgrid_unfiltered_index\":14,\"PDE_model\":\"Poisson\",\"Numerical_method_space_discretization\":\"Finite elements\",\"Numerical_method_name\":\"P1 FE\",\"Mesh_dimension\":2,\"Mesh_type\":\"Unstructured 3D triangles\",\"Mesh_cell_type\":\"Triangles \",\"Test_color\":\"Green\",\"Mesh_number_of_elements\":1124},{\"index\":15,\"qgrid_unfiltered_index\":15,\"PDE_model\":\"Poisson\",\"Numerical_method_space_discretization\":\"Finite elements\",\"Numerical_method_name\":\"P1 FE\",\"Mesh_dimension\":2,\"Mesh_type\":\"Unstructured 3D triangles\",\"Mesh_cell_type\":\"Triangles \",\"Test_color\":\"Green\",\"Mesh_number_of_elements\":288},{\"index\":16,\"qgrid_unfiltered_index\":16,\"PDE_model\":\"Poisson\",\"Numerical_method_space_discretization\":\"Finite elements\",\"Numerical_method_name\":\"P1 FE\",\"Mesh_dimension\":2,\"Mesh_type\":\"Unstructured 3D triangles\",\"Mesh_cell_type\":\"Triangles \",\"Test_color\":\"Green\",\"Mesh_number_of_elements\":10773},{\"index\":17,\"qgrid_unfiltered_index\":17,\"PDE_model\":\"Poisson\",\"Numerical_method_space_discretization\":\"Finite volumes\",\"Numerical_method_name\":\"VF9\",\"Mesh_dimension\":2,\"Mesh_type\":\"Non conforming cartesian\",\"Mesh_cell_type\":\"Quadrangles Polygons \",\"Test_color\":\"Green\",\"Mesh_number_of_elements\":40960},{\"index\":18,\"qgrid_unfiltered_index\":18,\"PDE_model\":\"Poisson\",\"Numerical_method_space_discretization\":\"Finite volumes\",\"Numerical_method_name\":\"VF9\",\"Mesh_dimension\":2,\"Mesh_type\":\"Non conforming cartesian\",\"Mesh_cell_type\":\"Quadrangles Polygons \",\"Test_color\":\"Green\",\"Mesh_number_of_elements\":160},{\"index\":19,\"qgrid_unfiltered_index\":19,\"PDE_model\":\"Poisson\",\"Numerical_method_space_discretization\":\"Finite volumes\",\"Numerical_method_name\":\"VF9\",\"Mesh_dimension\":2,\"Mesh_type\":\"Non conforming cartesian\",\"Mesh_cell_type\":\"Quadrangles Polygons \",\"Test_color\":\"Green\",\"Mesh_number_of_elements\":40},{\"index\":20,\"qgrid_unfiltered_index\":20,\"PDE_model\":\"Poisson\",\"Numerical_method_space_discretization\":\"Finite volumes\",\"Numerical_method_name\":\"VF9\",\"Mesh_dimension\":2,\"Mesh_type\":\"Non conforming cartesian\",\"Mesh_cell_type\":\"Quadrangles Polygons \",\"Test_color\":\"Green\",\"Mesh_number_of_elements\":2560},{\"index\":21,\"qgrid_unfiltered_index\":21,\"PDE_model\":\"Poisson\",\"Numerical_method_space_discretization\":\"Finite volumes\",\"Numerical_method_name\":\"VF9\",\"Mesh_dimension\":2,\"Mesh_type\":\"Non conforming cartesian\",\"Mesh_cell_type\":\"Quadrangles Polygons \",\"Test_color\":\"Green\",\"Mesh_number_of_elements\":10240},{\"index\":22,\"qgrid_unfiltered_index\":22,\"PDE_model\":\"Poisson\",\"Numerical_method_space_discretization\":\"Finite volumes\",\"Numerical_method_name\":\"VF9\",\"Mesh_dimension\":2,\"Mesh_type\":\"Non conforming cartesian\",\"Mesh_cell_type\":\"Quadrangles Polygons \",\"Test_color\":\"Green\",\"Mesh_number_of_elements\":640},{\"index\":23,\"qgrid_unfiltered_index\":23,\"PDE_model\":\"Poisson\",\"Numerical_method_space_discretization\":\"Finite volumes\",\"Numerical_method_name\":\"VF27\",\"Mesh_dimension\":3,\"Mesh_type\":\"Unstructured tetrahedra\",\"Mesh_cell_type\":\"Tetrahedra \",\"Test_color\":\"Green\",\"Mesh_number_of_elements\":2081},{\"index\":24,\"qgrid_unfiltered_index\":24,\"PDE_model\":\"Poisson\",\"Numerical_method_space_discretization\":\"Finite volumes\",\"Numerical_method_name\":\"VF27\",\"Mesh_dimension\":3,\"Mesh_type\":\"Unstructured tetrahedra\",\"Mesh_cell_type\":\"Tetrahedra \",\"Test_color\":\"Green\",\"Mesh_number_of_elements\":4077},{\"index\":25,\"qgrid_unfiltered_index\":25,\"PDE_model\":\"Poisson\",\"Numerical_method_space_discretization\":\"Finite volumes\",\"Numerical_method_name\":\"VF27\",\"Mesh_dimension\":3,\"Mesh_type\":\"Unstructured tetrahedra\",\"Mesh_cell_type\":\"Tetrahedra \",\"Test_color\":\"Green\",\"Mesh_number_of_elements\":28561},{\"index\":26,\"qgrid_unfiltered_index\":26,\"PDE_model\":\"Poisson\",\"Numerical_method_space_discretization\":\"Finite volumes\",\"Numerical_method_name\":\"VF27\",\"Mesh_dimension\":3,\"Mesh_type\":\"Unstructured tetrahedra\",\"Mesh_cell_type\":\"Tetrahedra \",\"Test_color\":\"Green\",\"Mesh_number_of_elements\":270},{\"index\":27,\"qgrid_unfiltered_index\":27,\"PDE_model\":\"Poisson\",\"Numerical_method_space_discretization\":\"Finite volumes\",\"Numerical_method_name\":\"VF27\",\"Mesh_dimension\":3,\"Mesh_type\":\"Unstructured tetrahedra\",\"Mesh_cell_type\":\"Tetrahedra \",\"Test_color\":\"Green\",\"Mesh_number_of_elements\":16834},{\"index\":28,\"qgrid_unfiltered_index\":28,\"PDE_model\":\"Poisson\",\"Numerical_method_space_discretization\":\"Finite volumes\",\"Numerical_method_name\":\"VF27\",\"Mesh_dimension\":3,\"Mesh_type\":\"Unstructured tetrahedra\",\"Mesh_cell_type\":\"Tetrahedra \",\"Test_color\":\"Green\",\"Mesh_number_of_elements\":63249},{\"index\":29,\"qgrid_unfiltered_index\":29,\"PDE_model\":\"Poisson\",\"Numerical_method_space_discretization\":\"Finite volumes\",\"Numerical_method_name\":\"VF27\",\"Mesh_dimension\":3,\"Mesh_type\":\"Unstructured tetrahedra\",\"Mesh_cell_type\":\"Tetrahedra \",\"Test_color\":\"Green\",\"Mesh_number_of_elements\":7629},{\"index\":30,\"qgrid_unfiltered_index\":30,\"PDE_model\":\"Wave system\",\"Numerical_method_space_discretization\":\"Finite volumes\",\"Numerical_method_name\":\"Upwind\",\"Mesh_dimension\":2,\"Mesh_type\":\"Regular squares\",\"Mesh_cell_type\":\"Quadrangles \",\"Test_color\":\"Green\",\"Mesh_number_of_elements\":225},{\"index\":31,\"qgrid_unfiltered_index\":31,\"PDE_model\":\"Wave system\",\"Numerical_method_space_discretization\":\"Finite volumes\",\"Numerical_method_name\":\"Upwind\",\"Mesh_dimension\":2,\"Mesh_type\":\"Regular squares\",\"Mesh_cell_type\":\"Quadrangles \",\"Test_color\":\"Green\",\"Mesh_number_of_elements\":49},{\"index\":32,\"qgrid_unfiltered_index\":32,\"PDE_model\":\"Wave system\",\"Numerical_method_space_discretization\":\"Finite volumes\",\"Numerical_method_name\":\"Upwind\",\"Mesh_dimension\":2,\"Mesh_type\":\"Regular squares\",\"Mesh_cell_type\":\"Quadrangles \",\"Test_color\":\"Green\",\"Mesh_number_of_elements\":6561},{\"index\":33,\"qgrid_unfiltered_index\":33,\"PDE_model\":\"Wave system\",\"Numerical_method_space_discretization\":\"Finite volumes\",\"Numerical_method_name\":\"Upwind\",\"Mesh_dimension\":2,\"Mesh_type\":\"Regular squares\",\"Mesh_cell_type\":\"Quadrangles \",\"Test_color\":\"Green\",\"Mesh_number_of_elements\":961},{\"index\":34,\"qgrid_unfiltered_index\":34,\"PDE_model\":\"Wave system\",\"Numerical_method_space_discretization\":\"Finite volumes\",\"Numerical_method_name\":\"Upwind\",\"Mesh_dimension\":2,\"Mesh_type\":\"Regular squares\",\"Mesh_cell_type\":\"Quadrangles \",\"Test_color\":\"Green\",\"Mesh_number_of_elements\":2601},{\"index\":35,\"qgrid_unfiltered_index\":35,\"PDE_model\":\"Poisson\",\"Numerical_method_space_discretization\":\"Finite volumes\",\"Numerical_method_name\":\"VF9\",\"Mesh_dimension\":2,\"Mesh_type\":\"Unstructured triangles\",\"Mesh_cell_type\":\"Triangles \",\"Test_color\":\"Green\",\"Mesh_number_of_elements\":40},{\"index\":36,\"qgrid_unfiltered_index\":36,\"PDE_model\":\"Poisson\",\"Numerical_method_space_discretization\":\"Finite volumes\",\"Numerical_method_name\":\"VF9\",\"Mesh_dimension\":2,\"Mesh_type\":\"Unstructured triangles\",\"Mesh_cell_type\":\"Triangles \",\"Test_color\":\"Green\",\"Mesh_number_of_elements\":224},{\"index\":37,\"qgrid_unfiltered_index\":37,\"PDE_model\":\"Poisson\",\"Numerical_method_space_discretization\":\"Finite volumes\",\"Numerical_method_name\":\"VF9\",\"Mesh_dimension\":2,\"Mesh_type\":\"Unstructured triangles\",\"Mesh_cell_type\":\"Triangles \",\"Test_color\":\"Green\",\"Mesh_number_of_elements\":934},{\"index\":38,\"qgrid_unfiltered_index\":38,\"PDE_model\":\"Poisson\",\"Numerical_method_space_discretization\":\"Finite volumes\",\"Numerical_method_name\":\"VF9\",\"Mesh_dimension\":2,\"Mesh_type\":\"Unstructured triangles\",\"Mesh_cell_type\":\"Triangles \",\"Test_color\":\"Green\",\"Mesh_number_of_elements\":25872},{\"index\":39,\"qgrid_unfiltered_index\":39,\"PDE_model\":\"Poisson\",\"Numerical_method_space_discretization\":\"Finite volumes\",\"Numerical_method_name\":\"VF9\",\"Mesh_dimension\":2,\"Mesh_type\":\"Unstructured triangles\",\"Mesh_cell_type\":\"Triangles \",\"Test_color\":\"Green\",\"Mesh_number_of_elements\":6422},{\"index\":40,\"qgrid_unfiltered_index\":40,\"PDE_model\":\"Poisson\",\"Numerical_method_space_discretization\":\"Finite volumes\",\"Numerical_method_name\":\"VF9\",\"Mesh_dimension\":2,\"Mesh_type\":\"Regular squares\",\"Mesh_cell_type\":\"Quadrangles \",\"Test_color\":\"Green\",\"Mesh_number_of_elements\":22801},{\"index\":41,\"qgrid_unfiltered_index\":41,\"PDE_model\":\"Poisson\",\"Numerical_method_space_discretization\":\"Finite volumes\",\"Numerical_method_name\":\"VF9\",\"Mesh_dimension\":2,\"Mesh_type\":\"Regular squares\",\"Mesh_cell_type\":\"Quadrangles \",\"Test_color\":\"Green\",\"Mesh_number_of_elements\":2601},{\"index\":42,\"qgrid_unfiltered_index\":42,\"PDE_model\":\"Poisson\",\"Numerical_method_space_discretization\":\"Finite volumes\",\"Numerical_method_name\":\"VF9\",\"Mesh_dimension\":2,\"Mesh_type\":\"Regular squares\",\"Mesh_cell_type\":\"Quadrangles \",\"Test_color\":\"Green\",\"Mesh_number_of_elements\":121},{\"index\":43,\"qgrid_unfiltered_index\":43,\"PDE_model\":\"Poisson\",\"Numerical_method_space_discretization\":\"Finite volumes\",\"Numerical_method_name\":\"VF9\",\"Mesh_dimension\":2,\"Mesh_type\":\"Regular squares\",\"Mesh_cell_type\":\"Quadrangles \",\"Test_color\":\"Green\",\"Mesh_number_of_elements\":40401},{\"index\":44,\"qgrid_unfiltered_index\":44,\"PDE_model\":\"Poisson\",\"Numerical_method_space_discretization\":\"Finite volumes\",\"Numerical_method_name\":\"VF27\",\"Mesh_dimension\":3,\"Mesh_type\":\"Regular cubes\",\"Mesh_cell_type\":\"Hexahedra \",\"Test_color\":\"Green\",\"Mesh_number_of_elements\":1331},{\"index\":45,\"qgrid_unfiltered_index\":45,\"PDE_model\":\"Poisson\",\"Numerical_method_space_discretization\":\"Finite volumes\",\"Numerical_method_name\":\"VF27\",\"Mesh_dimension\":3,\"Mesh_type\":\"Regular cubes\",\"Mesh_cell_type\":\"Hexahedra \",\"Test_color\":\"Green\",\"Mesh_number_of_elements\":9261},{\"index\":46,\"qgrid_unfiltered_index\":46,\"PDE_model\":\"Poisson\",\"Numerical_method_space_discretization\":\"Finite volumes\",\"Numerical_method_name\":\"VF27\",\"Mesh_dimension\":3,\"Mesh_type\":\"Regular cubes\",\"Mesh_cell_type\":\"Hexahedra \",\"Test_color\":\"Green\",\"Mesh_number_of_elements\":68921},{\"index\":47,\"qgrid_unfiltered_index\":47,\"PDE_model\":\"Wave system\",\"Numerical_method_space_discretization\":\"Finite volumes\",\"Numerical_method_name\":\"Upwind\",\"Mesh_dimension\":3,\"Mesh_type\":\"Regular cubes\",\"Mesh_cell_type\":\"Hexahedra \",\"Test_color\":\"Green\",\"Mesh_number_of_elements\":9261},{\"index\":48,\"qgrid_unfiltered_index\":48,\"PDE_model\":\"Wave system\",\"Numerical_method_space_discretization\":\"Finite volumes\",\"Numerical_method_name\":\"Upwind\",\"Mesh_dimension\":3,\"Mesh_type\":\"Regular cubes\",\"Mesh_cell_type\":\"Hexahedra \",\"Test_color\":\"Green\",\"Mesh_number_of_elements\":1331},{\"index\":49,\"qgrid_unfiltered_index\":49,\"PDE_model\":\"Wave system\",\"Numerical_method_space_discretization\":\"Finite volumes\",\"Numerical_method_name\":\"Upwind\",\"Mesh_dimension\":3,\"Mesh_type\":\"Regular cubes\",\"Mesh_cell_type\":\"Hexahedra \",\"Test_color\":\"Green\",\"Mesh_number_of_elements\":29791},{\"index\":50,\"qgrid_unfiltered_index\":50,\"PDE_model\":\"Poisson\",\"Numerical_method_space_discretization\":\"Finite elements\",\"Numerical_method_name\":\"P1 FE\",\"Mesh_dimension\":2,\"Mesh_type\":\"Unstructured triangles\",\"Mesh_cell_type\":\"Triangles \",\"Test_color\":\"Green\",\"Mesh_number_of_elements\":3310},{\"index\":51,\"qgrid_unfiltered_index\":51,\"PDE_model\":\"Poisson\",\"Numerical_method_space_discretization\":\"Finite elements\",\"Numerical_method_name\":\"P1 FE\",\"Mesh_dimension\":2,\"Mesh_type\":\"Unstructured triangles\",\"Mesh_cell_type\":\"Triangles \",\"Test_color\":\"Green\",\"Mesh_number_of_elements\":131},{\"index\":52,\"qgrid_unfiltered_index\":52,\"PDE_model\":\"Poisson\",\"Numerical_method_space_discretization\":\"Finite elements\",\"Numerical_method_name\":\"P1 FE\",\"Mesh_dimension\":2,\"Mesh_type\":\"Unstructured triangles\",\"Mesh_cell_type\":\"Triangles \",\"Test_color\":\"Green\",\"Mesh_number_of_elements\":506},{\"index\":53,\"qgrid_unfiltered_index\":53,\"PDE_model\":\"Poisson\",\"Numerical_method_space_discretization\":\"Finite elements\",\"Numerical_method_name\":\"P1 FE\",\"Mesh_dimension\":2,\"Mesh_type\":\"Unstructured triangles\",\"Mesh_cell_type\":\"Triangles \",\"Test_color\":\"Green\",\"Mesh_number_of_elements\":29},{\"index\":54,\"qgrid_unfiltered_index\":54,\"PDE_model\":\"Poisson\",\"Numerical_method_space_discretization\":\"Finite elements\",\"Numerical_method_name\":\"P1 FE\",\"Mesh_dimension\":2,\"Mesh_type\":\"Unstructured triangles\",\"Mesh_cell_type\":\"Triangles \",\"Test_color\":\"Green\",\"Mesh_number_of_elements\":13135},{\"index\":55,\"qgrid_unfiltered_index\":55,\"PDE_model\":\"Poisson\",\"Numerical_method_space_discretization\":\"Finite elements\",\"Numerical_method_name\":\"P1 FE\",\"Mesh_dimension\":3,\"Mesh_type\":\"Unstructured tetrahedra\",\"Mesh_cell_type\":\"Tetrahedra \",\"Test_color\":\"Green\",\"Mesh_number_of_elements\":74},{\"index\":56,\"qgrid_unfiltered_index\":56,\"PDE_model\":\"Poisson\",\"Numerical_method_space_discretization\":\"Finite elements\",\"Numerical_method_name\":\"P1 FE\",\"Mesh_dimension\":3,\"Mesh_type\":\"Unstructured tetrahedra\",\"Mesh_cell_type\":\"Tetrahedra \",\"Test_color\":\"Green\",\"Mesh_number_of_elements\":841},{\"index\":57,\"qgrid_unfiltered_index\":57,\"PDE_model\":\"Poisson\",\"Numerical_method_space_discretization\":\"Finite elements\",\"Numerical_method_name\":\"P1 FE\",\"Mesh_dimension\":3,\"Mesh_type\":\"Unstructured tetrahedra\",\"Mesh_cell_type\":\"Tetrahedra \",\"Test_color\":\"Green\",\"Mesh_number_of_elements\":508},{\"index\":58,\"qgrid_unfiltered_index\":58,\"PDE_model\":\"Poisson\",\"Numerical_method_space_discretization\":\"Finite elements\",\"Numerical_method_name\":\"P1 FE\",\"Mesh_dimension\":3,\"Mesh_type\":\"Unstructured tetrahedra\",\"Mesh_cell_type\":\"Tetrahedra \",\"Test_color\":\"Green\",\"Mesh_number_of_elements\":3372},{\"index\":59,\"qgrid_unfiltered_index\":59,\"PDE_model\":\"Poisson\",\"Numerical_method_space_discretization\":\"Finite elements\",\"Numerical_method_name\":\"P1 FE\",\"Mesh_dimension\":3,\"Mesh_type\":\"Unstructured tetrahedra\",\"Mesh_cell_type\":\"Tetrahedra \",\"Test_color\":\"Green\",\"Mesh_number_of_elements\":5956},{\"index\":60,\"qgrid_unfiltered_index\":60,\"PDE_model\":\"Poisson\",\"Numerical_method_space_discretization\":\"Finite elements\",\"Numerical_method_name\":\"P1 FE\",\"Mesh_dimension\":3,\"Mesh_type\":\"Unstructured tetrahedra\",\"Mesh_cell_type\":\"Tetrahedra \",\"Test_color\":\"Green\",\"Mesh_number_of_elements\":1543},{\"index\":61,\"qgrid_unfiltered_index\":61,\"PDE_model\":\"Poisson\",\"Numerical_method_space_discretization\":\"Finite elements\",\"Numerical_method_name\":\"P1 FE\",\"Mesh_dimension\":3,\"Mesh_type\":\"Unstructured tetrahedra\",\"Mesh_cell_type\":\"Tetrahedra \",\"Test_color\":\"Green\",\"Mesh_number_of_elements\":12465},{\"index\":62,\"qgrid_unfiltered_index\":62,\"PDE_model\":\"Wave system\",\"Numerical_method_space_discretization\":\"Finite volumes\",\"Numerical_method_name\":\"Upwind\",\"Mesh_dimension\":3,\"Mesh_type\":\"Regular tetrahedra\",\"Mesh_cell_type\":\"Tetrahedra \",\"Test_color\":\"Green\",\"Mesh_number_of_elements\":7986},{\"index\":63,\"qgrid_unfiltered_index\":63,\"PDE_model\":\"Wave system\",\"Numerical_method_space_discretization\":\"Finite volumes\",\"Numerical_method_name\":\"Upwind\",\"Mesh_dimension\":3,\"Mesh_type\":\"Regular tetrahedra\",\"Mesh_cell_type\":\"Tetrahedra \",\"Test_color\":\"Green\",\"Mesh_number_of_elements\":55566},{\"index\":64,\"qgrid_unfiltered_index\":64,\"PDE_model\":\"Wave system\",\"Numerical_method_space_discretization\":\"Finite volumes\",\"Numerical_method_name\":\"Upwind\",\"Mesh_dimension\":3,\"Mesh_type\":\"Regular tetrahedra\",\"Mesh_cell_type\":\"Tetrahedra \",\"Test_color\":\"Green\",\"Mesh_number_of_elements\":750},{\"index\":65,\"qgrid_unfiltered_index\":65,\"PDE_model\":\"Poisson\",\"Numerical_method_space_discretization\":\"Finite volumes\",\"Numerical_method_name\":\"VF27\",\"Mesh_dimension\":3,\"Mesh_type\":\"Non conforming cartesian\",\"Mesh_cell_type\":\"Hexahedra Polyhedrons \",\"Test_color\":\"Green\",\"Mesh_number_of_elements\":36},{\"index\":66,\"qgrid_unfiltered_index\":66,\"PDE_model\":\"Poisson\",\"Numerical_method_space_discretization\":\"Finite volumes\",\"Numerical_method_name\":\"VF27\",\"Mesh_dimension\":3,\"Mesh_type\":\"Non conforming cartesian\",\"Mesh_cell_type\":\"Hexahedra Polyhedrons \",\"Test_color\":\"Green\",\"Mesh_number_of_elements\":288},{\"index\":67,\"qgrid_unfiltered_index\":67,\"PDE_model\":\"Poisson\",\"Numerical_method_space_discretization\":\"Finite volumes\",\"Numerical_method_name\":\"VF27\",\"Mesh_dimension\":3,\"Mesh_type\":\"Non conforming cartesian\",\"Mesh_cell_type\":\"Hexahedra Polyhedrons \",\"Test_color\":\"Green\",\"Mesh_number_of_elements\":2304},{\"index\":68,\"qgrid_unfiltered_index\":68,\"PDE_model\":\"Poisson\",\"Numerical_method_space_discretization\":\"Finite volumes\",\"Numerical_method_name\":\"VF27\",\"Mesh_dimension\":3,\"Mesh_type\":\"Non conforming cartesian\",\"Mesh_cell_type\":\"Hexahedra Polyhedrons \",\"Test_color\":\"Green\",\"Mesh_number_of_elements\":18432}]}",
       "_df_range": [
        0,
        100
       ],
       "_editable_rows": {},
       "_index_col_name": "qgrid_unfiltered_index",
       "_interval_columns": [],
       "_model_module_version": "1.1.1",
       "_multi_index": false,
       "_row_count": 69,
       "_row_styles": {},
       "_sort_ascending": true,
       "_sort_field": null,
       "_view_module_version": "1.1.1",
       "_viewport_range": [
        0,
        41
       ],
       "grid_options": {
        "autoEdit": false,
        "boldIndex": true,
        "defaultColumnWidth": 150,
        "editable": false,
        "enableColumnReorder": true,
        "enableTextSelectionOnCells": true,
        "explicitInitialization": true,
        "filterable": true,
        "forceFitColumns": true,
        "fullWidthRows": true,
        "highlightSelectedCell": false,
        "highlightSelectedRow": true,
        "maxVisibleRows": 40,
        "minVisibleRows": 8,
        "rowHeight": 28,
        "sortable": true,
        "syncColumnCellResize": true
       },
       "id": "dac51679-acbb-4b99-9a50-f92070dd1fa1",
       "layout": "IPY_MODEL_5e4375bc84d8418392571b4d82649005",
       "precision": 5,
       "show_toolbar": false
      }
     }
    },
    "version_major": 2,
    "version_minor": 0
   }
  }
 },
 "nbformat": 4,
 "nbformat_minor": 2
}
