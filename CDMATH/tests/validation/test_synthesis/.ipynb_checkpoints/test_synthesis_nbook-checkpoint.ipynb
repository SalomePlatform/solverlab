{
 "cells": [
  {
   "cell_type": "code",
   "execution_count": 2,
   "metadata": {
    "collapsed": true
   },
   "outputs": [],
   "source": [
    "import glob\n",
    "import json\n",
    "import pandas as pd"
   ]
  },
  {
   "cell_type": "markdown",
   "metadata": {},
   "source": [
    "let us gather the name of all json files into a list"
   ]
  },
  {
   "cell_type": "code",
   "execution_count": 3,
   "metadata": {},
   "outputs": [
    {
     "name": "stdout",
     "output_type": "stream",
     "text": [
      "the description files : \n",
      "['test2/description.json', 'test1/description.json']\n",
      "will be imported\n"
     ]
    }
   ],
   "source": [
    "description_files = glob.glob('test*/*.json')\n",
    "\n",
    "print(\"the description files : \")\n",
    "print(description_files)\n",
    "print(\"will be imported\")"
   ]
  },
  {
   "cell_type": "markdown",
   "metadata": {},
   "source": [
    "Each json file content will be imported into a python dict, all these dict will be gathered into a list called `all_descripitions`"
   ]
  },
  {
   "cell_type": "code",
   "execution_count": 4,
   "metadata": {},
   "outputs": [
    {
     "name": "stdout",
     "output_type": "stream",
     "text": [
      "json files have been imported\n"
     ]
    }
   ],
   "source": [
    "# Let's import all json files into a list of dictionaries\n",
    "all_descriptions = []\n",
    "\n",
    "for file_name in description_files:\n",
    "    with open(file_name, 'r') as fd:\n",
    "        all_descriptions.append(json.load(fd))\n",
    "\n",
    "print(\"json files have been imported\")"
   ]
  },
  {
   "cell_type": "markdown",
   "metadata": {},
   "source": [
    " Let's print out the resulting `all_descriptions` object"
   ]
  },
  {
   "cell_type": "code",
   "execution_count": 5,
   "metadata": {
    "collapsed": true
   },
   "outputs": [
    {
     "name": "stdout",
     "output_type": "stream",
     "text": [
      "[{'Boundary conditions': 'Dirichlet',\n",
      "  'CFL': 0.5,\n",
      "  'Computational time taken by run': 0,\n",
      "  'Final number of time steps after run': 0,\n",
      "  'Final time after run': 0,\n",
      "  'Geometry': 'Square',\n",
      "  'Initial data': 'constant state',\n",
      "  'Linear system resolution': {'Condition number': 0,\n",
      "                               'Iterations': 0,\n",
      "                               'error': 0},\n",
      "  'Maximum time': 100,\n",
      "  'Maximum time step': 10000,\n",
      "  'Mesh convergence': True,\n",
      "  'Mesh dimension': 2,\n",
      "  'Mesh type': {'Cell type': 'Triangles',\n",
      "                'Element type': 'Cells',\n",
      "                'Max number of neighbours': 0,\n",
      "                'Number of elements': 400,\n",
      "                'Unstructured': True},\n",
      "  'Name': ' my favorite heat equation stuff!  ',\n",
      "  'Numerical method name': 'cc',\n",
      "  'Output frequency': 100,\n",
      "  'PDE model': 'Heat equation',\n",
      "  'PDE time status': {'Evolution problem': 'Stationary search',\n",
      "                      'Stationary': False},\n",
      "  'Remark': \"let's solve the heat equation\",\n",
      "  'Space dimension': 2,\n",
      "  'Space discretization': 'Finite volumes',\n",
      "  'Space step': 1e-05,\n",
      "  'Time discretization': {'Algorithm': 'GMRES',\n",
      "                          'Implicit': True,\n",
      "                          'Maximum iterations': 100,\n",
      "                          'Precision': 1e-05,\n",
      "                          'Preconditioner': 'LU'},\n",
      "  'Time step': 1e-05,\n",
      "  '||actual-ref||': 0},\n",
      " {'Boundary conditions': 'Periodic',\n",
      "  'CFL': 0,\n",
      "  'Computational time taken by run': 0,\n",
      "  'Final number of time steps after run': 0,\n",
      "  'Final time after run': 0,\n",
      "  'Geometry': 'Square',\n",
      "  'Initial data': 'Divergence free',\n",
      "  'Linear system resolution': {'Condition number': 0,\n",
      "                               'Iterations': 0,\n",
      "                               'error': 0},\n",
      "  'Maximum time': 100,\n",
      "  'Maximum time step': 10000,\n",
      "  'Mesh convergence': True,\n",
      "  'Mesh dimension': 2,\n",
      "  'Mesh type': {'Cell type': 'Squares',\n",
      "                'Element type': 'Cells',\n",
      "                'Max number of neighbours': 0,\n",
      "                'Number of elements': 400,\n",
      "                'Unstructured': True},\n",
      "  'Name': 'Wave system with pseudostaggered scheme on regular grid',\n",
      "  'Numerical method name': 'Pseudo staggered',\n",
      "  'Output frequency': 100,\n",
      "  'PDE model': 'Wave system',\n",
      "  'PDE time status': {'Evolution problem': 'Stationary search',\n",
      "                      'Stationary': False},\n",
      "  'Remark': 'New scheme for low Mach flows',\n",
      "  'Space dimension': 2,\n",
      "  'Space discretization': 'Finite volumes',\n",
      "  'Space step': 1e-05,\n",
      "  'Time discretization': {'Algorithm': 'GMRES',\n",
      "                          'Implicit': True,\n",
      "                          'Maximum iterations': 100,\n",
      "                          'Precision': 1e-05,\n",
      "                          'Preconditioner': 'LU'},\n",
      "  'Time step': 1e-05,\n",
      "  '||actual-ref||': 0}]\n"
     ]
    }
   ],
   "source": [
    "import pprint as pp\n",
    "pp.pprint(all_descriptions)"
   ]
  },
  {
   "cell_type": "code",
   "execution_count": 15,
   "metadata": {},
   "outputs": [
    {
     "name": "stdout",
     "output_type": "stream",
     "text": [
      "the pandas dataframe has been created\n",
      "printing the columns of the dataframe\n",
      "Index(['Boundary conditions', 'CFL', 'Computational time taken by run',\n",
      "       'Final number of time steps after run', 'Final time after run',\n",
      "       'Geometry', 'Initial data', 'Linear system resolution', 'Maximum time',\n",
      "       'Maximum time step', 'Mesh convergence', 'Mesh dimension', 'Mesh type',\n",
      "       'Name', 'Numerical method name', 'Output frequency', 'PDE model',\n",
      "       'PDE time status', 'Remark', 'Space dimension', 'Space discretization',\n",
      "       'Space step', 'Time discretization', 'Time step', '||actual-ref||'],\n",
      "      dtype='object')\n"
     ]
    }
   ],
   "source": [
    "# Let's create a pandas dataframe out of our dict list\n",
    "df = pd.DataFrame(all_descriptions)\n",
    "print(\"the pandas dataframe has been created\")\n",
    "\n",
    "list_of_all_columns = df.columns\n",
    "print(\"printing the columns of the dataframe\")\n",
    "pp.pprint(list_of_all_columns)"
   ]
  },
  {
   "cell_type": "code",
   "execution_count": 6,
   "metadata": {
    "collapsed": true
   },
   "outputs": [
    {
     "name": "stdout",
     "output_type": "stream",
     "text": [
      "the pandas dataframe has been created\n",
      "printing the columns of the dataframe\n",
      "Index(['Boundary conditions', 'CFL', 'Computational time taken by run',\n",
      "       'Final number of time steps after run', 'Final time after run',\n",
      "       'Geometry', 'Initial data', 'Linear system resolution', 'Maximum time',\n",
      "       'Maximum time step', 'Mesh convergence', 'Mesh dimension', 'Mesh type',\n",
      "       'Name', 'Numerical method name', 'Output frequency', 'PDE model',\n",
      "       'PDE time status', 'Remark', 'Space dimension', 'Space discretization',\n",
      "       'Space step', 'Time discretization', 'Time step', '||actual-ref||'],\n",
      "      dtype='object')\n",
      "printing the dataframe\n",
      "  Boundary conditions  CFL  Computational time taken by run  \\\n",
      "0           Dirichlet  0.5                                0   \n",
      "1            Periodic  0.0                                0   \n",
      "\n",
      "   Final number of time steps after run  Final time after run Geometry  \\\n",
      "0                                     0                     0   Square   \n",
      "1                                     0                     0   Square   \n",
      "\n",
      "      Initial data                           Linear system resolution  \\\n",
      "0   constant state  {'Iterations': 0, 'error': 0, 'Condition numbe...   \n",
      "1  Divergence free  {'Iterations': 0, 'error': 0, 'Condition numbe...   \n",
      "\n",
      "   Maximum time  Maximum time step       ...        Output frequency  \\\n",
      "0           100              10000       ...                     100   \n",
      "1           100              10000       ...                     100   \n",
      "\n",
      "       PDE model                                    PDE time status  \\\n",
      "0  Heat equation  {'Stationary': False, 'Evolution problem': 'St...   \n",
      "1    Wave system  {'Stationary': False, 'Evolution problem': 'St...   \n",
      "\n",
      "                          Remark Space dimension  Space discretization  \\\n",
      "0  let's solve the heat equation               2        Finite volumes   \n",
      "1  New scheme for low Mach flows               2        Finite volumes   \n",
      "\n",
      "  Space step                                Time discretization Time step  \\\n",
      "0    0.00001  {'Implicit': True, 'Algorithm': 'GMRES', 'Prec...   0.00001   \n",
      "1    0.00001  {'Implicit': True, 'Algorithm': 'GMRES', 'Prec...   0.00001   \n",
      "\n",
      "   ||actual-ref||  \n",
      "0               0  \n",
      "1               0  \n",
      "\n",
      "[2 rows x 25 columns]\n",
      "values of the Name column\n",
      "0                   my favorite heat equation stuff!  \n",
      "1    Wave system with pseudostaggered scheme on reg...\n",
      "Name: Name, dtype: object\n"
     ]
    }
   ],
   "source": [
    "print(\"printing the dataframe\")\n",
    "pp.pprint(df)\n",
    "\n",
    "# print values of columns: the name of the column can be used as attributes\n",
    "print(\"values of the Name column\")\n",
    "print(df.Name)"
   ]
  },
  {
   "cell_type": "code",
   "execution_count": 7,
   "metadata": {},
   "outputs": [
    {
     "name": "stdout",
     "output_type": "stream",
     "text": [
      "sub_df1\n",
      "  Geometry  CFL\n",
      "0   Square  0.5\n",
      "1   Square  0.0\n"
     ]
    }
   ],
   "source": [
    "# a new dataframe with a few columns only\n",
    "column_list = ['Geometry', 'CFL']\n",
    "sub_df1 = df[column_list]\n",
    "print(\"sub_df1\")\n",
    "pp.pprint(sub_df1)"
   ]
  },
  {
   "cell_type": "code",
   "execution_count": 8,
   "metadata": {
    "collapsed": true
   },
   "outputs": [
    {
     "name": "stdout",
     "output_type": "stream",
     "text": [
      "sub_df2\n",
      "  Boundary conditions  CFL  Computational time taken by run  \\\n",
      "0           Dirichlet  0.5                                0   \n",
      "\n",
      "   Final number of time steps after run  Final time after run Geometry  \\\n",
      "0                                     0                     0   Square   \n",
      "\n",
      "     Initial data                           Linear system resolution  \\\n",
      "0  constant state  {'Iterations': 0, 'error': 0, 'Condition numbe...   \n",
      "\n",
      "   Maximum time  Maximum time step       ...        Output frequency  \\\n",
      "0           100              10000       ...                     100   \n",
      "\n",
      "       PDE model                                    PDE time status  \\\n",
      "0  Heat equation  {'Stationary': False, 'Evolution problem': 'St...   \n",
      "\n",
      "                          Remark Space dimension  Space discretization  \\\n",
      "0  let's solve the heat equation               2        Finite volumes   \n",
      "\n",
      "  Space step                                Time discretization Time step  \\\n",
      "0    0.00001  {'Implicit': True, 'Algorithm': 'GMRES', 'Prec...   0.00001   \n",
      "\n",
      "   ||actual-ref||  \n",
      "0               0  \n",
      "\n",
      "[1 rows x 25 columns]\n"
     ]
    }
   ],
   "source": [
    "# a new dataframe according to the CFL value\n",
    "sub_df2 = df[df.CFL > 0.1]\n",
    "print(\"sub_df2\")\n",
    "pp.pprint(sub_df2)"
   ]
  },
  {
   "cell_type": "code",
   "execution_count": 9,
   "metadata": {
    "collapsed": true
   },
   "outputs": [
    {
     "name": "stdout",
     "output_type": "stream",
     "text": [
      "sub_df3\n",
      "  Boundary conditions  CFL  Computational time taken by run  \\\n",
      "0           Dirichlet  0.5                                0   \n",
      "\n",
      "   Final number of time steps after run  Final time after run Geometry  \\\n",
      "0                                     0                     0   Square   \n",
      "\n",
      "     Initial data                           Linear system resolution  \\\n",
      "0  constant state  {'Iterations': 0, 'error': 0, 'Condition numbe...   \n",
      "\n",
      "   Maximum time  Maximum time step       ...        Output frequency  \\\n",
      "0           100              10000       ...                     100   \n",
      "\n",
      "       PDE model                                    PDE time status  \\\n",
      "0  Heat equation  {'Stationary': False, 'Evolution problem': 'St...   \n",
      "\n",
      "                          Remark Space dimension  Space discretization  \\\n",
      "0  let's solve the heat equation               2        Finite volumes   \n",
      "\n",
      "  Space step                                Time discretization Time step  \\\n",
      "0    0.00001  {'Implicit': True, 'Algorithm': 'GMRES', 'Prec...   0.00001   \n",
      "\n",
      "   ||actual-ref||  \n",
      "0               0  \n",
      "\n",
      "[1 rows x 25 columns]\n"
     ]
    }
   ],
   "source": [
    "# sorting a dataframe\n",
    "df.sort_values(by=['Name', 'CFL'], ascending=True)\n",
    "\n",
    "sub_df3 = df[df['Boundary conditions'].isin(['Dirichlet'])]\n",
    "print(\"sub_df3\")\n",
    "pp.pprint(sub_df3)"
   ]
  },
  {
   "cell_type": "markdown",
   "metadata": {},
   "source": [
    "# Displaying tables with qgrid\n",
    "\n",
    "Let's play with `qgrid now`"
   ]
  },
  {
   "cell_type": "code",
   "execution_count": 20,
   "metadata": {
    "scrolled": true
   },
   "outputs": [
    {
     "data": {
      "application/vnd.jupyter.widget-view+json": {
       "model_id": "b5277ceac1fe4be2986ee2db08157f84",
       "version_major": 2,
       "version_minor": 0
      },
      "text/plain": [
       "A Jupyter Widget"
      ]
     },
     "metadata": {},
     "output_type": "display_data"
    }
   ],
   "source": [
    "import qgrid\n",
    "\n",
    "# here's a cool dictionnary of options for displaying data\n",
    "gopt={\n",
    "    'fullWidthRows': True,\n",
    "    'syncColumnCellResize': True,\n",
    "    'forceFitColumns': True,\n",
    "    'defaultColumnWidth': 150,\n",
    "    'rowHeight': 28,\n",
    "    'enableColumnReorder': True,\n",
    "    'enableTextSelectionOnCells': True,\n",
    "    'editable': False,\n",
    "    'autoEdit': False,\n",
    "    'explicitInitialization': True,\n",
    "    'maxVisibleRows': 40,\n",
    "    'minVisibleRows': 8,\n",
    "    'sortable': True,\n",
    "    'filterable': True,\n",
    "    'highlightSelectedCell': False,\n",
    "    'highlightSelectedRow': True\n",
    "}\n",
    "\n",
    "# let's create a jupyter table widget from the dataframe\n",
    "qgrid_widget=qgrid.show_grid(df[['Name','CFL','Linear system resolution']],grid_options=gopt, show_toolbar=False)\n",
    "\n",
    "# let's output this widget\n",
    "qgrid_widget"
   ]
  },
  {
   "cell_type": "markdown",
   "metadata": {},
   "source": [
    "# Exporting table to Excel format\n",
    "\n",
    "`pandas` can be used to export to excel, this is useful!"
   ]
  },
  {
   "cell_type": "code",
   "execution_count": 21,
   "metadata": {},
   "outputs": [
    {
     "name": "stdout",
     "output_type": "stream",
     "text": [
      "done writing file test_synthesis.xlsx\n"
     ]
    }
   ],
   "source": [
    "output_file_name='test_synthesis.xlsx'\n",
    "writer = pd.ExcelWriter(output_file_name)\n",
    "df.to_excel(writer,'Sheet1')\n",
    "writer.save()\n",
    "print(\"done writing file\"+output_file_name)"
   ]
  },
  {
   "cell_type": "code",
   "execution_count": 22,
   "metadata": {},
   "outputs": [
    {
     "name": "stdout",
     "output_type": "stream",
     "text": [
      "test_synthesis.xlsx  test_synthesis_nbook.ipynb  test_synthesis.py  \u001b[0m\u001b[01;34mtest1\u001b[0m/  \u001b[01;34mtest2\u001b[0m/\r\n"
     ]
    }
   ],
   "source": [
    "%ls"
   ]
  },
  {
   "cell_type": "code",
   "execution_count": null,
   "metadata": {
    "collapsed": true
   },
   "outputs": [],
   "source": []
  }
 ],
 "metadata": {
  "kernelspec": {
   "display_name": "Python 2",
   "language": "python",
   "name": "python2"
  },
  "language_info": {
   "codemirror_mode": {
    "name": "ipython",
    "version": 2
   },
   "file_extension": ".py",
   "mimetype": "text/x-python",
   "name": "python",
   "nbconvert_exporter": "python",
   "pygments_lexer": "ipython2",
   "version": "2.7.12"
  }
 },
 "nbformat": 4,
 "nbformat_minor": 2
}
