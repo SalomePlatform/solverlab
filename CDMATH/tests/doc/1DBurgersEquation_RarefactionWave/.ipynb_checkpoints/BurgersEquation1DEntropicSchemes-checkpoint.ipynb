{
 "cells": [
  {
   "cell_type": "markdown",
   "metadata": {
    "hideCode": false,
    "hidePrompt": false,
    "slideshow": {
     "slide_type": "slide"
    }
   },
   "source": [
    "# Entropic vs non entropic schemes for the Burgers' equation"
   ]
  },
  {
   "cell_type": "markdown",
   "metadata": {},
   "source": [
    "## Burgers' equation"
   ]
  },
  {
   "cell_type": "markdown",
   "metadata": {
    "hideCode": false,
    "hidePrompt": false,
    "slideshow": {
     "slide_type": "slide"
    }
   },
   "source": [
    "The velocity $u$ in an incompressible 1D flow with constant pressure is given by  \n",
    "\n",
    "$$\n",
    "\\partial_t u + \\partial_x\\frac{u^2}{2} = 0.\n",
    "$$\n",
    "\n",
    "Due to the non linear character of the equation, differentiable solutions to the Burgers' equation need not exist. For this reason we seek weak solutions (in the sense of distributions) to the Burgers' equation. Unfortunately weak solutions need not be unique and one need to add an extra condition to select the correct solution among all weak solutions.  \n",
    "We present here the selection criterion based on the fact that the admissible weak solution should not create some form of energy, namely the entropy. Such dissipative solutions are called entropic solutions."
   ]
  },
  {
   "cell_type": "markdown",
   "metadata": {},
   "source": [
    "## Entropic solutions\n",
    "Smooth solutions $u$ of the Burgers' equation are also solutions of the following conservative equation  \n",
    "\n",
    "$$\n",
    "\\partial_t u^2 + \\partial_x \\frac{u^3}{3} = 0.\n",
    "$$\n",
    "Hence $s(u)= u^2$ is an entropy for the Burgers' equation associated to the entropy flux $\\eta(u)=\\frac{u^3}{3}$.\n",
    "\n",
    "A weak solution of Burgers' equation satisfying\n",
    "$$\n",
    "\\partial_t s(u) + \\partial_x \\eta(u) \\leq 0\n",
    "$$\n",
    "is said to be entropic.  \n",
    "Entropic solutions are unique for scalar conservation laws such as Burgers' equation.  \n",
    "\n",
    "## Bibliography\n",
    "For more details see  \n",
    "- Denis Serre, *Systems of Conservation Laws 1: Hyperbolicity, entropies, shock waves*, Cambridge University Press, 1999\n",
    "- Randall J. LeVeque, *Finite volume methods for hyperbolic problems*, Cambridge university press, 2002.\n",
    "- Bruno Després, François Dubois, *Systèmes hyperboliques de lois de conservation - Application à la dynamique des gaz*, Ecole Polytechnique (editions) , 2005\n"
   ]
  },
  {
   "cell_type": "markdown",
   "metadata": {},
   "source": [
    "## Numerical example\n",
    "\n",
    "We consider Burgers' equation with the following initial data :\n",
    "$$\n",
    "u_0(x)=\\left\\{\\begin{array}{ccc}\n",
    "            -1     & \\textrm{ if } & x<0 \\\\\n",
    "             1     & \\textrm{ if } & x\\geq 0\n",
    "            \\end{array}\\right..\n",
    "$$\n",
    "The unique entropic solution is given by\n",
    "$$\n",
    "u^{entropic}(x,t)=\\left\\{\\begin{array}{ccc}\n",
    "            -1     & \\textrm{ if } & x<-t \\\\\n",
    "            \\frac{x}{t}     & \\textrm{ if } & -t\\leq x \\leq t \\\\\n",
    "             1     & \\textrm{ if } & x>t\n",
    "            \\end{array}\\right..\n",
    "$$\n",
    "\n",
    "However, there is a non entropic solution given by\n",
    "$$\n",
    "u^{non\\, entropic}(x,t)=\\left\\{\\begin{array}{ccc}\n",
    "            -1     & \\textrm{ if } & x<0 \\\\\n",
    "             1     & \\textrm{ if } & x\\geq 0\n",
    "            \\end{array}\\right.,\n",
    "$$\n",
    "which is a stationary state equal to the initial data.  \n",
    "We are going to see below that some schemes may capture the entropic solution whilst other  may capture the non entropic one."
   ]
  },
  {
   "cell_type": "markdown",
   "metadata": {
    "hideCode": false,
    "hidePrompt": false,
    "slideshow": {
     "slide_type": "skip"
    }
   },
   "source": [
    "## Discretisation\n",
    "The equation is discretised on a regular mesh with time step $\\Delta t$ and space step $\\Delta x$.  \n",
    "The exact solution $u$ is approximated by a piecewise constant function $u_h$ with values $u_i$ in each cell  \n",
    "\n",
    "$$\n",
    "\\frac{u_i^{n+1} - u_i^{n}}{\\Delta t}\n",
    "+\n",
    "\\frac{u_{i+1/2}^2-u_{i-1/2}^2}{2\\Delta x}\n",
    "$$  \n",
    "\n",
    "The interfacial velocities $u_{i+1/2}\\approx u_{|i+1/2}$ can be computed using for instance with upwind and Godunov schemes :\n",
    "\n",
    "### Godunov scheme\n",
    "The following Godunov scheme is entropic\n",
    "\n",
    "$$\n",
    "u_{i+1/2}=\\left\\{\\begin{array}{cccc}\n",
    "            \\frac{1}{2}\\left(\\frac{u_i+u_{i+1}}{2}\\right)^2       & \\textrm{ if } & u_i<0 \\textrm{ and } 0<u_{i+1} &(\\textrm{symmetric rarefaction wave})\\\\\n",
    "            \\min\\{\\frac{1}{2}u_i^2,\\frac{1}{2}u_{i+1}^2\\}     & \\textrm{ if } & u_i\\leq u_{i+1} &(\\textrm{one-way rarefaction wave})\\\\\n",
    "            \\max\\{\\frac{1}{2}u_i^2,\\frac{1}{2}u_{i+1}^2\\} & \\textrm{ if } & u_i\\geq u_{i+1} &(\\textrm{shock wave})\n",
    "            \\end{array}\\right..\n",
    "$$\n",
    "\n",
    "### Upwind scheme\n",
    "The following Upwind scheme is not entropic\n",
    "\n",
    "$$  \n",
    "u_{i+1/2}^2 =\\left\\{\\begin{array}{ccc}\n",
    "            u_i^2     & \\textrm{ if } & \\frac{u_i+u_{i+1}}{2}<0\\\\\n",
    "            u_{i+1}^2 & \\textrm{ if } & \\frac{u_i+u_{i+1}}{2}> 0\\\\\n",
    "            \\frac{u_i^2 + u_{i+1}^2}{2}   & \\textrm{ if } & \\frac{u_i+u_{i+1}}{2}=0\n",
    "            \\end{array}\\right..\n",
    "$$"
   ]
  },
  {
   "cell_type": "markdown",
   "metadata": {},
   "source": [
    "## Initial data\n",
    "The initial data is a discontinuity bewteen two states of opposite sign\n",
    "![\"Initial data\"](BurgersEquation_FV_Rarefaction_ResultField_0.png)"
   ]
  },
  {
   "cell_type": "markdown",
   "metadata": {
    "collapsed": true,
    "hideCode": false,
    "hidePrompt": false
   },
   "source": [
    "## Numerical results"
   ]
  },
  {
   "cell_type": "markdown",
   "metadata": {
    "hideCode": false,
    "hidePrompt": false,
    "slideshow": {
     "slide_type": "slide"
    }
   },
   "source": [
    "For the upwind scheme, the initial data is a stationary data. The solution captured by the upwind scheme is not entropic be cause the initial shock is not dissipative.  \n",
    "on the contrary the Godunov scheme captures a rarefaction wave, which is differentiable hence entropic.\n",
    "![\"Final data\"](BurgersEquation_FV_Rarefaction_ResultField_20.png)"
   ]
  },
  {
   "cell_type": "markdown",
   "metadata": {},
   "source": [
    "<div align=\"middle\">\n",
    "<video width=\"80%\" controls>\n",
    "      <source src=\"1DBurgersEquation_FV_Rarefaction.mp4\" type=\"video/mp4\">\n",
    "</video></div>"
   ]
  },
  {
   "cell_type": "markdown",
   "metadata": {},
   "source": [
    "[\"Click here for a video animation of finite volume schemes for Burgers' equation\"](1DBurgersEquation_FV_Rarefaction.mp4)"
   ]
  }
 ],
 "metadata": {
  "celltoolbar": "Hide code",
  "hide_code_all_hidden": false,
  "kernelspec": {
   "display_name": "Python 2",
   "language": "python",
   "name": "python2"
  },
  "language_info": {
   "codemirror_mode": {
    "name": "ipython",
    "version": 2
   },
   "file_extension": ".py",
   "mimetype": "text/x-python",
   "name": "python",
   "nbconvert_exporter": "python",
   "pygments_lexer": "ipython2",
   "version": "2.7.12"
  }
 },
 "nbformat": 4,
 "nbformat_minor": 2
}
