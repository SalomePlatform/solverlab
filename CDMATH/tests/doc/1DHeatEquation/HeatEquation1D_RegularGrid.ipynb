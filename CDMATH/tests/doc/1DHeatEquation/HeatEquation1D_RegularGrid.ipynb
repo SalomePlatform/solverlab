{
 "cells": [
  {
   "cell_type": "markdown",
   "metadata": {},
   "source": [
    "# Finite volume approximation of the 1D heat equation"
   ]
  },
  {
   "cell_type": "markdown",
   "metadata": {},
   "source": [
    "## The heat equation with periodic boundary conditions"
   ]
  },
  {
   "cell_type": "markdown",
   "metadata": {},
   "source": [
    "We are interested in the finite volume approximation of the following partial differential equation  \n",
    "$$\n",
    "\\partial_t u = d \\Delta u,\n",
    "$$  \n",
    "which models the heat conduction in a solid on the 1D domain $[0,1]$ with periodic boundary condition at $x=0$ and $x=1$ and initial data  \n",
    "$$\n",
    "u_0(x)=\\frac{1}{2} (1+sin(\\pi(4x-0.5)) 1_{[0,0.5]} + 1_{[0.6,0.85]}.\n",
    "$$  \n",
    "\n",
    "The initial data consists in a smooth part ($x\\in [0,0.5]$) and a stiff part ($x\\in [0.5,1]$).  \n",
    "\n",
    "The diffusivity $d=\\frac{\\lambda}{\\rho c_p}$ is the ratio between $\\lambda$ the solid thermal conductivity, $\\rho$ the solid density and $c_p$ the specific heat capacity.\n"
   ]
  },
  {
   "cell_type": "markdown",
   "metadata": {},
   "source": [
    "![\"The initial data\"](HeatEquation1D_InitialData.png)"
   ]
  },
  {
   "cell_type": "markdown",
   "metadata": {},
   "source": [
    "## Finite volume approximations"
   ]
  },
  {
   "cell_type": "markdown",
   "metadata": {},
   "source": [
    "In 1D finite volume approximations, the domain $\\Omega=[0,1]$ is decomposed into $N$ intervals $C_i=[x_i,x_{i+1}], i=1,\\dots N$, and we seek the average values  \n",
    "\n",
    "$$\n",
    "u_i(t) = \\frac{1}{x_{i+1} - x_i}\\int_{x_i}^{x_{i+1}} u(x,t) dx\n",
    "$$\n",
    "of the exact solution $u(x,t)$ in each cell $C_i$.  \n",
    "Similarly we decompose the time domain $\\mathbb{R}_+$ into finite length intervals $[t_n,t_{n+1}]$.\n",
    "Denotig $\\Delta t_n=t_{n+1}-t_n$ the time step and $\\Delta x_i=x_{i+1} - x_i$ the space step, the double integration  \n",
    "\n",
    "$$\n",
    "\\begin{array}{ccc}\\displaystyle\n",
    "\\frac{1}{\\Delta x_i}\\int_{x_i}^{x_{i+1}}\\frac{1}{\\Delta t_n}\\int_{t_n}^{t_{n+1}}(\\partial_t u -d \\partial_{xx} u)\\, dt\\, dx\n",
    "&=&\\displaystyle\n",
    "\\frac{1}{\\Delta x_i}\\int_{x_i}^{x_{i+1}}\\frac{1}{\\Delta t_n}\\int_{t_n}^{t_{n+1}}\\partial_t u(x,t)\\, dt\\, dx\n",
    "- d \n",
    "\\frac{1}{\\Delta t_n}\\int_{t_n}^{t_{n+1}}\\frac{1}{\\Delta x_i}\\int_{x_i}^{x_{i+1}}\\partial_{xx} u(x,t)\\, dx\\, dt\\\\[1.5ex]\n",
    " &=&\\displaystyle \\frac{1}{\\Delta x_i}\\int_{x_i}^{x_{i+1}} \\frac{u(x,t_{n+1}) - u(x,t_n)}{\\Delta t_n}\\, dx\n",
    "- d\n",
    " \\frac{1}{\\Delta t_n}\\int_{t_n}^{t_{n+1}}\\frac{\\partial_x u(x_{i+\\frac{1}{2}},t) - \\partial_x u(x_{i-\\frac{1}{2}},t)}{\\Delta x_i}\\, dt,\n",
    "\\end{array}\n",
    "$$  \n",
    "\n",
    "yields\n",
    "$$\n",
    "\\frac{u_i^{n+1}-u_i^n}{\\Delta t_n} = d \\frac{u_{i+1}^{n,n+1}-2u_{i}^{n,n+1} + u_{i-1}^{n,n+1}}{\\Delta x_i^2},\n",
    "$$  \n",
    "\n",
    "where\n",
    "$\n",
    "u_i^n = \\frac{1}{\\Delta x_i}\\int_{x_i}^{x_{i+1}} u(x,t_n)\\, dx\n",
    "$\n",
    "is the average of the exact solution on the space interval $[x_i,x_{i+1}]$ at time $t=t_n$."
   ]
  },
  {
   "cell_type": "markdown",
   "metadata": {},
   "source": [
    "## The explicit scheme"
   ]
  },
  {
   "cell_type": "markdown",
   "metadata": {},
   "source": [
    "In the explicit scheme we take \n",
    "$$\n",
    "\\begin{array}{ccc}\n",
    "u_{i}^{n,n+1} &=& u_i^n  \n",
    "\\end{array}\n",
    "$$\n",
    "and we obtain the discrete equation\n",
    "$$\n",
    "\\frac{u_i^{n+1}-u_i^n}{\\Delta t_n} = d \\frac{u_{i+1}^{n} - 2 u_{i}^{n}+u_{i-1}^{n}}{\\Delta x_i^2}.\n",
    "$$  \n",
    "The scheme is stable provided the CFL number\n",
    "$$\n",
    "CFL=\\frac{2d\\Delta t}{\\min_i\\Delta x_i^2}\n",
    "$$\n",
    "is smaller than $1$, or equivalently $\\Delta t_n \\leq\\frac{\\min_i\\Delta x_i^2}{2d}$."
   ]
  },
  {
   "cell_type": "markdown",
   "metadata": {},
   "source": [
    "### Numerical results for the explicit scheme with $CFL \\leq 1$"
   ]
  },
  {
   "cell_type": "markdown",
   "metadata": {},
   "source": [
    "![\"Solution obtained with the explicit scheme\"](HeatEquation1D_Explicit_50Cells_CFL1_ResultField_50.png)"
   ]
  },
  {
   "cell_type": "markdown",
   "metadata": {},
   "source": [
    "We observe no spurious oscillations and the initial data diffuses towards a constant function."
   ]
  },
  {
   "cell_type": "markdown",
   "metadata": {
    "scrolled": true
   },
   "source": [
    "<div align=\"middle\">\n",
    "<video width=\"80%\" controls>\n",
    "      <source src=\"HeatEquation1D_Explicit_50Cells_CFL1.mp4\" type=\"video/mp4\">\n",
    "</video></div>"
   ]
  },
  {
   "cell_type": "markdown",
   "metadata": {},
   "source": [
    "[\"Click here for a video animation of the heat equation solved with a stable explicit scheme (CFL=1)\"](HeatEquation1D_Explicit_50Cells_CFL1.mp4)"
   ]
  },
  {
   "cell_type": "markdown",
   "metadata": {},
   "source": [
    "### Numerical results for the explicit scheme with $CFL >1$"
   ]
  },
  {
   "cell_type": "markdown",
   "metadata": {},
   "source": [
    "![\"Solution obtained with the explicit scheme\"](HeatEquation1D_Explicit_50Cells_CFL3_ResultField_10.png)"
   ]
  },
  {
   "cell_type": "markdown",
   "metadata": {},
   "source": [
    "We observe spurious oscillations and the numerical solution is unbounded."
   ]
  },
  {
   "cell_type": "markdown",
   "metadata": {
    "scrolled": true
   },
   "source": [
    "<div align=\"middle\">\n",
    "<video width=\"80%\" controls>\n",
    "      <source src=\"HeatEquation1D_Explicit_50Cells_CFL3.mp4\" type=\"video/mp4\">\n",
    "</video></div>"
   ]
  },
  {
   "cell_type": "markdown",
   "metadata": {},
   "source": [
    "[\"Click here for a video animation of the heat equation solved with an unstable explicit scheme (CFL=3)\"](HeatEquation1D_Explicit_50Cells_CFL3.mp4)"
   ]
  },
  {
   "cell_type": "markdown",
   "metadata": {},
   "source": [
    "## The implicit scheme"
   ]
  },
  {
   "cell_type": "markdown",
   "metadata": {},
   "source": [
    "In the explicit scheme we take \n",
    "$$\n",
    "\\begin{array}{ccc}\n",
    "u_{i}^{n,n+1} &=& u_i^{n+1}\n",
    "\\end{array}\n",
    "$$\n",
    "and we obtain the discrete equation\n",
    "$$\n",
    "\\frac{u_i^{n+1}-u_i^n}{\\Delta t_n} = d \\frac{u_{i+1}^{n+1} - 2 u_{i}^{n+1}+u_{i-1}^{n+1}}{\\Delta x_i^2}.\n",
    "$$  \n",
    "The scheme is stable for any $\\Delta t_n >0$."
   ]
  },
  {
   "cell_type": "markdown",
   "metadata": {},
   "source": [
    "### Numerical results for the implicit scheme with $CFL \\leq 1$"
   ]
  },
  {
   "cell_type": "markdown",
   "metadata": {},
   "source": [
    "![\"Solution obtained with the explicit scheme\"](HeatEquation1D_Implicit_50Cells_CFL1_ResultField_50.png)"
   ]
  },
  {
   "cell_type": "markdown",
   "metadata": {},
   "source": [
    "We observe no spurious oscillations and the initial data diffuses towards a constant function."
   ]
  },
  {
   "cell_type": "markdown",
   "metadata": {
    "scrolled": true
   },
   "source": [
    "<div align=\"middle\">\n",
    "<video width=\"80%\" controls>\n",
    "      <source src=\"HeatEquation1D_Implicit_50Cells_CFL1.mp4\" type=\"video/mp4\">\n",
    "</video></div>"
   ]
  },
  {
   "cell_type": "markdown",
   "metadata": {},
   "source": [
    "[\"Click here for a video animation of the heat equation solved with the implicit scheme with CFL=1\"](HeatEquation1D_Implicit_50Cells_CFL1.mp4)"
   ]
  },
  {
   "cell_type": "markdown",
   "metadata": {},
   "source": [
    "### Numerical results for the implicit scheme with $CFL >1$"
   ]
  },
  {
   "cell_type": "markdown",
   "metadata": {},
   "source": [
    "![\"Solution obtained with the explicit scheme\"](HeatEquation1D_Implicit_50Cells_CFL3_ResultField_10.png)"
   ]
  },
  {
   "cell_type": "markdown",
   "metadata": {},
   "source": [
    "We observe no spurious oscillations and the initial data diffuses towards a constant function."
   ]
  },
  {
   "cell_type": "markdown",
   "metadata": {
    "scrolled": true
   },
   "source": [
    "<div align=\"middle\">\n",
    "<video width=\"80%\" controls>\n",
    "      <source src=\"HeatEquation1D_Implicit_50Cells_CFL3.mp4\" type=\"video/mp4\">\n",
    "</video></div>"
   ]
  },
  {
   "cell_type": "markdown",
   "metadata": {},
   "source": [
    "[\"Click here for a video animation of the heat equation solved with the implicit scheme with CFL=3\"](HeatEquation1D_Implicit_50Cells_CFL3.mp4)"
   ]
  }
 ],
 "metadata": {
  "kernelspec": {
   "display_name": "Python 2",
   "language": "python",
   "name": "python2"
  },
  "language_info": {
   "codemirror_mode": {
    "name": "ipython",
    "version": 2
   },
   "file_extension": ".py",
   "mimetype": "text/x-python",
   "name": "python",
   "nbconvert_exporter": "python",
   "pygments_lexer": "ipython2",
   "version": "2.7.15"
  }
 },
 "nbformat": 4,
 "nbformat_minor": 2
}
