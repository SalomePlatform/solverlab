{
 "cells": [
  {
   "cell_type": "markdown",
   "metadata": {},
   "source": [
    "# FV5 scheme for Poisson equation on locally refined meshes"
   ]
  },
  {
   "cell_type": "markdown",
   "metadata": {},
   "source": [
    "## The Poisson problem on the square"
   ]
  },
  {
   "cell_type": "markdown",
   "metadata": {},
   "source": [
    "We consider the following Poisson problem with Dirichlet boundary conditions\n",
    "\n",
    "$$\n",
    "\\left\\{\\begin{array}{c}\n",
    "-\\Delta u=f \\textrm{ on } \\Omega\\\\\n",
    "u=0 \\textrm{ on } \\partial\\Omega\n",
    "\\end{array}\\right.\n",
    "$$\n",
    "\n",
    "on the square domain $\\Omega= [0,1]\\times [0,1]$ with \n",
    "$$f=2\\pi^2 sin(\\pi x) sin(\\pi y).$$  \n",
    "The unique solution of the problem is\n",
    "$$\n",
    "u=sin(\\pi x) sin(\\pi y).\n",
    "$$\n",
    "\n",
    "The Poisson equation is a particular case of the diffusion problem\n",
    "$$\n",
    "-\\nabla\\cdot(K\\vec\\nabla u)=f\n",
    "$$\n",
    "and the associated diffusion flux is\n",
    "$$\n",
    "F(u)=K\\nabla u.\n",
    "$$"
   ]
  },
  {
   "cell_type": "markdown",
   "metadata": {},
   "source": [
    "## The FV5 scheme for the Laplace equation"
   ]
  },
  {
   "cell_type": "markdown",
   "metadata": {},
   "source": [
    "The domain $\\Omega$ is decomposed into cells $C_i$.\n",
    "\n",
    "$|C_i|$ is the measure of the cell $C_i$.\n",
    "\n",
    "$f_{ij}$ is the interface between two cells $C_i$ and $C_j$. \n",
    "\n",
    "$s_{ij}$ is the measure of the interface $f_{ij}$.\n",
    "\n",
    "$d_{ij}$ is the distance between the centers of mass of the two cells $C_i$ and $C_j$.\n",
    "\n",
    "The discrete Poisson problem is\n",
    "$$\n",
    "-\\frac{1}{|C_i|} \\sum s_{ij}F_{ij}=f_i,\n",
    "$$\n",
    "where\n",
    "$u_i$ is the approximation of $u$ in the cell $C_i$,\n",
    "\n",
    "$f_i$ is the approximation of $f$ in the cell $C_i$,\n",
    "\n",
    "$F_{ij}$ is a numerical approximation of the outward normal diffusion flux from cell $i$ to cell $j$.\n",
    "\n",
    "In the case of the scheme FV5, we use the formula\n",
    "$$\n",
    "F_{ij}=\\frac{u_j-u_i}{d_{ij}}.\n",
    "$$"
   ]
  },
  {
   "cell_type": "markdown",
   "metadata": {},
   "source": [
    "## The script"
   ]
  },
  {
   "cell_type": "markdown",
   "metadata": {},
   "source": [
    "```python\n",
    "#Discrétisation du second membre et extraction du nb max de voisins d'une cellule\n",
    "#================================================================================\n",
    "my_RHSfield = cdmath.Field(\"RHS_field\", cdmath.CELLS, my_mesh, 1)\n",
    "maxNbNeighbours=0#This is to determine the number of non zero coefficients in the sparse finite element rigidity matrix\n",
    "\n",
    "for i in range(nbCells): \n",
    "\tCi = my_mesh.getCell(i)\n",
    "\tx = Ci.x()\n",
    "\ty = Ci.y()\n",
    "\n",
    "\tmy_RHSfield[i]=2*pi*pi*sin(pi*x)*sin(pi*y)#mettre la fonction definie au second membre de l edp\n",
    "\t# compute maximum number of neighbours\n",
    "\tmaxNbNeighbours= max(1+Ci.getNumberOfFaces(),maxNbNeighbours)\n",
    "\n",
    "# Construction de la matrice et du vecteur second membre du système linéaire\n",
    "#===========================================================================\n",
    "Rigidite=cdmath.SparseMatrixPetsc(nbCells,nbCells,maxNbNeighbours)# warning : third argument is max number of non zero coefficients per line of the matrix\n",
    "RHS=cdmath.Vector(nbCells)\n",
    "#Parcours des cellules du domaine\n",
    "for i in range(nbCells):\n",
    "\tRHS[i]=my_RHSfield[i] #la valeur moyenne du second membre f dans la cellule i\n",
    "\tCi=my_mesh.getCell(i)\n",
    "\tfor j in range(Ci.getNumberOfFaces()):# parcours des faces voisinnes\n",
    "\t\tFj=my_mesh.getFace(Ci.getFaceId(j))\n",
    "\t\tif not Fj.isBorder():\n",
    "\t\t\tk=Fj.getCellId(0)\n",
    "\t\t\tif k==i :\n",
    "\t\t\t\tk=Fj.getCellId(1)\n",
    "\t\t\tCk=my_mesh.getCell(k)\n",
    "\t\t\tdistance=Ci.getBarryCenter().distance(Ck.getBarryCenter())\n",
    "\t\t\tcoeff=Fj.getMeasure()/Ci.getMeasure()/distance\n",
    "\t\t\tRigidite.setValue(i,k,-coeff) # terme extradiagonal\n",
    "\t\telse:\n",
    "\t\t\tcoeff=Fj.getMeasure()/Ci.getMeasure()/Ci.getBarryCenter().distance(Fj.getBarryCenter())\n",
    "\t\tRigidite.addValue(i,i,coeff) # terme diagonal\n",
    "\n",
    "\n",
    "# Résolution du système linéaire\n",
    "#=================================\n",
    "LS=cdmath.LinearSolver(Rigidite,RHS,500,1.E-6,\"GMRES\",\"ILU\")\n",
    "SolSyst=LS.solve()\n",
    "\n",
    "# Automatic postprocessing :  save 2D picture and plot diagonal data\n",
    "#===========================\n",
    "diag_data=VTK_routines.Extract_field_data_over_line_to_numpyArray(my_ResultField,[0,1,0],[1,0,0], resolution)\n",
    "plt.legend()\n",
    "plt.xlabel('Position on diagonal line')\n",
    "plt.ylabel('Value on diagonal line')\n",
    "if len(sys.argv) >1 :\n",
    "    plt.title('Plot over diagonal line for finite Volumes \\n for Laplace operator on a 2D square '+my_mesh.getName())\n",
    "    plt.plot(curv_abs, diag_data, label= str(nbCells)+ ' cells mesh')\n",
    "    plt.savefig(\"FiniteVolumes2D_square_ResultField_\"+str(nbCells)+ '_cells'+\"_PlotOverDiagonalLine.png\")\n",
    "\n",
    "```"
   ]
  },
  {
   "cell_type": "markdown",
   "metadata": {},
   "source": [
    "## Numerical results on a locally refined meshes"
   ]
  },
  {
   "cell_type": "markdown",
   "metadata": {},
   "source": [
    "### Meshes"
   ]
  },
  {
   "cell_type": "markdown",
   "metadata": {},
   "source": [
    "mesh 1 | mesh 2 | mesh 3\n",
    "     - | -    - | -\n",
    "![](squareWithLocRefSquares_1.png) | ![](squareWithLocRefSquares_2.png)  | ![](squareWithLocRefSquares_3.png) \n"
   ]
  },
  {
   "cell_type": "markdown",
   "metadata": {},
   "source": [
    "### Numerical results"
   ]
  },
  {
   "cell_type": "markdown",
   "metadata": {},
   "source": [
    "result 1 | result 2 | result 3\n",
    "       - | -      - | -\n",
    "![](FiniteVolumes2D_SQUARE_Non_conforming_locally_refined40.png) | ![](FiniteVolumes2D_SQUARE_Non_conforming_locally_refined160.png)  | ![](FiniteVolumes2D_SQUARE_Non_conforming_locally_refined640.png) \n"
   ]
  },
  {
   "cell_type": "markdown",
   "metadata": {},
   "source": [
    "### Convergence"
   ]
  },
  {
   "cell_type": "markdown",
   "metadata": {},
   "source": [
    "![](SquareWithLocRefSquares_2DPoissonVF_ConvergenceCurve.png)"
   ]
  },
  {
   "cell_type": "markdown",
   "metadata": {},
   "source": [
    "![](SquareWithLocRefSquares_2DPoissonVF_PlotOverDiagonalLine.png)"
   ]
  }
 ],
 "metadata": {
  "kernelspec": {
   "display_name": "Python 2",
   "language": "python",
   "name": "python2"
  },
  "language_info": {
   "codemirror_mode": {
    "name": "ipython",
    "version": 2
   },
   "file_extension": ".py",
   "mimetype": "text/x-python",
   "name": "python",
   "nbconvert_exporter": "python",
   "pygments_lexer": "ipython2",
   "version": "2.7.12"
  }
 },
 "nbformat": 4,
 "nbformat_minor": 2
}
