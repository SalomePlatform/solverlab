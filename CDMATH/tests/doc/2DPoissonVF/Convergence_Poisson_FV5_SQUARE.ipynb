{
 "cells": [
  {
   "cell_type": "code",
   "execution_count": 1,
   "metadata": {
    "collapsed": true
   },
   "outputs": [],
   "source": [
    "from IPython.display import display, Markdown\n",
    "with open('PoissonProblemOnSquare.md', 'r') as file1:\n",
    "    PoissonProblemOnSquare = file1.read()\n",
    "with open('DescriptionFV5PoissonProblem.md', 'r') as file2:\n",
    "    DescriptionFV5PoissonProblem = file2.read()\n",
    "with open('CodeFV5PoissonProblem.md', 'r') as file3:\n",
    "    CodeFV5PoissonProblem = file3.read()\n",
    "with open('BibliographyFV5.md', 'r') as file4:\n",
    "    BibliographyFV5=file4.read()"
   ]
  },
  {
   "cell_type": "markdown",
   "metadata": {},
   "source": [
    "# FV5 scheme for Poisson equation"
   ]
  },
  {
   "cell_type": "code",
   "execution_count": 2,
   "metadata": {},
   "outputs": [
    {
     "data": {
      "text/markdown": [
       "## The Poisson problem on the square\n",
       "\n",
       "We consider the following Poisson problem with Dirichlet boundary conditions\n",
       "\n",
       "$$\n",
       "\\left\\{\\begin{array}{c}\n",
       "-\\Delta u=f \\textrm{ on } \\Omega\\\\\n",
       "u=0 \\textrm{ on } \\partial\\Omega\n",
       "\\end{array}\\right.\n",
       "$$\n",
       "\n",
       "on the square domain $\\Omega= [0,1]\\times [0,1]$ with  \n",
       "\n",
       "$$f=2\\pi^2 sin(\\pi x) sin(\\pi y).$$  \n",
       "The unique solution of the problem is  \n",
       "\n",
       "$$\n",
       "u=sin(\\pi x) sin(\\pi y).\n",
       "$$\n",
       "\n",
       "The Poisson equation is a particular case of the diffusion problem\n",
       "$$\n",
       "-\\nabla\\cdot(D\\vec\\nabla u)=f\n",
       "$$\n",
       "and the associated diffusion flux is\n",
       "$$\n",
       "F(u)=D\\nabla u,\n",
       "$$\n",
       "where $D$ is the diffusion matrix.  \n",
       "\n",
       "We investigate the particular case where $D$ is the identity matrix.\n"
      ],
      "text/plain": [
       "<IPython.core.display.Markdown object>"
      ]
     },
     "metadata": {},
     "output_type": "display_data"
    }
   ],
   "source": [
    "display(Markdown(PoissonProblemOnSquare))"
   ]
  },
  {
   "cell_type": "code",
   "execution_count": 3,
   "metadata": {
    "scrolled": true
   },
   "outputs": [
    {
     "data": {
      "text/markdown": [
       "## Some bibliographical remarks about the two points finite volume scheme\n",
       "\n",
       "- Order 2 convergence on orthogonal meshes : neighbouring cells  $C_i$ and $C_j$ must be separated by a face (or edge in 2D) $f_{ij}$ that is perpendicular to the straight line connecting the center of masses $x_i$ of $C_i$ and $x_j$ of $C_j$  \n",
       "  *R. Eymard, T. Gallouët, R. Herbin, Finite Volume Methods, Handbook for Numerical Analysis, Ph. Ciarlet, J.L. Lions eds, North Holland, 2000, 715-1022. \n",
       "\n",
       "- Order 1 convergence on not too deformed triangular meshes : the triangles edges must be in $O(h)$ and the triangle areas must be in $O(h^2)$ (angles must not shrink to $0{}^\\circ$ nor $180{}^\\circ$)   \n",
       "  *R. Herbin, An error estimate for a four point finite volume scheme for the convection-diffusion equation on a triangular mesh, Num. Meth. P.D.E., 165-173, 1995.*\n",
       "\n",
       "\n",
       "- Order 2 convergence on triangular meshes, provided \n",
       "    - the center of the circumscribed circle is used instead of the center of mass in each cell for the evaluation of the source term and analytical solution\n",
       "    - the Delaunay conditions are satisfied (no neighboring cell is included in the circumscribed circle of an arbitrary cell)\n",
       "\n",
       "\n",
       "- Non convergence on flat degenerating triangular meshes  \n",
       "  *K. Domelevo, P. Omnes, A finite volume method for the Laplace equation on almost arbitrary 2D grids, Mathematical Modelling and Numerical Analysis, 2005*\n",
       "\n",
       "\n",
       "- Order 1 if the mesh is conforming except on a line  \n",
       "  *J. Droniou, C. Le Potier, Construction and Convergence Study of Schemes Preserving the Elliptic Local Maximum Principle, SIAM Journal on Numerical Analysis, 2011*\n",
       "\n",
       "\n",
       "- Order 2 on triangular meshes provided 1) Delaunay type conditions are satisfied and 2) $f\\in H^1$ and meshes are generated from an initial mesh either by subdivisions,symmetry or translation  \n",
       "  *J. Droniou, Improved L^2 estimate for gradient schemes and super-convergence of the TPFA finite volume scheme, IMA Journal of Numerical Analysis, 2018*\n",
       "\n",
       "\n",
       "- It is possible to converge with order 1 on the gradient, but only order 1 on the function ie there is no equivalent of the Aubin-Nitsche lemma in the finite volume context  \n",
       "  *P. Omnes, Error estimates for a finite volume method for the Laplace equation in dimension one through discrete Green functions. International Journal on Finite Volumes 6(1), 18p., electronic only, 2009*\n"
      ],
      "text/plain": [
       "<IPython.core.display.Markdown object>"
      ]
     },
     "metadata": {},
     "output_type": "display_data"
    }
   ],
   "source": [
    "display(Markdown(BibliographyFV5))"
   ]
  },
  {
   "cell_type": "code",
   "execution_count": 4,
   "metadata": {},
   "outputs": [
    {
     "data": {
      "text/markdown": [
       "## The FV5 scheme for the Laplace equation\n",
       "\n",
       "The domain $\\Omega$ is decomposed into cells $C_i$.\n",
       "\n",
       "$|C_i|$ is the measure of the cell $C_i$.\n",
       "\n",
       "$f_{ij}$ is the interface between two cells $C_i$ and $C_j$. \n",
       "\n",
       "$s_{ij}$ is the measure of the interface $f_{ij}$.\n",
       "\n",
       "$d_{ij}$ is the distance between the centers of mass of the two cells $C_i$ and $C_j$.\n",
       "\n",
       "The discrete Poisson problem is\n",
       "$$\n",
       "-\\frac{1}{|C_i|} \\sum s_{ij}F_{ij}=f_i,\n",
       "$$\n",
       "where\n",
       "$u_i$ is the approximation of $u$ in the cell $C_i$,\n",
       "\n",
       "$f_i$ is the approximation of $f$ in the cell $C_i$,\n",
       "\n",
       "$F_{ij}$ is a numerical approximation of the outward normal diffusion flux from cell $i$ to cell $j$.\n",
       "\n",
       "In the case of the scheme FV5, the flux formula are\n",
       "$$\n",
       "F_{ij}=\\frac{u_j-u_i}{d_{ij}},\n",
       "$$\n",
       "for two cells $i$ and $j$ inside the domain,\n",
       "\n",
       "and\n",
       "$$\n",
       "F_{boundary}=\\frac{u(x_f)-u_i}{d_{if}},\n",
       "$$\n",
       "for a boundary face with center $x_f$, inner cell $i$ and distance between face and cell centers $d_{if}$\n"
      ],
      "text/plain": [
       "<IPython.core.display.Markdown object>"
      ]
     },
     "metadata": {},
     "output_type": "display_data"
    }
   ],
   "source": [
    "display(Markdown(DescriptionFV5PoissonProblem))"
   ]
  },
  {
   "cell_type": "markdown",
   "metadata": {},
   "source": [
    "## Regular grid"
   ]
  },
  {
   "cell_type": "markdown",
   "metadata": {},
   "source": [
    "mesh 1 | mesh 2 | mesh 3\n",
    "     - | -    - | -\n",
    "![](2DPoissonVF_squares/squareWithSquares_1.png) | ![](2DPoissonVF_squares/squareWithSquares_2.png)  | ![](2DPoissonVF_squares/squareWithSquares_3.png) \n"
   ]
  },
  {
   "cell_type": "markdown",
   "metadata": {},
   "source": [
    "result 1 | result 2 | result 3\n",
    "       - | -      - | -\n",
    "![](2DPoissonVF_squares/FiniteVolumes2D_SQUARE_Regular_squares16.png) | ![](2DPoissonVF_squares/FiniteVolumes2D_SQUARE_Regular_squares64.png)  | ![](2DPoissonVF_squares/FiniteVolumes2D_SQUARE_Regular_squares256.png) \n"
   ]
  },
  {
   "cell_type": "markdown",
   "metadata": {},
   "source": [
    "![](2DPoissonVF_squares/SquareWithSquares_2DPoissonFV_ConvergenceCurve.png)"
   ]
  },
  {
   "cell_type": "markdown",
   "metadata": {},
   "source": [
    "## Deformed quadrangles"
   ]
  },
  {
   "cell_type": "markdown",
   "metadata": {},
   "source": [
    "mesh 1 | mesh 2 | mesh 3\n",
    "     - | -    - | -\n",
    "![](2DPoissonVF_deformedQuadrangles/squareWithDeformedQuadrangles_1.png) | ![](2DPoissonVF_deformedQuadrangles/squareWithDeformedQuadrangles_2.png)  | ![](2DPoissonVF_deformedQuadrangles/squareWithDeformedQuadrangles_3.png) "
   ]
  },
  {
   "cell_type": "markdown",
   "metadata": {},
   "source": [
    "result 1 | result 2 | result 3\n",
    "       - | -      - | -\n",
    "![](2DPoissonVF_deformedQuadrangles/FiniteVolumes2D_SQUARE_Deformed_quadrangles16.png) | ![](2DPoissonVF_deformedQuadrangles/FiniteVolumes2D_SQUARE_Deformed_quadrangles64.png)  | ![](2DPoissonVF_deformedQuadrangles/FiniteVolumes2D_SQUARE_Deformed_quadrangles256.png) "
   ]
  },
  {
   "cell_type": "markdown",
   "metadata": {},
   "source": [
    "![](2DPoissonVF_deformedQuadrangles/SquareWithDeformedQuadrangles_2DPoissonVF_ConvergenceCurve.png)"
   ]
  },
  {
   "cell_type": "markdown",
   "metadata": {},
   "source": [
    "## Delaunay triangular meshes"
   ]
  },
  {
   "cell_type": "markdown",
   "metadata": {},
   "source": [
    "mesh 1 | mesh 2 | mesh 3\n",
    "     - | -    - | -\n",
    "![](2DPoissonVF_triangles/squareWithTriangles_1.png) | ![](2DPoissonVF_triangles/squareWithTriangles_2.png)  | ![](2DPoissonVF_triangles/squareWithTriangles_3.png) "
   ]
  },
  {
   "cell_type": "markdown",
   "metadata": {},
   "source": [
    "result 1 | result 2 | result 3\n",
    "       - | -      - | -\n",
    "![](2DPoissonVF_triangles/FiniteVolumes2D_SQUARE_Unstructured_triangles40.png) | ![](2DPoissonVF_triangles/FiniteVolumes2D_SQUARE_Unstructured_triangles224.png)  | ![](2DPoissonVF_triangles/FiniteVolumes2D_SQUARE_Unstructured_triangles934.png) "
   ]
  },
  {
   "cell_type": "markdown",
   "metadata": {},
   "source": [
    "![](2DPoissonVF_triangles/SquareWithTriangles_2DPoissonVF_ConvergenceCurve.png)"
   ]
  },
  {
   "cell_type": "markdown",
   "metadata": {},
   "source": [
    "## Cross triangle meshes (from a $(n,2n)$ rectangular grid)"
   ]
  },
  {
   "cell_type": "markdown",
   "metadata": {},
   "source": [
    "mesh 1 | mesh 2 | mesh 3\n",
    "     - | -    - | -\n",
    "![](2DPoissonVF_cross_triangles/squareWithCrossTriangles_0.png) | ![](2DPoissonVF_cross_triangles/squareWithCrossTriangles_1.png)  | ![](2DPoissonVF_cross_triangles/squareWithCrossTriangles_2.png) \n"
   ]
  },
  {
   "cell_type": "markdown",
   "metadata": {},
   "source": [
    "result 1 | result 2 | result 3\n",
    "       - | -      - | -\n",
    "![](2DPoissonVF_cross_triangles/FiniteVolumes2D_SQUARE_Regular_cross_triangles72.png) | ![](2DPoissonVF_cross_triangles/FiniteVolumes2D_SQUARE_Regular_cross_triangles288.png)  | ![](2DPoissonVF_cross_triangles/FiniteVolumes2D_SQUARE_Regular_cross_triangles1800.png) \n"
   ]
  },
  {
   "cell_type": "markdown",
   "metadata": {},
   "source": [
    "![](2DPoissonVF_cross_triangles/SquareWithCrossTriangles_2DPoissonFV_ConvergenceCurve.png)"
   ]
  },
  {
   "cell_type": "markdown",
   "metadata": {},
   "source": [
    "## Hexagonal meshes"
   ]
  },
  {
   "cell_type": "markdown",
   "metadata": {},
   "source": [
    "mesh 1 | mesh 2 | mesh 3\n",
    "     - | -    - | -\n",
    "![](2DPoissonVF_hexagons/squareWithHexagons_1.png) | ![](2DPoissonVF_hexagons/squareWithHexagons_2.png)  | ![](2DPoissonVF_hexagons/squareWithHexagons_3.png) "
   ]
  },
  {
   "cell_type": "markdown",
   "metadata": {},
   "source": [
    "result 1 | result 2 | result 3\n",
    "       - | -      - | -\n",
    "![](2DPoissonVF_hexagons/FiniteVolumes2D_SQUARE_Regular_hexagons25.png) | ![](2DPoissonVF_hexagons/FiniteVolumes2D_SQUARE_Regular_hexagons255.png)  | ![](2DPoissonVF_hexagons/FiniteVolumes2D_SQUARE_Regular_hexagons1020.png) "
   ]
  },
  {
   "cell_type": "markdown",
   "metadata": {},
   "source": [
    "![](2DPoissonVF_hexagons/SquareWithHexagons_2DPoissonVF_ConvergenceCurve.png)"
   ]
  },
  {
   "cell_type": "markdown",
   "metadata": {},
   "source": [
    "## Locally refined meshes"
   ]
  },
  {
   "cell_type": "markdown",
   "metadata": {},
   "source": [
    "mesh 1 | mesh 2 | mesh 3\n",
    "     - | -    - | -\n",
    "![](2DPoissonVF_loc_ref/squareWithLocRefSquares_1.png) | ![](2DPoissonVF_loc_ref/squareWithLocRefSquares_2.png)  | ![](2DPoissonVF_loc_ref/squareWithLocRefSquares_3.png) "
   ]
  },
  {
   "cell_type": "markdown",
   "metadata": {},
   "source": [
    "result 1 | result 2 | result 3\n",
    "       - | -      - | -\n",
    "![](2DPoissonVF_loc_ref/FiniteVolumes2D_SQUARE_Non_conforming_locally_refined40.png) | ![](2DPoissonVF_loc_ref/FiniteVolumes2D_SQUARE_Non_conforming_locally_refined160.png)  | ![](2DPoissonVF_loc_ref/FiniteVolumes2D_SQUARE_Non_conforming_locally_refined640.png) \n"
   ]
  },
  {
   "cell_type": "markdown",
   "metadata": {},
   "source": [
    "![](2DPoissonVF_loc_ref/SquareWithLocRefSquares_2DPoissonVF_ConvergenceCurve.png)"
   ]
  },
  {
   "cell_type": "markdown",
   "metadata": {},
   "source": [
    "## Checkerboard meshes"
   ]
  },
  {
   "cell_type": "markdown",
   "metadata": {},
   "source": [
    "mesh 1 | mesh 2 | mesh 3\n",
    "     - | -    - | -\n",
    "![](2DPoissonVF_checkerboard/checkerboard_4x4.png) | ![](2DPoissonVF_checkerboard/checkerboard_8x8.png)  | ![](2DPoissonVF_checkerboard/checkerboard_16x16.png) \n"
   ]
  },
  {
   "cell_type": "markdown",
   "metadata": {},
   "source": [
    "result 1 | result 2 | result 3\n",
    "       - | -      - | -\n",
    "![](2DPoissonVF_checkerboard/FiniteVolumes2D_SQUARE_Non_conforming_checkerboard40.png) | ![](2DPoissonVF_checkerboard/FiniteVolumes2D_SQUARE_Non_conforming_checkerboard160.png)  | ![](2DPoissonVF_checkerboard/FiniteVolumes2D_SQUARE_Non_conforming_checkerboard640.png) \n"
   ]
  },
  {
   "cell_type": "markdown",
   "metadata": {},
   "source": [
    "![](2DPoissonVF_checkerboard/SquareWithCheckerboardRefinement_2DPoissonVF_ConvergenceCurve.png)"
   ]
  },
  {
   "cell_type": "markdown",
   "metadata": {},
   "source": [
    "## Brick wall meshes"
   ]
  },
  {
   "cell_type": "markdown",
   "metadata": {},
   "source": [
    "mesh 1 | mesh 2 | mesh 3\n",
    "     - | -    - | -\n",
    "![](2DPoissonVF_brickwall/squareWithBrickWall_1.png) | ![](2DPoissonVF_brickwall/squareWithBrickWall_2.png)  | ![](2DPoissonVF_brickwall/squareWithBrickWall_3.png) \n"
   ]
  },
  {
   "cell_type": "markdown",
   "metadata": {},
   "source": [
    "result 1 | result 2 | result 3\n",
    "       - | -      - | -\n",
    "![](2DPoissonVF_brickwall/FiniteVolumes2D_SQUARE_Regular_brickwall25.png) | ![](2DPoissonVF_brickwall/FiniteVolumes2D_SQUARE_Regular_brickwall225.png)  | ![](2DPoissonVF_brickwall/FiniteVolumes2D_SQUARE_Regular_brickwall900.png) \n"
   ]
  },
  {
   "cell_type": "markdown",
   "metadata": {},
   "source": [
    "![](2DPoissonVF_brickwall/SquareWithBrickWall_2DPoissonVF_ConvergenceCurve.png)"
   ]
  },
  {
   "cell_type": "markdown",
   "metadata": {},
   "source": [
    "## Long rectangle meshes ( $(n,n^2)$ rectangular grid)"
   ]
  },
  {
   "cell_type": "markdown",
   "metadata": {},
   "source": [
    "mesh 1 | mesh 2 \n",
    "     - | -    -\n",
    "![](2DPoissonVF_long_rectangles/squareWithLongRectangles_00.png) | ![](2DPoissonVF_long_rectangles/squareWithLongRectangles_0.png) | ![](2DPoissonVF_long_rectangles/squareWithLongRectangles_1.png) "
   ]
  },
  {
   "cell_type": "markdown",
   "metadata": {},
   "source": [
    "result 1 | result 2 | result 3\n",
    "       - | -      - | -\n",
    "![](2DPoissonVF_long_rectangles/FiniteVolumes2D_SQUARE_Regular_long_rectangles125.png) | ![](2DPoissonVF_long_rectangles/FiniteVolumes2D_SQUARE_Regular_long_rectangles1331.png)  | ![](2DPoissonVF_long_rectangles/FiniteVolumes2D_SQUARE_Regular_long_rectangles9261.png) \n"
   ]
  },
  {
   "cell_type": "markdown",
   "metadata": {},
   "source": [
    "![](2DPoissonVF_long_rectangles/SquareWithLongRectangles_2DPoissonFV_ConvergenceCurve.png)"
   ]
  },
  {
   "cell_type": "markdown",
   "metadata": {},
   "source": [
    "## Long right triangle meshes (from a $(n,n^2)$ rectangular grid)"
   ]
  },
  {
   "cell_type": "markdown",
   "metadata": {},
   "source": [
    "mesh 1 | mesh 2 | mesh 3 \n",
    "     - | -    - | -    - \n",
    "![](2DPoissonVF_long_triangles/squareWithLongTriangles_00.png) | ![](2DPoissonVF_long_triangles/squareWithLongTriangles_0.png) | ![](2DPoissonVF_long_triangles/squareWithLongTriangles_1.png) "
   ]
  },
  {
   "cell_type": "markdown",
   "metadata": {},
   "source": [
    "result 1 | result 2 | result 3\n",
    "       - | -      - | -\n",
    "![](2DPoissonVF_long_triangles/FiniteVolumes2D_SQUARE_Regular_long_triangles250.png) | ![](2DPoissonVF_long_triangles/FiniteVolumes2D_SQUARE_Regular_long_triangles2662.png)  | ![](2DPoissonVF_long_triangles/FiniteVolumes2D_SQUARE_Regular_long_triangles18522.png) \n"
   ]
  },
  {
   "cell_type": "markdown",
   "metadata": {},
   "source": [
    "![](2DPoissonVF_long_triangles/SquareWithLongTriangles_2DPoissonFV_ConvergenceCurve.png)"
   ]
  },
  {
   "cell_type": "markdown",
   "metadata": {},
   "source": [
    "## Flat cross triangle meshes (from a $(n,n^2)$ rectangular grid)"
   ]
  },
  {
   "cell_type": "markdown",
   "metadata": {},
   "source": [
    "mesh 1 | mesh 2 | mesh 3\n",
    "     - | -    - | -    - \n",
    "![](2DPoissonVF_flat_triangles/squareWithFlatTriangles_00.png) | ![](2DPoissonVF_flat_triangles/squareWithFlatTriangles_0.png) | ![](2DPoissonVF_flat_triangles/squareWithFlatTriangles_1.png) "
   ]
  },
  {
   "cell_type": "markdown",
   "metadata": {},
   "source": [
    "result 1 | result 2 | result 3\n",
    "       - | -      - | -\n",
    "![](2DPoissonVF_flat_triangles/FiniteVolumes2D_SQUARE_Regular_flat_triangles500.png) | ![](2DPoissonVF_flat_triangles/FiniteVolumes2D_SQUARE_Regular_flat_triangles5324.png)  | ![](2DPoissonVF_flat_triangles/FiniteVolumes2D_SQUARE_Regular_flat_triangles37044.png) \n"
   ]
  },
  {
   "cell_type": "markdown",
   "metadata": {},
   "source": [
    "![](2DPoissonVF_flat_triangles/SquareWithFlatTriangles_2DPoissonFV_ConvergenceCurve.png)"
   ]
  },
  {
   "cell_type": "code",
   "execution_count": 5,
   "metadata": {},
   "outputs": [
    {
     "data": {
      "text/markdown": [
       "## The script\n",
       "\n",
       "```python\n",
       "#Discrétisation du second membre et extraction du nb max de voisins d'une cellule\n",
       "#================================================================================\n",
       "my_RHSfield = cdmath.Field(\"RHS_field\", cdmath.CELLS, my_mesh, 1)\n",
       "maxNbNeighbours=0#This is to determine the number of non zero coefficients in the sparse finite element rigidity matrix\n",
       "\n",
       "for i in range(nbCells): \n",
       "\tCi = my_mesh.getCell(i)\n",
       "\tx = Ci.x()\n",
       "\ty = Ci.y()\n",
       "\n",
       "\tmy_RHSfield[i]=2*pi*pi*sin(pi*x)*sin(pi*y)#mettre la fonction definie au second membre de l edp\n",
       "\t# compute maximum number of neighbours\n",
       "\tmaxNbNeighbours= max(1+Ci.getNumberOfFaces(),maxNbNeighbours)\n",
       "\n",
       "# Construction de la matrice et du vecteur second membre du système linéaire\n",
       "#===========================================================================\n",
       "Rigidite=cdmath.SparseMatrixPetsc(nbCells,nbCells,maxNbNeighbours)# warning : third argument is max number of non zero coefficients per line of the matrix\n",
       "RHS=cdmath.Vector(nbCells)\n",
       "#Parcours des cellules du domaine\n",
       "for i in range(nbCells):\n",
       "\tRHS[i]=my_RHSfield[i] #la valeur moyenne du second membre f dans la cellule i\n",
       "\tCi=my_mesh.getCell(i)\n",
       "\tfor j in range(Ci.getNumberOfFaces()):# parcours des faces voisinnes\n",
       "\t\tFj=my_mesh.getFace(Ci.getFaceId(j))\n",
       "\t\tif not Fj.isBorder():\n",
       "\t\t\tk=Fj.getCellId(0)\n",
       "\t\t\tif k==i :\n",
       "\t\t\t\tk=Fj.getCellId(1)\n",
       "\t\t\tCk=my_mesh.getCell(k)\n",
       "\t\t\tdistance=Ci.getBarryCenter().distance(Ck.getBarryCenter())\n",
       "\t\t\tcoeff=Fj.getMeasure()/Ci.getMeasure()/distance\n",
       "\t\t\tRigidite.setValue(i,k,-coeff) # terme extradiagonal\n",
       "\t\telse:\n",
       "\t\t\tcoeff=Fj.getMeasure()/Ci.getMeasure()/Ci.getBarryCenter().distance(Fj.getBarryCenter())\n",
       "\t\t\t#For the particular case where the mesh boundary does not coincide with the domain boundary\n",
       "\t\t\tx=Fj.getBarryCenter().x()\n",
       "\t\t\ty=Fj.getBarryCenter().y()\n",
       "\t\t\tRHS[i]+=coeff*sin(pi*x)*sin(pi*y)#mettre ici la condition limite du problème de Dirichlet\n",
       "\t\tRigidite.addValue(i,i,coeff) # terme diagonal\n",
       "\n",
       "\n",
       "# Résolution du système linéaire\n",
       "#=================================\n",
       "LS=cdmath.LinearSolver(Rigidite,RHS,500,1.E-6,\"GMRES\",\"ILU\")\n",
       "SolSyst=LS.solve()\n",
       "\n",
       "# Automatic postprocessing :  save 2D picture and plot diagonal data\n",
       "#===========================\n",
       "PV_routines.Save_PV_data_to_picture_file(\"my_ResultField_0.vtu',\"ResultField\",'CELLS',\"my_ResultField\")\n",
       "diag_data=VTK_routines.Extract_field_data_over_line_to_numpyArray(my_ResultField,[0,1,0],[1,0,0], resolution)\n",
       "plt.plot(curv_abs, diag_data, label= str(nbCells)+ ' cells mesh')\n",
       "plt.savefig(\"FV5_on_square_PlotOverDiagonalLine.png\")\n",
       "\n",
       "```\n"
      ],
      "text/plain": [
       "<IPython.core.display.Markdown object>"
      ]
     },
     "metadata": {},
     "output_type": "display_data"
    }
   ],
   "source": [
    "display(Markdown(CodeFV5PoissonProblem))"
   ]
  }
 ],
 "metadata": {
  "kernelspec": {
   "display_name": "Python 2",
   "language": "python",
   "name": "python2"
  },
  "language_info": {
   "codemirror_mode": {
    "name": "ipython",
    "version": 2
   },
   "file_extension": ".py",
   "mimetype": "text/x-python",
   "name": "python",
   "nbconvert_exporter": "python",
   "pygments_lexer": "ipython2",
   "version": "2.7.12"
  }
 },
 "nbformat": 4,
 "nbformat_minor": 2
}
