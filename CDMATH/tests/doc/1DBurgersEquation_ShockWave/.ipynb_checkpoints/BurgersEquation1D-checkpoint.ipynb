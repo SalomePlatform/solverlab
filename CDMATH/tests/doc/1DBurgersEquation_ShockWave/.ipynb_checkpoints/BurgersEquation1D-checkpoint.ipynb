{
 "cells": [
  {
   "cell_type": "markdown",
   "metadata": {
    "hideCode": false,
    "hidePrompt": false,
    "slideshow": {
     "slide_type": "slide"
    }
   },
   "source": [
    "# Finite volume schemes for the Burgers' equation"
   ]
  },
  {
   "cell_type": "markdown",
   "metadata": {},
   "source": [
    "## Conservative form of Burgers' equation"
   ]
  },
  {
   "cell_type": "markdown",
   "metadata": {
    "hideCode": false,
    "hidePrompt": false,
    "slideshow": {
     "slide_type": "slide"
    }
   },
   "source": [
    "The velocity $u$ in an incompressible 1D flow with constant pressure is given by  \n",
    "\n",
    "$$\n",
    "\\partial_t u + \\partial_x\\frac{u^2}{2} = 0\n",
    "$$"
   ]
  },
  {
   "cell_type": "markdown",
   "metadata": {
    "hideCode": false,
    "hidePrompt": false,
    "slideshow": {
     "slide_type": "skip"
    }
   },
   "source": [
    "### Conservative discretization\n",
    "The equation is discretised on a regular mesh with time step $\\Delta t$ and space step $\\Delta x$.  \n",
    "The exact solution $u$ is approximated by a piecewise constant function $u_h$ with values $u_i$ in each cell  \n",
    "\n",
    "$$\n",
    "\\frac{u_i^{n+1} - u_i^{n}}{\\Delta t}\n",
    "+\n",
    "\\frac{u_{i+1/2}^2-u_{i-1/2}^2}{2\\Delta x}\n",
    "$$  \n",
    "\n",
    "The interfacial velocities $u_{i+1/2}\\approx u_{|i+1/2}$ can be computed using for instance a Godunov scheme\n",
    "\n",
    "$$\n",
    "\\frac{1}{2}u_{i+1/2}^2=\\left\\{\\begin{array}{cccc}\n",
    "            0       & \\textrm{ if } & u_i<0 \\textrm{ and } 0<u_{i+1} &\\textrm{ (symmetric rarefaction wave) }\\\\\n",
    "            \\min\\{\\frac{1}{2}u_i^2,\\frac{1}{2}u_{i+1}^2\\}     & \\textrm{ if } & u_i\\leq u_{i+1} &\\textrm{ (one-way rarefaction wave) }\\\\\n",
    "            \\max\\{\\frac{1}{2}u_i^2,\\frac{1}{2}u_{i+1}^2\\} & \\textrm{ if } & u_i\\geq u_{i+1} &\\textrm{ (shock wave) }\n",
    "            \\end{array}\\right..\n",
    "$$"
   ]
  },
  {
   "cell_type": "markdown",
   "metadata": {},
   "source": [
    "## Non conservative form of Burgers' equation"
   ]
  },
  {
   "cell_type": "markdown",
   "metadata": {
    "collapsed": true,
    "hideCode": false,
    "hidePrompt": false,
    "slideshow": {
     "slide_type": "skip"
    }
   },
   "source": [
    "For regular solutions, the Burgers' equation becomes  \n",
    "\n",
    "$$\n",
    "\\partial_t u +u \\partial_x u = 0.\n",
    "$$"
   ]
  },
  {
   "cell_type": "markdown",
   "metadata": {
    "collapsed": true,
    "hideCode": false,
    "hidePrompt": false
   },
   "source": [
    "### Non conservative discretization"
   ]
  },
  {
   "cell_type": "markdown",
   "metadata": {
    "collapsed": true,
    "hideCode": false,
    "hidePrompt": false
   },
   "source": [
    "$$\n",
    "\\frac{u_i^{n+1} - u_i^{n}}{\\Delta t}\n",
    "+\n",
    "u_i^n \\frac{u_{i+1/2} - u_{i-1/2}}{\\Delta x}\n",
    "$$  \n",
    "\n",
    "The interfacial velocities $u_{i+1/2}\\approx u_{|i+1/2}$ can be computed using for instance the upwind principle :  \n",
    "\n",
    "$$  \n",
    "u_{i+1/2} =\\left\\{\\begin{array}{ccc}\n",
    "            u_i     & \\textrm{ if } & u_i^n<0\\\\\n",
    "            u_{i+1} & \\textrm{ if } & u_i^n\\geq 0\n",
    "            \\end{array}\\right..\n",
    "$$"
   ]
  },
  {
   "cell_type": "markdown",
   "metadata": {
    "collapsed": true,
    "hideCode": false,
    "hidePrompt": false,
    "slideshow": {
     "slide_type": "skip"
    }
   },
   "source": [
    "## Alternative conservative form of Burgers' equation"
   ]
  },
  {
   "cell_type": "markdown",
   "metadata": {},
   "source": [
    "Alternatively, a regular solution $u$ of the Burgers' equation is also a solution of the following conservative equation  \n",
    "\n",
    "$$\n",
    "\\partial_t u^2 + \\partial_x \\frac{u^3}{3} = 0.\n",
    "$$"
   ]
  },
  {
   "cell_type": "markdown",
   "metadata": {
    "hideCode": false,
    "hidePrompt": false
   },
   "source": [
    "### Alternative conservative discretization\n",
    "$$\n",
    "\\frac{(u_i^2)^{n+1} - (u_i^2)^{n}}{\\Delta t}\n",
    "+\n",
    "\\frac{u_{i+1/2}^3-u_{i-1/2}^3}{3\\Delta x}.\n",
    "$$  \n",
    "\n",
    "The interfacial velocities $u_{i+1/2}$ can be computed using for instance a Godunov scheme where\n",
    "\n",
    "$$\n",
    "\\frac{1}{3}u_{i+1/2}^3=\\left\\{\\begin{array}{cccc}\n",
    "            \\min\\{\\frac{1}{3}u_i^3,\\frac{1}{3}u_{i+1}^3\\} & \\textrm{ if } & u_i^2\\leq u_{i+1}^2 &\\textrm{ (one-way rarefaction wave) }\\\\\n",
    "            \\max\\{\\frac{1}{3}u_i^3,\\frac{1}{3}u_{i+1}^3\\} & \\textrm{ if } & u_i^2\\geq u_{i+1}^2 &\\textrm{ (shock wave) }\n",
    "            \\end{array}\\right..\n",
    "$$\n",
    "\n",
    "This formulation does not allow symmetric rarefaction waves because the main unknown $u^2$ is necessarily positive."
   ]
  },
  {
   "cell_type": "markdown",
   "metadata": {
    "collapsed": true
   },
   "source": [
    "## The initial data"
   ]
  },
  {
   "cell_type": "markdown",
   "metadata": {
    "scrolled": false
   },
   "source": [
    "![\"Initial data\"](BurgersEquation_InitialData.png)"
   ]
  },
  {
   "cell_type": "markdown",
   "metadata": {
    "collapsed": true,
    "hideCode": false,
    "hidePrompt": false
   },
   "source": [
    "## Numerical results"
   ]
  },
  {
   "cell_type": "markdown",
   "metadata": {
    "hideCode": false,
    "hidePrompt": false,
    "slideshow": {
     "slide_type": "slide"
    }
   },
   "source": [
    "![\"Final data\"](BurgersEquation_FV_ResultField_130.png)"
   ]
  },
  {
   "cell_type": "markdown",
   "metadata": {},
   "source": [
    "<div align=\"middle\">\n",
    "<video width=\"80%\" controls>\n",
    "      <source src=\"1DBurgersEquation_FV.mp4\" type=\"video/mp4\">\n",
    "</video></div>"
   ]
  },
  {
   "cell_type": "markdown",
   "metadata": {},
   "source": [
    "[\"Click here for a video animation of finite volume schemes for Burgers' equation\"](1DBurgersEquation_FV.mp4)"
   ]
  }
 ],
 "metadata": {
  "celltoolbar": "Hide code",
  "hide_code_all_hidden": false,
  "kernelspec": {
   "display_name": "Python 2",
   "language": "python",
   "name": "python2"
  },
  "language_info": {
   "codemirror_mode": {
    "name": "ipython",
    "version": 2
   },
   "file_extension": ".py",
   "mimetype": "text/x-python",
   "name": "python",
   "nbconvert_exporter": "python",
   "pygments_lexer": "ipython2",
   "version": "2.7.12"
  }
 },
 "nbformat": 4,
 "nbformat_minor": 2
}
