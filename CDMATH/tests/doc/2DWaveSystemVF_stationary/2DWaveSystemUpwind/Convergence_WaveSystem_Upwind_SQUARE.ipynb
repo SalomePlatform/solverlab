{
 "cells": [
  {
   "cell_type": "markdown",
   "metadata": {},
   "source": [
    "# Upwind scheme for the Wave System"
   ]
  },
  {
   "cell_type": "markdown",
   "metadata": {},
   "source": [
    "## The Wave System on the square"
   ]
  },
  {
   "cell_type": "markdown",
   "metadata": {},
   "source": [
    "We consider the following Wave system with periodic boundary conditions\n",
    "\n",
    "$$\n",
    "\\left\\{\\begin{array}{l}\n",
    "\\partial_t p + c^2\\nabla\\cdot\\vec q = 0\\\\\n",
    "\\partial_t \\vec q + \\quad\\vec\\nabla p = 0\n",
    "\\end{array}\\right..\n",
    "$$\n",
    "\n",
    "The wave system can be written in matrix form \n",
    "$$\n",
    "\\partial_t\n",
    "\\left(\n",
    "\\begin{array}{c}\n",
    " p \\\\\n",
    " \\vec q\n",
    "\\end{array}\\right)\n",
    "+\n",
    "\\left(\\begin{array}{cc}\n",
    " 0   & c^2 \\nabla \\cdot \\\\ \n",
    " \\vec\\nabla & 0\n",
    "\\end{array}\\right)\n",
    "\\left(\\begin{array}{c}\n",
    " p \\\\ \n",
    " \\vec q\n",
    "\\end{array}\\right)=0\n",
    "$$\n",
    "\n",
    "In $d$ space dimensions the wave system is an hyperbolic system of $d+1$ equations\n",
    "$$\n",
    "\\partial_t U +\\sum_{i=1}^d A_i\\partial_{x_i} U=0,\\quad U={}^t(p,\\vec q)\n",
    "$$\n",
    "where the jacobian matrix is\n",
    "$$\n",
    "A(\\vec n)=\\sum_{i=1}^d n_i A_i =\n",
    "\\left(\n",
    "\\begin{array}{cc}\n",
    " 0              & c^2 {}^t\\vec n \\\\ \n",
    " \\vec n & 0\n",
    "\\end{array}\\right),\\quad \\vec n\\in\\mathbb{R}^d.\n",
    "$$\n",
    "has $d+1$ eigenvalues $-c,0,\\dots,0,c$.\n",
    "\n",
    "The wave system also takes the conservative form\n",
    "$$\n",
    "\\partial_t U_i + \\nabla\\cdot F(U)=0,\n",
    "$$\n",
    "where the flux matrix $F$ is defined by\n",
    "$$\n",
    "F(U)\\vec n=A(\\vec n)U,\\quad \\vec n\\in\\mathbb{R}.\n",
    "$$\n",
    "\n",
    "On the square domain $\\Omega= [0,1]\\times [0,1]$ we consider the initial data $(p_0,\\vec q_0)$ \n",
    "\n",
    "$$\n",
    "\\left\\{\\begin{array}{l}\n",
    "p_0(x,y)=constant\\\\\n",
    "q_{x0}(x,y)= \\sin(\\pi x) \\cos(\\pi y)\\\\\n",
    "q_{y0}(x,y)=-\\sin(\\pi y) \\cos(\\pi x)\n",
    "\\end{array}\\right..\n",
    "$$  \n",
    "\n",
    "The initial data $(p_0,q_x,q_y)$ is a stationary solution of the wave system.\n",
    "\n",
    "$$\n",
    "||\\vec q_0||^2=\\sin(\\pi x)^2 \\cos(\\pi y)^2+\\sin(\\pi y)^2 \\cos(\\pi x)^2=\\sin(\\pi (x + y))^2+\\sin(\\pi (x-y))^2\n",
    "$$\n"
   ]
  },
  {
   "cell_type": "markdown",
   "metadata": {},
   "source": [
    "## The Upwind scheme for the Wave System"
   ]
  },
  {
   "cell_type": "markdown",
   "metadata": {},
   "source": [
    "The domain $\\Omega$ is decomposed into cells $C_i$.\n",
    "\n",
    "$|C_i|$ is the measure of the cell $C_i$.\n",
    "\n",
    "$f_{ij}$ is the interface between two cells $C_i$ and $C_j$. \n",
    "\n",
    "$s_{ij}$ is the measure of the interface $f_{ij}$.\n",
    "\n",
    "$d_{ij}$ is the distance between the centers of mass of the two cells $C_i$ and $C_j$.\n",
    "\n",
    "The semi-discrete colocated finite volume equation is\n",
    "$$\n",
    "\\partial_t U + \\frac{1}{|C_i|} \\sum s_{ij}F_{ij}=0,\n",
    "$$\n",
    "where\n",
    "$U_i$ is the approximation of $U$ in the cell $C_i$,\n",
    "\n",
    "$F_{ij}$ is a numerical approximation of the outward normal interfacial flux from cell $i$ to cell $j$ usually in the upwind form\n",
    "$$\n",
    "F_{ij}=\\frac{F(U_i)+F(U_j)}{2}\\vec n-D(\\vec n)\\frac{U_i-U_j}{2}.\n",
    "$$\n",
    "In the case of the upwind scheme the upwind matrix is\n",
    "$$\n",
    "D_{upwind}(\\vec n)=|A(\\vec n)| = \n",
    "c\n",
    "\\left(\n",
    "\\begin{array}{cc}\n",
    "1 & 0 \\\\\n",
    "0 & \\vec n\\otimes\\vec n\n",
    "\\end{array}\\right).\n",
    "$$"
   ]
  },
  {
   "cell_type": "markdown",
   "metadata": {},
   "source": [
    "## Some bibliographical remarks\n",
    "\n",
    "- Order 1 convergence on triangular meshes   \n",
    "  *R. Herbin, An error estimate for a four point finite volume scheme for the convection-diffusion equation on a triangular mesh, Num. Meth. P.D.E., 165-173, 1995.*\n",
    "\n",
    "\n",
    "- On triangular meshes, the FV5 scheme order is 2 provided \n",
    "    - the center of the circumscribed circle is used instead of the center of mass in each cell\n",
    "    - the Delaunay conditions are satisfied (no neighboring cell is included in the circumscribed circle of an arbitrary cell)\n"
   ]
  },
  {
   "cell_type": "markdown",
   "metadata": {},
   "source": [
    "## The script"
   ]
  },
  {
   "cell_type": "markdown",
   "metadata": {},
   "source": [
    "```python\n",
    "#Condition initiale\n",
    "pressure_field, velocity_field = initial_conditions_wave_system(my_mesh)\n",
    "\n",
    "#Pas de temps\n",
    "dt = cfl * dx_min / c0\n",
    "\n",
    "#Matrice des systèmes linéaires\n",
    "divMat=computeDivergenceMatrix(my_mesh,nbVoisinsMax,dt,test_bc)\n",
    "\n",
    "# Construction du vecteur inconnu\n",
    "Un=cdmath.Vector(nbCells*(dim+1))\n",
    "for k in range(nbCells):\n",
    "    Un[k*(dim+1)+0] =     pressure_field[k]\n",
    "    Un[k*(dim+1)+1] =rho0*velocity_field[k,0]\n",
    "    Un[k*(dim+1)+2] =rho0*velocity_field[k,1]\n",
    "\n",
    "\n",
    "# Création du solveur linéaire\n",
    "LS=cdmath.LinearSolver(divMat,Un,iterGMRESMax, precision, \"GMRES\",\"ILU\")\n",
    "\n",
    "# Time loop\n",
    "while (it<ntmax and time <= tmax and not isStationary):\n",
    "    LS.setSndMember(Un)\n",
    "    Un=LS.solve();\n",
    "    Un.writeVTK\n",
    "    \n",
    "# Automatic postprocessing :  save 2D picture and plot diagonal data\n",
    "#===========================\n",
    "diag_data=VTK_routines.Extract_field_data_over_line_to_numpyArray(my_ResultField,[0,1,0],[1,0,0], resolution)\n",
    "plt.legend()\n",
    "plt.xlabel('Position on diagonal line')\n",
    "plt.ylabel('Value on diagonal line')\n",
    "if len(sys.argv) >1 :\n",
    "    plt.title('Plot over diagonal line for finite volumes \\n for Wave system on a 2D square '+my_mesh.getName())\n",
    "    plt.plot(curv_abs, diag_data, label= str(nbCells)+ ' cells mesh')\n",
    "    plt.savefig(\"FiniteVolumes2D_square_ResultField_\"+str(nbCells)+ '_cells'+\"_PlotOverDiagonalLine.png\")\n",
    "\n",
    "```"
   ]
  },
  {
   "cell_type": "markdown",
   "metadata": {},
   "source": [
    "## Numerical results for upwind scheme on cartesian meshes"
   ]
  },
  {
   "cell_type": "markdown",
   "metadata": {},
   "source": [
    "### Cartesian meshes"
   ]
  },
  {
   "cell_type": "markdown",
   "metadata": {},
   "source": [
    "mesh 1 | mesh 2 | mesh 3\n",
    "     - | -    - | -\n",
    "![](squareWithSquares_2.png) | ![](squareWithSquares_3.png)  | ![](squareWithSquares_4.png) \n"
   ]
  },
  {
   "cell_type": "markdown",
   "metadata": {},
   "source": [
    "### Velocity initial data (magnitude)"
   ]
  },
  {
   "cell_type": "markdown",
   "metadata": {},
   "source": [
    "result 1 | result 2 | result 3\n",
    "       - | -      - | -\n",
    "![](WaveSystem2DUpwind15x15_velocity_initial.png) | ![](WaveSystem2DUpwind31x31_velocity_initial.png)  | ![](WaveSystem2DUpwind51x51_velocity_initial.png) \n"
   ]
  },
  {
   "cell_type": "markdown",
   "metadata": {},
   "source": [
    "### Stationary velocity (magnitude)"
   ]
  },
  {
   "cell_type": "markdown",
   "metadata": {},
   "source": [
    "result 1 | result 2 | result 3\n",
    "       - | -      - | -\n",
    "![](WaveSystem2DUpwind15x15_velocity_Stat.png) | ![](WaveSystem2DUpwind31x31_velocity_Stat.png)  | ![](WaveSystem2DUpwind51x51_velocity_Stat.png) \n"
   ]
  },
  {
   "cell_type": "markdown",
   "metadata": {},
   "source": [
    "### Stationary velocity (x component)"
   ]
  },
  {
   "cell_type": "markdown",
   "metadata": {},
   "source": [
    "result 1 | result 2 | result 3\n",
    "       - | -      - | -\n",
    "![](WaveSystem2DUpwind15x15_velocityX_Stat.png) | ![](WaveSystem2DUpwind31x31_velocityX_Stat.png)  | ![](WaveSystem2DUpwind51x51_velocityX_Stat.png) \n"
   ]
  },
  {
   "cell_type": "markdown",
   "metadata": {},
   "source": [
    "### Stationary velocity (y component)"
   ]
  },
  {
   "cell_type": "markdown",
   "metadata": {},
   "source": [
    "result 1 | result 2 | result 3\n",
    "       - | -      - | -\n",
    "![](WaveSystem2DUpwind15x15_velocityY_Stat.png) | ![](WaveSystem2DUpwind31x31_velocityY_Stat.png)  | ![](WaveSystem2DUpwind51x51_velocityY_Stat.png) \n"
   ]
  },
  {
   "cell_type": "markdown",
   "metadata": {},
   "source": [
    "### Convergence on velocity"
   ]
  },
  {
   "cell_type": "markdown",
   "metadata": {},
   "source": [
    "![](meshSquareWithSquares_Velocity_2DWaveSystemUpwind_ConvergenceCurve.png)"
   ]
  },
  {
   "cell_type": "markdown",
   "metadata": {},
   "source": [
    "## Numerical results for upwind scheme on triangular meshes"
   ]
  },
  {
   "cell_type": "markdown",
   "metadata": {},
   "source": [
    "### Triangular meshes"
   ]
  },
  {
   "cell_type": "markdown",
   "metadata": {},
   "source": [
    "mesh 1 | mesh 2 | mesh 3\n",
    "     - | -    - | -\n",
    "![](squareWithTriangles_2.png) | ![](squareWithTriangles_3.png)  | ![](squareWithTriangles_4.png) \n"
   ]
  },
  {
   "cell_type": "markdown",
   "metadata": {},
   "source": [
    "### Velocity initial data (magnitude)"
   ]
  },
  {
   "cell_type": "markdown",
   "metadata": {},
   "source": [
    "result 1 | result 2 | result 3\n",
    "       - | -      - | -\n",
    "![](WaveSystem2DUpwindsquareWithTriangles224_velocity_initial.png) | ![](WaveSystem2DUpwindsquareWithTriangles934_velocity_initial.png)  | ![](WaveSystem2DUpwindsquareWithTriangles6422_velocity_initial.png) \n"
   ]
  },
  {
   "cell_type": "markdown",
   "metadata": {},
   "source": [
    "### Stationary velocity  (magnitude)"
   ]
  },
  {
   "cell_type": "markdown",
   "metadata": {},
   "source": [
    "result 1 | result 2 | result 3\n",
    "       - | -      - | -\n",
    "![](WaveSystem2DUpwindsquareWithTriangles224_velocity_Stat.png) | ![](WaveSystem2DUpwindsquareWithTriangles934_velocity_Stat.png)  | ![](WaveSystem2DUpwindsquareWithTriangles6422_velocity_Stat.png) \n"
   ]
  },
  {
   "cell_type": "markdown",
   "metadata": {},
   "source": [
    "### Convergence on stationary velocity"
   ]
  },
  {
   "cell_type": "markdown",
   "metadata": {},
   "source": [
    "![](squareWithTriangles_Velocity_2DWaveSystemUpwind_Triangles_ConvergenceCurve.png)"
   ]
  },
  {
   "cell_type": "markdown",
   "metadata": {},
   "source": [
    "## Numerical results for upwind scheme on checkerboard meshes"
   ]
  },
  {
   "cell_type": "markdown",
   "metadata": {},
   "source": [
    "### Checkerboard meshes"
   ]
  },
  {
   "cell_type": "markdown",
   "metadata": {},
   "source": [
    "mesh 1 | mesh 2 | mesh 3\n",
    "     - | -    - | -\n",
    "![](checkerboard_17x17.png) | ![](checkerboard_33x33.png)  | ![](checkerboard_65x65.png) \n"
   ]
  },
  {
   "cell_type": "markdown",
   "metadata": {},
   "source": [
    "### Velocity initial data (magnitude)"
   ]
  },
  {
   "cell_type": "markdown",
   "metadata": {},
   "source": [
    "result 1 | result 2 | result 3\n",
    "       - | -      - | -\n",
    "![](WaveSystem2DUpwindsquareWithCheckerboard204_velocity_initial.png) | ![](WaveSystem2DUpwindsquareWithCheckerboard724_velocity_initial.png)  | ![](WaveSystem2DUpwindsquareWithCheckerboard2724_velocity_initial.png) \n"
   ]
  },
  {
   "cell_type": "markdown",
   "metadata": {},
   "source": [
    "### Stationary velocity (magnitude)"
   ]
  },
  {
   "cell_type": "markdown",
   "metadata": {},
   "source": [
    "result 1 | result 2 | result 3\n",
    "       - | -      - | -\n",
    "![](WaveSystem2DUpwindsquareWithCheckerboard204_velocity_Stat.png) | ![](WaveSystem2DUpwindsquareWithCheckerboard724_velocity_Stat.png)  | ![](WaveSystem2DUpwindsquareWithCheckerboard2724_velocity_Stat.png) \n"
   ]
  },
  {
   "cell_type": "markdown",
   "metadata": {},
   "source": [
    "### Convergence on stationary velocity"
   ]
  },
  {
   "cell_type": "markdown",
   "metadata": {},
   "source": [
    "![](squareWithCheckerboard_Velocity_2DWaveSystemUpwind_Checkerboard_ConvergenceCurve.png)"
   ]
  }
 ],
 "metadata": {
  "kernelspec": {
   "display_name": "Python 2",
   "language": "python",
   "name": "python2"
  },
  "language_info": {
   "codemirror_mode": {
    "name": "ipython",
    "version": 2
   },
   "file_extension": ".py",
   "mimetype": "text/x-python",
   "name": "python",
   "nbconvert_exporter": "python",
   "pygments_lexer": "ipython2",
   "version": "2.7.12"
  }
 },
 "nbformat": 4,
 "nbformat_minor": 2
}
