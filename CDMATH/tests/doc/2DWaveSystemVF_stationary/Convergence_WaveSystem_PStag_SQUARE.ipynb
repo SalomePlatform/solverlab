{
 "cells": [
  {
   "cell_type": "markdown",
   "metadata": {},
   "source": [
    "# Pseudo staggered scheme for the Wave System"
   ]
  },
  {
   "cell_type": "markdown",
   "metadata": {},
   "source": [
    "## The Wave System on the square"
   ]
  },
  {
   "cell_type": "markdown",
   "metadata": {},
   "source": [
    "We consider the following Wave system with periodic boundary conditions\n",
    "\n",
    "$$\n",
    "\\left\\{\\begin{array}{l}\n",
    "\\partial_t p + c^2\\nabla\\cdot\\vec q = 0\\\\\n",
    "\\partial_t \\vec q + \\quad\\vec\\nabla p = 0\n",
    "\\end{array}\\right..\n",
    "$$\n",
    "\n",
    "The wave system can be written in matrix form \n",
    "$$\n",
    "\\partial_t\n",
    "\\left(\n",
    "\\begin{array}{c}\n",
    " p \\\\\n",
    " \\vec q\n",
    "\\end{array}\\right)\n",
    "+\n",
    "\\left(\\begin{array}{cc}\n",
    " 0   & c^2 \\nabla \\cdot \\\\ \n",
    " \\vec\\nabla & 0\n",
    "\\end{array}\\right)\n",
    "\\left(\\begin{array}{c}\n",
    " p \\\\ \n",
    " \\vec q\n",
    "\\end{array}\\right)=0\n",
    "$$\n",
    "\n",
    "In $d$ space dimensions the wave system is an hyperbolic system of $d+1$ equations\n",
    "$$\n",
    "\\partial_t U +\\sum_{i=1}^d A_i\\partial_{x_i} U=0,\\quad U={}^t(p,\\vec q)\n",
    "$$\n",
    "where the jacobian matrix is\n",
    "$$\n",
    "A(\\vec n)=\\sum_{i=1}^d n_i A_i =\n",
    "\\left(\n",
    "\\begin{array}{cc}\n",
    " 0              & c^2 {}^t\\vec n \\\\ \n",
    " \\vec n & 0\n",
    "\\end{array}\\right),\\quad \\vec n\\in\\mathbb{R}^d.\n",
    "$$\n",
    "has $d+1$ eigenvalues $-c,0,\\dots,0,c$.\n",
    "\n",
    "The wave system also takes the conservative form\n",
    "$$\n",
    "\\partial_t U + \\nabla\\cdot F(U)=0,\n",
    "$$\n",
    "where the flux matrix $F$ is defined by\n",
    "$$\n",
    "F(U)\\vec n=A(\\vec n)U,\\quad \\vec n\\in\\mathbb{R}.\n",
    "$$\n",
    "\n",
    "On the square domain $\\Omega= [0,1]\\times [0,1]$ we consider the initial data $(p_0,\\vec q_0)$ \n",
    "\n",
    "$$\n",
    "\\left\\{\\begin{array}{l}\n",
    "p_0(x,y)=constant\\\\\n",
    "q_{x0}(x,y)= \\sin(\\pi x) \\cos(\\pi y)\\\\\n",
    "q_{y0}(x,y)=-\\sin(\\pi y) \\cos(\\pi x)\n",
    "\\end{array}\\right..\n",
    "$$  \n",
    "\n",
    "The initial data $(p_0,q_x,q_y)$ is a stationary solution of the wave system.\n",
    "\n",
    "$$\n",
    "||\\vec q_0||^2=\\sin(\\pi x)^2 \\cos(\\pi y)^2+\\sin(\\pi y)^2 \\cos(\\pi x)^2=\\frac{1}{2}\\sin(\\pi (x + y))^2+\\frac{1}{2}\\sin(\\pi (x-y))^2\n",
    "$$\n"
   ]
  },
  {
   "cell_type": "markdown",
   "metadata": {},
   "source": [
    "## The pseudo staggered scheme for the Wave System"
   ]
  },
  {
   "cell_type": "markdown",
   "metadata": {},
   "source": [
    "The domain $\\Omega$ is decomposed into cells $C_i$.\n",
    "\n",
    "- $|C_i|$ is the measure of the cell $C_i$.\n",
    "\n",
    "- $f_{ij}$ is the interface between two cells $C_i$ and $C_j$. \n",
    "\n",
    "- $s_{ij}$ is the measure of the interface $f_{ij}$.\n",
    "\n",
    "- $d_{ij}$ is the distance between the centers of mass of the two cells $C_i$ and $C_j$.\n",
    "\n",
    "The semi-discrete colocated finite volume equation is\n",
    "$$\n",
    "\\partial_t U + \\frac{1}{|C_i|} \\sum s_{ij}F_{ij}=0,\n",
    "$$\n",
    "where\n",
    "$U_i$ is the approximation of $U$ in the cell $C_i$.\n",
    "\n",
    "$F_{ij}$ is a numerical approximation of the outward normal interfacial flux from cell $i$ to cell $j$ usually in the upwind form\n",
    "$$\n",
    "F_{ij}=\\frac{F(U_i)+F(U_j)}{2}\\vec n-D(\\vec n)\\frac{U_i-U_j}{2}.\n",
    "$$\n",
    "In the case of the pseudo staggered scheme the upwind matrix is\n",
    "$$\n",
    "D_{pstag}(\\vec n)=\n",
    "\\left(\n",
    "\\begin{array}{cc}\n",
    " 0      & -c^2 {}^t\\vec n \\\\ \n",
    " \\vec n & 0\n",
    "\\end{array}\\right).\n",
    "$$"
   ]
  },
  {
   "cell_type": "markdown",
   "metadata": {},
   "source": [
    "## Some bibliographical remarks\n",
    "\n",
    "Most of the literature on finite volume methods for hyperbolic equations focus on scalar equation whilst we are interested in systems of equation. Moreover the rare references that apply to the wave system are generally restricted to the upwind scheme. However the following two references apply to a general upwinding function\n",
    "\n",
    "- Stability of finite volumes with a general upwinding matrix  \n",
    "  *Ndjinga, Michaël. \"L2 stability of nonlinear finite-volume schemes for linear hyperbolic systems.\" Comptes Rendus Mathematique 351.17 (2013): 707-711.*\n",
    "  \n",
    "- Convergence of finite volumes with a general upwinding matrix  \n",
    "  *Ndjinga, Michaël. \"Weak Convergence of Nonlinear Finite Volume Schemes for Linear Hyperbolic Systems.\" Finite Volumes for Complex Applications VII-Methods and Theoretical Aspects. Springer, Cham, 2014. 411-419.*"
   ]
  },
  {
   "cell_type": "markdown",
   "metadata": {},
   "source": [
    "## The script"
   ]
  },
  {
   "cell_type": "markdown",
   "metadata": {},
   "source": [
    "```python\n",
    "#Condition initiale\n",
    "pressure_field, velocity_field = initial_conditions_wave_system(my_mesh)\n",
    "\n",
    "#Pas de temps\n",
    "dt = cfl * dx_min / c0\n",
    "\n",
    "#Matrice des systèmes linéaires\n",
    "divMat=computeDivergenceMatrix(my_mesh,nbVoisinsMax,dt,test_bc)\n",
    "\n",
    "# Construction du vecteur inconnu\n",
    "Un=cdmath.Vector(nbCells*(dim+1))\n",
    "for k in range(nbCells):\n",
    "    Un[k*(dim+1)+0] =     pressure_field[k]\n",
    "    Un[k*(dim+1)+1] =rho0*velocity_field[k,0]\n",
    "    Un[k*(dim+1)+2] =rho0*velocity_field[k,1]\n",
    "\n",
    "\n",
    "# Création du solveur linéaire\n",
    "LS=cdmath.LinearSolver(divMat,Un,iterGMRESMax, precision, \"GMRES\",\"ILU\")\n",
    "\n",
    "# Time loop\n",
    "while (it<ntmax and time <= tmax and not isStationary):\n",
    "    LS.setSndMember(Un)\n",
    "    Un=LS.solve();\n",
    "    Un.writeVTK\n",
    "    \n",
    "# Automatic postprocessing :  save 2D picture and plot diagonal data\n",
    "#===========================\n",
    "diag_data=VTK_routines.Extract_field_data_over_line_to_numpyArray(my_ResultField,[0,1,0],[1,0,0], resolution)\n",
    "plt.legend()\n",
    "plt.xlabel('Position on diagonal line')\n",
    "plt.ylabel('Value on diagonal line')\n",
    "if len(sys.argv) >1 :\n",
    "    plt.title('Plot over diagonal line for finite volumes \\n for Wave system on a 2D square '+my_mesh.getName())\n",
    "    plt.plot(curv_abs, diag_data, label= str(nbCells)+ ' cells mesh')\n",
    "    plt.savefig(\"FiniteVolumes2D_square_ResultField_\"+str(nbCells)+ '_cells'+\"_PlotOverDiagonalLine.png\")\n",
    "\n",
    "```"
   ]
  },
  {
   "cell_type": "markdown",
   "metadata": {},
   "source": [
    "## Numerical results for upwind scheme on cartesian meshes"
   ]
  },
  {
   "cell_type": "markdown",
   "metadata": {},
   "source": [
    "### Cartesian meshes"
   ]
  },
  {
   "cell_type": "markdown",
   "metadata": {},
   "source": [
    "mesh 1 | mesh 2 | mesh 3\n",
    "     - | -    - | -\n",
    "![](2DWaveSystemPStag/squareWithSquares_2.png) | ![](2DWaveSystemPStag/squareWithSquares_3.png)  | ![](2DWaveSystemPStag/squareWithSquares_4.png) \n"
   ]
  },
  {
   "cell_type": "markdown",
   "metadata": {},
   "source": [
    "### Velocity initial data (magnitude)"
   ]
  },
  {
   "cell_type": "markdown",
   "metadata": {},
   "source": [
    "result 1 | result 2 | result 3\n",
    "       - | -      - | -\n",
    "![](2DWaveSystemPStag/WaveSystem2DPStag15x15_velocity_initial.png) | ![](2DWaveSystemPStag/WaveSystem2DPStag31x31_velocity_initial.png)  | ![](2DWaveSystemPStag/WaveSystem2DPStag51x51_velocity_initial.png) \n"
   ]
  },
  {
   "cell_type": "markdown",
   "metadata": {},
   "source": [
    "### Stationary velocity (magnitude)"
   ]
  },
  {
   "cell_type": "markdown",
   "metadata": {},
   "source": [
    "result 1 | result 2 | result 3\n",
    "       - | -      - | -\n",
    "![](2DWaveSystemPStag/WaveSystem2DPStag15x15_velocity_Stat.png) | ![](2DWaveSystemPStag/WaveSystem2DPStag31x31_velocity_Stat.png)  | ![](2DWaveSystemPStag/WaveSystem2DPStag51x51_velocity_Stat.png) \n"
   ]
  },
  {
   "cell_type": "markdown",
   "metadata": {},
   "source": [
    "### Convergence on velocity"
   ]
  },
  {
   "cell_type": "markdown",
   "metadata": {},
   "source": [
    "![](2DWaveSystemPStag/SquareWithSquares_Velocity_2DWaveSystemSquaresPStag_scaling2_ConvergenceCurve.png)"
   ]
  },
  {
   "cell_type": "markdown",
   "metadata": {},
   "source": [
    "## Numerical results for upwind scheme on triangular meshes"
   ]
  },
  {
   "cell_type": "markdown",
   "metadata": {},
   "source": [
    "### Triangular meshes"
   ]
  },
  {
   "cell_type": "markdown",
   "metadata": {},
   "source": [
    "mesh 1 | mesh 2 | mesh 3\n",
    "     - | -    - | -\n",
    "![](2DWaveSystemPStag/squareWithTriangles_2.png) | ![](2DWaveSystemPStag/squareWithTriangles_3.png)  | ![](2DWaveSystemPStag/squareWithTriangles_4.png) \n"
   ]
  },
  {
   "cell_type": "markdown",
   "metadata": {},
   "source": [
    "### Velocity initial data (magnitude)"
   ]
  },
  {
   "cell_type": "markdown",
   "metadata": {},
   "source": [
    "result 1 | result 2 | result 3\n",
    "       - | -      - | -\n",
    "![](2DWaveSystemPStag/WaveSystem2DPStagsquareWithTriangles224_velocity_initial.png) | ![](2DWaveSystemPStag/WaveSystem2DPStagsquareWithTriangles934_velocity_initial.png)  | ![](2DWaveSystemPStag/WaveSystem2DPStagsquareWithTriangles6422_velocity_initial.png) \n"
   ]
  },
  {
   "cell_type": "markdown",
   "metadata": {},
   "source": [
    "### Stationary velocity  (magnitude)"
   ]
  },
  {
   "cell_type": "markdown",
   "metadata": {},
   "source": [
    "result 1 | result 2 | result 3\n",
    "       - | -      - | -\n",
    "![](2DWaveSystemPStag/WaveSystem2DPStagSquareWithTriangles224_velocity_Stat.png) | ![](2DWaveSystemPStag/WaveSystem2DPStagSquareWithTriangles934_velocity_Stat.png)  | ![](2DWaveSystemPStag/WaveSystem2DPStagSquareWithTriangles6422_velocity_Stat.png) \n"
   ]
  },
  {
   "cell_type": "markdown",
   "metadata": {},
   "source": [
    "### Convergence on stationary velocity"
   ]
  },
  {
   "cell_type": "markdown",
   "metadata": {},
   "source": [
    "![](2DWaveSystemPStag/SquareWithTriangles_Velocity_2DWaveSystemTrianglesPStag_scaling2_ConvergenceCurve.png)"
   ]
  },
  {
   "cell_type": "markdown",
   "metadata": {},
   "source": [
    "## Numerical results for upwind scheme on checkerboard meshes"
   ]
  },
  {
   "cell_type": "markdown",
   "metadata": {},
   "source": [
    "### Checkerboard meshes"
   ]
  },
  {
   "cell_type": "markdown",
   "metadata": {},
   "source": [
    "mesh 1 | mesh 2 | mesh 3\n",
    "     - | -    - | -\n",
    "![](2DWaveSystemUpwind/checkerboard_17x17.png) | ![](2DWaveSystemUpwind/checkerboard_33x33.png)  | ![](2DWaveSystemUpwind/checkerboard_65x65.png) \n"
   ]
  },
  {
   "cell_type": "markdown",
   "metadata": {},
   "source": [
    "### Velocity initial data (magnitude)"
   ]
  },
  {
   "cell_type": "markdown",
   "metadata": {},
   "source": [
    "result 1 | result 2 | result 3\n",
    "       - | -      - | -\n",
    "![](2DWaveSystemPStag/WaveSystem2DPStagsquareWithCheckerboard204_velocity_initial.png) | ![](2DWaveSystemPStag/WaveSystem2DPStagsquareWithCheckerboard724_velocity_initial.png)  | ![](2DWaveSystemPStag/WaveSystem2DPStagsquareWithCheckerboard2724_velocity_initial.png) \n"
   ]
  },
  {
   "cell_type": "markdown",
   "metadata": {},
   "source": [
    "### Stationary velocity (magnitude)"
   ]
  },
  {
   "cell_type": "markdown",
   "metadata": {},
   "source": [
    "result 1 | result 2 | result 3\n",
    "       - | -      - | -\n",
    "![](2DWaveSystemPStag/WaveSystem2DPStagsquareWithCheckerboard204_velocity_Stat.png) | ![](2DWaveSystemPStag/WaveSystem2DPStagsquareWithCheckerboard724_velocity_Stat.png)  | ![](2DWaveSystemPStag/WaveSystem2DPStagsquareWithCheckerboard2724_velocity_Stat.png) \n"
   ]
  },
  {
   "cell_type": "markdown",
   "metadata": {},
   "source": [
    "### Convergence on stationary velocity"
   ]
  },
  {
   "cell_type": "markdown",
   "metadata": {},
   "source": [
    "![](2DWaveSystemPStag/squareWithCheckerboard_Velocity_2DWaveSystemPStag_Checkerboard_scaling2_ConvergenceCurve.png)"
   ]
  }
 ],
 "metadata": {
  "kernelspec": {
   "display_name": "Python 2",
   "language": "python",
   "name": "python2"
  },
  "language_info": {
   "codemirror_mode": {
    "name": "ipython",
    "version": 2
   },
   "file_extension": ".py",
   "mimetype": "text/x-python",
   "name": "python",
   "nbconvert_exporter": "python",
   "pygments_lexer": "ipython2",
   "version": "2.7.12"
  }
 },
 "nbformat": 4,
 "nbformat_minor": 2
}
