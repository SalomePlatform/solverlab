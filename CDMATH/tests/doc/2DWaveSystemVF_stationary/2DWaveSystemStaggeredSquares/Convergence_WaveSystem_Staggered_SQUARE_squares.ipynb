{
 "cells": [
  {
   "cell_type": "markdown",
   "metadata": {},
   "source": [
    "# Staggered scheme for Wave System on square meshes"
   ]
  },
  {
   "cell_type": "markdown",
   "metadata": {},
   "source": [
    "## The Wave System on the square"
   ]
  },
  {
   "cell_type": "markdown",
   "metadata": {},
   "source": [
    "We consider the following Wave system with periodic boundary conditions\n",
    "\n",
    "$$\n",
    "\\left\\{\\begin{array}{l}\n",
    "\\partial_t p + c^2\\nabla\\cdot\\vec q = 0\\\\\n",
    "\\partial_t \\vec q + \\quad\\vec\\nabla p = 0\n",
    "\\end{array}\\right..\n",
    "$$\n",
    "\n",
    "The wave system can be written in matrix form \n",
    "$$\n",
    "\\partial_t\\left(\n",
    "\\begin{array}{c}\n",
    " p\\\\ \\vec q\n",
    "\\end{array}\\right)\n",
    "+\n",
    "\\left(\n",
    "\\begin{array}{cc}\n",
    " 0              & c^2\\nabla\\cdot \\\\ \n",
    " \\vec\\nabla & 0\n",
    "\\end{array}\\right)\n",
    "\\left(\n",
    "\\begin{array}{c}\n",
    " p\\\\\\vec q\n",
    "\\end{array}\\right)\n",
    "=\\left(\n",
    "\\begin{array}{c}\n",
    " 0 \\\\ \\vec 0\n",
    "\\end{array}\\right)\n",
    "$$\n",
    "In $d$ space dimensions the wave system is an hyperbolic system of $d+1$ equations\n",
    "$$\n",
    "\\partial_t U +\\sum_{i=1}^d A_i\\partial_{x_i} U=0,\\quad U={}^t(p,\\vec q)\n",
    "$$\n",
    "where the jacobian matrix is\n",
    "$$\n",
    "A(\\vec n)=\\sum_{i=1}^d n_i A_i =\n",
    "\\left(\n",
    "\\begin{array}{cc}\n",
    " 0              & c^2 {}^t\\vec n \\\\ \n",
    " \\vec n & 0\n",
    "\\end{array}\\right),\\quad \\vec n\\in\\mathbb{R}^d.\n",
    "$$\n",
    "has $d+1$ eigenvalues $-c,0,\\dots,0,c$.\n",
    "\n",
    "On the square domain $\\Omega= [0,1]\\times [0,1]$ we consider the initial data \n",
    "$$\n",
    "\\left\\{\\begin{array}{l}\n",
    "p_0(x,y)=constant\\\\\n",
    "q_{x0}(x,y)= \\sin(\\pi x) \\cos(\\pi y)\\\\\n",
    "q_{y0}(x,y)=-\\sin(\\pi y) \\cos(\\pi x)\n",
    "\\end{array}\\right..\n",
    "$$  \n",
    "The initial data $(p_0,q_x,q_y)$ is a stationary solution of the wave system.\n",
    "\n"
   ]
  },
  {
   "cell_type": "markdown",
   "metadata": {},
   "source": [
    "## A 2D Staggered scheme for the Wave System"
   ]
  },
  {
   "cell_type": "markdown",
   "metadata": {},
   "source": [
    "In $2D$, the linear wave system can be written using the cartesian coordinate system $\\vec q=(q_x,q_y)$ as\n",
    "$$\n",
    "\\left\\{\\begin{array}{ccc}\n",
    "\\partial_t p &+& c^2(\\partial_x q_x+\\partial_y q_y)=0\\\\[1.5ex]\n",
    "\\partial_t q_x &+&\\partial_x  p=0\\\\[1.5ex]\n",
    "\\partial_t q_y &+&\\partial_y  p=0.\n",
    "\\end{array}\\right.\n",
    "$$\n",
    "We consider a $2D$ rectangular grid made of $N=n_x\\times n_y$ cells.  \n",
    "__The cells__ are indexed by two integers  $i=1,\\dots,n_x$ ($x$-direction), and $j=1,\\dots , n_y$ ($y$-direction).  \n",
    "\n",
    "__The pressure $p$__ is discretised at the cell centers and is indexed with integer values $p_{i,j},i=1,\\dots,n_x, j=1,\\dots , n_y$.\n",
    "\n",
    "__The horizontal component $q_x$__ of the momentum is discretised at the vertical cell interfaces and is indexed with a half-integer followed by an integer $q_{i-\\frac{1}{2},j},i=1,\\dots,n_x, j=1,\\dots , n_y$.\n",
    "\n",
    "__The vertical   component $q_y$__ of the momentum is discretised at the horizontal cell interfaces and is indexed with an integer followed by a half-integer $q_{i,j-\\frac{1}{2}},i=1,\\dots,n_x, j=1,\\dots , n_y$.  \n",
    "\n",
    "The discrete equations read\n",
    "$$\n",
    "\\left\\{\\begin{array}{ccc}\n",
    "\\partial_t p_{i,j} &+& c^2\\displaystyle\\frac{ q_{i+\\frac{1}{2},j}- q_{i-\\frac{1}{2},j}}{\\triangle x} + c^2\\displaystyle\\frac{ q_{i,j+\\frac{1}{2}}- q_{i,j-\\frac{1}{2}}}{\\triangle y}=0\\\\[1.5ex]\n",
    "\\partial_t q_{i-\\frac{1}{2},j} &+&\\displaystyle\\frac{p_{i,j}-p_{i-1,j}}{\\triangle x}=0\\\\[1.5ex]\n",
    "\\partial_t q_{i,j-\\frac{1}{2}} &+&\\displaystyle\\frac{p_{i,j}-p_{i,j-1}}{\\triangle y}=0,\n",
    "\\end{array}\\right.\n",
    "$$\n",
    "for $i=1,\\dots,n_x$, $j=1,\\dots,n_y$  \n",
    "with the notations $p_0=p_{n_x}$, $q_{n_x+\\frac{1}{2},j}=q_{\\frac{1}{2},j}$ and $q_{i,n_y+\\frac{1}{2}}=q_{i,\\frac{1}{2}}$ at the periodic boundaries.  \n",
    "\n",
    "We are therefore led to a linear system of $3N=3n_x\\times n_y$ ODEs to solve.\n"
   ]
  },
  {
   "cell_type": "markdown",
   "metadata": {},
   "source": [
    "## The 2D Staggered scheme in matrix form"
   ]
  },
  {
   "cell_type": "markdown",
   "metadata": {},
   "source": [
    "Define the unknown vector of the semi-discrete system as\n",
    "$$\n",
    "\\mathcal{U}=\n",
    "\\left(\\begin{array}{c}\n",
    "       \\mathcal{P} \\\\ \\mathcal{Q}_x \\\\ \\mathcal{Q}_y\n",
    "      \\end{array}\\right),\n",
    "      \\quad\n",
    "\\mathcal{P}=\n",
    "\\left(\\begin{array}{c}\n",
    "       p_1 \\\\ \\vdots \\\\ p_{N}\n",
    "      \\end{array}\\right),\n",
    "      \\quad\n",
    "\\mathcal{Q}_x=\n",
    "\\left(\\begin{array}{c}\n",
    "       q^x_{1} \\\\ \\vdots \\\\ q^x_{N}\n",
    "      \\end{array}\\right),\n",
    "      \\quad\n",
    "\\mathcal{Q}_y=\n",
    "\\left(\\begin{array}{c}\n",
    "       q^y_{1} \\\\ \\vdots \\\\ q^y_{N}\n",
    "      \\end{array}\\right),\n",
    "$$\n",
    "where the global index for the pressure unknown for any cell $(i,j)$ is $p_k=p_{j n_x +i}$  \n",
    "the global index for the $x$-momentum unknown for any vertical cell interface $(i-\\frac{1}{2},j)$ is $q^x_k=q_{j n_x+i}$  \n",
    "and global index for the the $y$-momentum unknown for any horizontal cell interface $(i,j-\\frac{1}{2})$ $q^y_k=q_{j n_x + i}$.  \n",
    "\n",
    "With these notations, the discrete equations read for $k=0,\\dots,N$\n",
    "$$\n",
    "\\left\\{\\begin{array}{ccc}\n",
    "\\partial_t p_{j n_x + i} &+& c^2\\displaystyle\\frac{ q_{j n_x+(i+1)\\%n_x}^x- q_{j n_x + i}^x}{\\triangle x} + c^2\\displaystyle\\frac{ q_{((j+1)\\%n_y) n_x+i}^y- q_{j n_x + i}^y}{\\triangle y}=0\\\\\n",
    "\\partial_t q_{j n_x + i}^x &+&\\displaystyle\\frac{p_{j n_x + i}-p_{j n_x+(i-1)\\% n_x}}{\\triangle x}=0\\\\\n",
    "\\partial_t q_{j n_x + i}^y &+&\\displaystyle\\frac{p_{j n_x + i}-p_{((j-1)\\%n_y)n_x+i}}{\\triangle y}=0\n",
    "\\end{array}\\right..\n",
    "$$\n",
    "\n",
    "The discrete staggered scheme takes the matrix form\n",
    "$$\n",
    "\\partial_t\\mathcal{U} + \\mathcal{M}\\mathcal{U}=0,\n",
    "$$\n",
    "with\n",
    "$$\n",
    "\\begin{array}{lll}\n",
    "\\mathcal{M}&=&\n",
    "  \\left(\\begin{array}{ccc}\n",
    "       0 & c^2 \\mathcal{C}_x^{2d} & c^2 \\mathcal{C}_y^{2d}\\\\\n",
    "       -{}^t\\mathcal{C}_x^{2d} & 0 & 0\\\\\n",
    "       -{}^t\\mathcal{C}_y^{2d} & 0 & 0\n",
    "  \\end{array}\\right) \\in\\mathcal{M}_{3 n_x n_y}(\\mathbb{R}),\\qquad \\mathcal{C}_x^{2d},\\mathcal{C}_y^{2d}\\in\\mathcal{M}_{n_x n_y}(\\mathbb{R})\\\\\n",
    "\\mathcal{C}_x^{2d}&=&\\frac{1}{\\Delta x}\n",
    "  \\left(\\begin{array}{ccc}\n",
    "       \\mathcal{C}^{1d} & 0 & 0  \\\\ 0 & \\ddots & 0\\\\ 0 & 0 & \\mathcal{C}^{1d} \n",
    "  \\end{array}\\right) \\in\\mathcal{M}_{n_x n_y}(\\mathbb{R}),\\qquad \\mathcal{C}^{1d}\\in\\mathcal{M}_{n_x}(\\mathbb{R})\\\\\n",
    "\\mathcal{C}_y^{2d}&=&\\frac{1}{\\Delta y}\n",
    "  \\left(\\begin{array}{cccc}\n",
    "       -\\mathbb{I}_{n_x} & \\mathbb{I}_{n_x} & 0 & 0\\\\ \n",
    "       0 & \\ddots & \\ddots & 0 \\\\\n",
    "       0 & 0 & \\ddots & \\mathbb{I}_{n_x} \\\\\n",
    "    \\mathbb{I}_{n_x}  & 0 & 0 & -\\mathbb{I}_{n_x} \n",
    "  \\end{array}\\right) \\in\\mathcal{M}_{n_x n_y}(\\mathbb{R}).\n",
    "\\end{array}\n",
    "$$"
   ]
  },
  {
   "cell_type": "markdown",
   "metadata": {},
   "source": [
    "## Staggered scheme stability"
   ]
  },
  {
   "cell_type": "markdown",
   "metadata": {},
   "source": [
    "With the new unknown variable\n",
    "$$\n",
    "\\mathcal{V}=\n",
    "\\left(\\begin{array}{c}\n",
    "       \\frac{1}{c}\\mathcal{P} \\\\ \\mathcal{Q}_x \\\\ \\mathcal{Q}_y\n",
    "      \\end{array}\\right),\n",
    "      \\quad\n",
    "$$\n",
    "which yields the discrete system \n",
    "$$\n",
    "\\partial_t\\mathcal{V} + \\mathcal{M}'\\mathcal{V}=0,\n",
    "$$\n",
    "with the antisymmetric matrix :\n",
    "$$\n",
    "\\mathcal{M}'=\n",
    "  \\left(\\begin{array}{ccc}\n",
    "       0 & c \\mathcal{C}_x^{2d} & c \\mathcal{C}_y^{2d}\\\\\n",
    "       -c{}^t\\mathcal{C}_x^{2d} & 0 & 0\\\\\n",
    "       -c{}^t\\mathcal{C}_y^{2d} & 0 & 0\n",
    "   \\end{array}\\right).\n",
    "$$\n",
    "\n",
    "Hence the norm of $\\mathcal{V}$ is constant :\n",
    "$$\n",
    "\\frac{1}{2}\\partial_t ||\\mathcal{V}||^2={}^t\\mathcal{V}\\partial_t \\mathcal{V}\n",
    "=- \\frac{c}{\\Delta x}{}^t\\mathcal{V}\n",
    "\\left(\\begin{array}{ccc}\n",
    "       0 & c \\mathcal{C}_x^{2d} & c \\mathcal{C}_y^{2d}\\\\ \n",
    "       -c{}^t\\mathcal{C}_x^{2d} & 0 & 0\\\\[1.5ex]\n",
    "       -c{}^t\\mathcal{C}_y^{2d} & 0 & 0\n",
    "      \\end{array}\\right)\n",
    "\\mathcal{V}=0.\n",
    "$$\n",
    "Since \n",
    "$$\n",
    "||\\mathcal{U}(t)||\\leq\\max\\left\\{1,\\frac{1}{c}\\right\\}||\\mathcal{V}(t)||=\\max\\left\\{1,\\frac{1}{c}\\right\\}||\\mathcal{V}(0)||,\n",
    "$$\n",
    "we deduce that $||\\mathcal{U}||$ is bounded and the scheme is therefore stable.\n"
   ]
  },
  {
   "cell_type": "markdown",
   "metadata": {},
   "source": [
    "## The script"
   ]
  },
  {
   "cell_type": "markdown",
   "metadata": {},
   "source": [
    "```python\n",
    "#Condition initiale :\n",
    "#Warning : the velocity is based on cells with the principle that the x component is th value on the left face and the y component is the value on the bottom face\n",
    "pressure_field, velocity_field = initial_conditions_wave_system(my_mesh)\n",
    "\n",
    "#Pas de temps\n",
    "dt = cfl * dx_min / c0\n",
    "\n",
    "#Matrice des systèmes linéaires\n",
    "divMat=computeDivergenceMatrix(my_mesh,nbVoisinsMax,dt,test_bc)\n",
    "\n",
    "# Construction du vecteur inconnu\n",
    "Un=cdmath.Vector(nbCells*(dim+1))\n",
    "for k in range(nbCells):\n",
    "    Un[k*(dim+1)+0] =     pressure_field[k]\n",
    "    Un[k*(dim+1)+1] =rho0*velocity_field[k,0]\n",
    "    Un[k*(dim+1)+2] =rho0*velocity_field[k,1]\n",
    "\n",
    "\n",
    "# Création du solveur linéaire\n",
    "LS=cdmath.LinearSolver(divMat,Un,iterGMRESMax, precision, \"GMRES\",\"ILU\")\n",
    "\n",
    "# Time loop\n",
    "while (it<ntmax and time <= tmax and not isStationary):\n",
    "    LS.setSndMember(Un)\n",
    "    Un=LS.solve();\n",
    "    Un.writeVTK\n",
    "    \n",
    "# Automatic postprocessing :  save 2D picture and plot diagonal data\n",
    "#===========================\n",
    "diag_data=VTK_routines.Extract_field_data_over_line_to_numpyArray(my_ResultField,[0,1,0],[1,0,0], resolution)\n",
    "plt.legend()\n",
    "plt.xlabel('Position on diagonal line')\n",
    "plt.ylabel('Value on diagonal line')\n",
    "if len(sys.argv) >1 :\n",
    "    plt.title('Plot over diagonal line for Staggered Finite Volumes \\n for Wave system on a 2D square '+my_mesh.getName())\n",
    "    plt.plot(curv_abs, diag_data, label= str(nbCells)+ ' cells mesh')\n",
    "    plt.savefig(\"FiniteVolumes2D_square_ResultField_\"+str(nbCells)+ '_cells'+\"_PlotOverDiagonalLine.png\")\n",
    "\n",
    "```"
   ]
  },
  {
   "cell_type": "markdown",
   "metadata": {},
   "source": [
    "## Numerical results"
   ]
  },
  {
   "cell_type": "markdown",
   "metadata": {},
   "source": [
    "### Cartesian meshes"
   ]
  },
  {
   "cell_type": "markdown",
   "metadata": {},
   "source": [
    "mesh 1 | mesh 2 | mesh 3\n",
    "     - | -    - | -\n",
    "![](squareWithSquares_2.png) | ![](squareWithSquares_3.png)  | ![](squareWithSquares_4.png) \n"
   ]
  },
  {
   "cell_type": "markdown",
   "metadata": {},
   "source": [
    "### Velocity initial data (magnitude)"
   ]
  },
  {
   "cell_type": "markdown",
   "metadata": {},
   "source": [
    "result 1 | result 2 | result 3\n",
    "       - | -      - | -\n",
    "![](WaveSystem2DStaggered15x15_velocity_initial.png) | ![](WaveSystem2DStaggered31x31_velocity_initial.png)  | ![](WaveSystem2DStaggered51x51_velocity_initial.png) \n"
   ]
  },
  {
   "cell_type": "markdown",
   "metadata": {},
   "source": [
    "### Stationary velocity (magnitude)"
   ]
  },
  {
   "cell_type": "markdown",
   "metadata": {},
   "source": [
    "result 1 | result 2 | result 3\n",
    "       - | -      - | -\n",
    "![](WaveSystem2DStaggered15x15_velocity_Stat.png) | ![](WaveSystem2DStaggered31x31_velocity_Stat.png)  | ![](WaveSystem2DStaggered51x51_velocity_Stat.png) \n"
   ]
  },
  {
   "cell_type": "markdown",
   "metadata": {},
   "source": [
    "## Convergence on stationary velocity"
   ]
  },
  {
   "cell_type": "markdown",
   "metadata": {},
   "source": [
    "![](SquareWithSquares_Velocity_2DWaveSystemSquaresStaggered_scaling0_ConvergenceCurve.png)"
   ]
  }
 ],
 "metadata": {
  "kernelspec": {
   "display_name": "Python 2",
   "language": "python",
   "name": "python2"
  },
  "language_info": {
   "codemirror_mode": {
    "name": "ipython",
    "version": 2
   },
   "file_extension": ".py",
   "mimetype": "text/x-python",
   "name": "python",
   "nbconvert_exporter": "python",
   "pygments_lexer": "ipython2",
   "version": "2.7.15"
  }
 },
 "nbformat": 4,
 "nbformat_minor": 2
}
