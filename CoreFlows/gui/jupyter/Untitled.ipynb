{
 "cells": [
  {
   "cell_type": "code",
   "execution_count": 2,
   "id": "2b0e3cad",
   "metadata": {
    "scrolled": false
   },
   "outputs": [
    {
     "name": "stdout",
     "output_type": "stream",
     "text": [
      "packagepy find\n",
      "solverlagpy directory __init__\n",
      "WARNING : no MEDLoader library dataFromFileXyz.py\n",
      "{\n",
      "  \"Analysis\": {\n",
      "    \"_type\": \"AnalysisSvl\",\n",
      "    \"caseSolverlab\": {\n",
      "      \"Equation\": \"\",\n",
      "      \"NumberOfProcessors\": 0,\n",
      "      \"_type\": \"CaseSvl\",\n",
      "      \"launchInBackground\": \"False\"\n",
      "    },\n",
      "    \"dataInformations\": {\n",
      "      \"_type\": \"DataInformationsSvl\"\n",
      "    }\n",
      "  },\n",
      "  \"GeometryMed\": {\n",
      "    \"_type\": \"DataFromFileMedXyz\",\n",
      "    \"contents\": {\n",
      "      \"_type\": \"BaseFreeXyz\"\n",
      "    },\n",
      "    \"fileMed\": \"\"\n",
      "  },\n",
      "  \"Model\": [],\n",
      "  \"_type\": \"ModelSvl\"\n",
      "}\n"
     ]
    }
   ],
   "source": [
    "import setenv_solverlabgui\n",
    "\n",
    "import solverlabpy.modelSvl as MDL\n",
    "\n",
    "a = MDL.ModelSvl()\n",
    "print(a.jsonDumps())"
   ]
  },
  {
   "cell_type": "code",
   "execution_count": 3,
   "id": "50a68fda",
   "metadata": {},
   "outputs": [
    {
     "name": "stdout",
     "output_type": "stream",
     "text": [
      "<Element 'data' at 0x7f3d64f9b950>\n",
      "INFO     : tree view third column shown False as ym268439\n"
     ]
    },
    {
     "data": {
      "text/plain": [
       "0"
      ]
     },
     "execution_count": 3,
     "metadata": {},
     "output_type": "execute_result"
    }
   ],
   "source": [
    "from PyQt5 import QtCore, QtGui, QtWidgets\n",
    "import xml.etree.ElementTree as ET\n",
    "from salomepy.onceQApplication import OnceQApplication\n",
    "from xyzpy.guiXyz.treeXmlXyz import TreeXmlXyz, TreeXmlXyzItem, TreeXmlXyzMainWidget\n",
    "\n",
    "xmlStr = \"\"\"\\\n",
    "<?xml version=\"1.0\" encoding=\"utf-8\"?>\n",
    "<data>\n",
    "  <country name=\"Liechtenstein\">\n",
    "    <rank>1</rank>\n",
    "    <year>2008</year>\n",
    "    <etc>141100</etc>\n",
    "    <neighbor direction=\"E\" name=\"Austria\"/>\n",
    "    <neighbor direction=\"W\" name=\"Switzerland\"/>\n",
    "  </country>\n",
    "  <country name=\"Singapore\">\n",
    "    <rank>3</rank>\n",
    "    <year>2011</year>\n",
    "    <etc>59900</etc>\n",
    "    <neighbor direction=\"N\" name=\"Malaysia\"/>\n",
    "  </country>\n",
    "  <country name=\"Panama\">\n",
    "    <rank>68</rank>\n",
    "    <year>2011</year>\n",
    "    <etc>13600</etc>\n",
    "    <neighbor direction=\"W\" name=\"Costa Rica\"/>\n",
    "    <neighbor direction=\"E\" name=\"Colombia\"/>\n",
    "  </country>\n",
    "</data>\n",
    "\"\"\"\n",
    "\n",
    "app = OnceQApplication()\n",
    "data = ET.fromstring(xmlStr)\n",
    "print(data)\n",
    "treeWid = TreeXmlXyz()\n",
    "treeWid.setFromXml(data)\n",
    "treeWid.resize(500, 500)\n",
    "treeWid.show()\n",
    "app.exec_()"
   ]
  },
  {
   "cell_type": "code",
   "execution_count": 6,
   "id": "f4e98513",
   "metadata": {},
   "outputs": [],
   "source": [
    "from xyzpy.controllerXyz import ControllerXyz\n",
    "\n",
    "class ControllerUsr(ControllerXyz):\n",
    "\n",
    "    def __init__(self, *args, **kwargs):\n",
    "        super(ControllerUsr, self).__init__(*args, **kwargs)\n",
    "        self.docks = []\n",
    "        self.__addDocks()\n",
    "        self.__addCentral()\n",
    "        self.__addMenuBar()\n",
    "\n",
    "    def add_view(self, new_view):\n",
    "        self.views.append(new_view)\n",
    "    \n",
    "    def __addDocks(self):\n",
    "        dock = QtWidgets.QDockWidget(\"\")\n",
    "        treeView = TreeXmlXyz()\n",
    "        self.treeViews.append(treeView)\n",
    "        dock.setWidget(treeView)\n",
    "        dock.setAllowedAreas(QtCore.Qt.LeftDockWidgetArea)\n",
    "        self._desktop.addDockWidget(QtCore.Qt.LeftDockWidgetArea, dock)\n",
    "        dock.show()\n",
    "        self.docks.append(dock)\n",
    "        self.setView(treeView)\n",
    "    \n",
    "    def __addCentral(self):\n",
    "        center = QtWidgets.QDockWidget(\"CentralWidget\")\n",
    "        label = QtWidgets.QLabel(\"Just a label on the central widget\")       \n",
    "        self._desktop.setCentralWidget(label)\n",
    "\n",
    "    def __addMenuBar(self):\n",
    "        menubar = QtWidgets.QMenuBar()\n",
    "        actionFile = menubar.addMenu(\"File\")\n",
    "        actionFile.addAction(\"Open\")\n",
    "        actionFile.addAction(\"Save\")\n",
    "        #actionFile.addSeparator()\n",
    "        #actionFile.addAction(\"Quit\")\n",
    "        self._desktop.setMenuBar(menubar)"
   ]
  },
  {
   "cell_type": "code",
   "execution_count": 11,
   "id": "2fcdb5ad",
   "metadata": {},
   "outputs": [
    {
     "data": {
      "text/markdown": [
       "Création d'un model\n",
       "=================\n"
      ],
      "text/plain": [
       "<IPython.core.display.Markdown object>"
      ]
     },
     "metadata": {},
     "output_type": "display_data"
    }
   ],
   "source": [
    "from IPython.display import display, Markdown\n",
    "display(Markdown('Model.md'))"
   ]
  },
  {
   "cell_type": "code",
   "execution_count": 9,
   "id": "7f38014f",
   "metadata": {},
   "outputs": [
    {
     "name": "stdout",
     "output_type": "stream",
     "text": [
      "INFO     : tree view third column shown False as ym268439\n"
     ]
    },
    {
     "data": {
      "text/plain": [
       "0"
      ]
     },
     "execution_count": 9,
     "metadata": {},
     "output_type": "execute_result"
    }
   ],
   "source": [
    "from xyzpy.baseXyz import _XyzConstrainBase, ListOfBaseXyz\n",
    "from salomepy import onceQApplication as OQP\n",
    "from xyzpy.controllerXyz import ControllerXyz\n",
    "import xyzpy.classFactoryXyz as CLFX\n",
    "\n",
    "\n",
    "class ModelUsr(_XyzConstrainBase):\n",
    "    _attributesList = [\n",
    "    (\"Name\", \"StrXyz\"),\n",
    "    (\"Age\", \"IntPosXyz\"),\n",
    "    ]\n",
    "    \n",
    "    _helpDict = {\n",
    "    \"Name\": (\"This string is a tooltip\", \"\"),\n",
    "    \"Age\": (\"It can be displayed if the user leave his mouse on the line\", \"\"),\n",
    "  }\n",
    "    def __init__(self):\n",
    "        super(ModelUsr, self).__init__()\n",
    "        self.setIsCast(True)\n",
    "        self.setDefaultValues() # initialise all attribute list to their default value\n",
    "    \n",
    "    def setDefaultValues(self):\n",
    "        self.Name = \"Default name\"\n",
    "        self.Age = 0\n",
    "\n",
    "CLFX.appendAllXyzClasses([ ModelUsr, ])\n",
    "\n",
    "app = OQP.OnceQApplication()\n",
    "desktop = QtWidgets.QMainWindow()\n",
    "desktop.resize(900,700)\n",
    "desktop.show()\n",
    "\n",
    "controller = ControllerUsr(desktop = desktop)\n",
    "model = ModelUsr()\n",
    "controller.setModel(model)\n",
    "\n",
    "app.exec_()"
   ]
  }
 ],
 "metadata": {
  "kernelspec": {
   "display_name": "Python 3 (ipykernel)",
   "language": "python",
   "name": "python3"
  },
  "language_info": {
   "codemirror_mode": {
    "name": "ipython",
    "version": 3
   },
   "file_extension": ".py",
   "mimetype": "text/x-python",
   "name": "python",
   "nbconvert_exporter": "python",
   "pygments_lexer": "ipython3",
   "version": "3.8.12"
  }
 },
 "nbformat": 4,
 "nbformat_minor": 5
}
