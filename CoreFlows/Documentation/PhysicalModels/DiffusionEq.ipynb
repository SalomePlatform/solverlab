{
 "cells": [
  {
   "cell_type": "code",
   "execution_count": 2,
   "metadata": {},
   "outputs": [
    {
     "data": {
      "text/markdown": [
       "The diffusion equation\n",
       "======================\n",
       "\n",
       "$$\n",
       " \\partial_t T =d\\triangle T +\\frac{ \\Phi+\\lambda_{sf}(T_f-T)}{\\rho c_p}\n",
       "$$\n",
       "where\n",
       "- $T$ the main unknown is the solid temperature field\n",
       "- $\\rho$ is the solid density assumed constant and possibly set by the user\n",
       "- $c_p$ is the solid specific heat, possibly set provided by the user and assumed constant\n",
       "- $\\lambda$ is the solid thermal conductivity possibly set provided by the user\n",
       "- $d=\\frac{\\lambda}{\\rho c_p}$ is the solid diffusivity\n",
       "- $\\lambda_{sf}$ is the fluid-solid heat transfer coefficient provided by the user\n",
       "- $\\Phi$ is the heat source term if explicitely known\n",
       "- $T_f$ is the fluid temperature field provided by the user\n",
       "\n",
       "The class [DiffusionEquation](../../Models/inc/DiffusionEquation.hxx) implementing a scalar diffusion equation for the temperature in a solid. The default values for $\\rho, c_p, \\lambda$ are those of Uranium oxyde at $900 K$.  \n",
       "\n",
       "\n",
       "\\subpage ExampleDiffusionEqPage \"Here are C and Python example scripts\"\n",
       "\n",
       "\n"
      ],
      "text/plain": [
       "<IPython.core.display.Markdown object>"
      ]
     },
     "metadata": {},
     "output_type": "display_data"
    }
   ],
   "source": [
    "from IPython.display import display, Markdown\n",
    "display(Markdown('DiffusionEq.md'))"
   ]
  }
 ],
 "metadata": {
  "kernelspec": {
   "display_name": "Python 2",
   "language": "python",
   "name": "python2"
  },
  "language_info": {
   "codemirror_mode": {
    "name": "ipython",
    "version": 2
   },
   "file_extension": ".py",
   "mimetype": "text/x-python",
   "name": "python",
   "nbconvert_exporter": "python",
   "pygments_lexer": "ipython2",
   "version": "2.7.12"
  }
 },
 "nbformat": 4,
 "nbformat_minor": 2
}
