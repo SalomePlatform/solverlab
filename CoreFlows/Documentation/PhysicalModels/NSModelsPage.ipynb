{
 "cells": [
  {
   "cell_type": "code",
   "execution_count": 2,
   "metadata": {},
   "outputs": [
    {
     "data": {
      "text/markdown": [
       "The Navier-Stokes equations\n",
       "===========================\n",
       "The model consists of the following three balance laws for the mass, the momentum and the energy:\n",
       " \n",
       "$$\n",
       "\\left\\{\\begin{array}{cclclcc}\n",
       "\\frac{\\partial \\phi\\rho}{\\partial t}&+&\\nabla\\cdot\\vec{\\phi q} & & &= &0\\\\[1.5ex]\n",
       "\\frac{\\partial \\phi\\vec{q}}{\\partial t}&+&\\nabla\\cdot\\left(\\phi\\vec{q} \\otimes \\frac{\\vec{q}}{\\rho})+\\phi\\vec{\\nabla} p \\right) &-& \\nu \\nabla\\cdot(\\phi\\vec{\\nabla}\\vec {u})&=&p\\vec{\\nabla\\phi}+\\phi\\rho\\vec{g}- (K_r+K_s\\delta_s(x))\\phi \\rho||\\vec{u}||\\vec{u}\\\\[1.5ex]\n",
       "\\frac{\\partial(\\phi\\rho E)}{\\partial t} &+&\\nabla\\cdot\\left[\\phi(\\rho E + p) \\frac{\\vec{q}}{\\rho}\\right]&-&\\lambda \\nabla\\cdot(\\phi\\vec{\\nabla} T)&=&\\Phi+\\phi\\rho\\vec{g}\\cdot\\vec{u}-(K_r+K_s\\delta_s(x))\\phi \\rho||\\vec{u}||^3\n",
       "\\end{array}\\right.,\n",
       "$$\n",
       "\n",
       "where \n",
       "- $\\rho$ is the density,\n",
       "- $\\vec u$ the velocity,\n",
       "- $\\vec q = \\rho \\vec u$ the momentum,\n",
       "- $p$ the pressure,\n",
       "- $\\rho e$ the volumic internal energy,\n",
       "- $\\rho E = \\rho e + \\frac{||\\vec q||^2}{2 \\rho}$ the volumic total energy,\n",
       "- $T$ the absolute temperature,\n",
       "- $\\Phi(\\vec x)$ the heat power received by the fluid  ([SinglePhase](../../Models/inc/SinglePhase.hxx)::setHeatPowerField),\n",
       "- $\\phi(\\vec x)$ the volumic porosity field ([SinglePhase](../../Models/inc/SinglePhase.hxx)::setPorosityField),\n",
       "- $\\vec g$ the gravity vector ([SinglePhase](../../Models/inc/SinglePhase.hxx)::setGravity)\n",
       "- $\\nu$ the viscosity ([SinglePhase](../../Models/inc/SinglePhase.hxx)::setViscosity),\n",
       "- $\\lambda$ the thermal conductivity ([SinglePhase](../../Models/inc/SinglePhase.hxx)::setConductivity),\n",
       "- $K_r$ the regular friction coefficient ([SinglePhase](../../Models/inc/SinglePhase.hxx)::setDragCoeffs),\n",
       "- $K_s(\\vec x)$ the singular friction function, $\\delta_s(\\vec x)$ the Dirac delta function with support on the set $s$ ([SinglePhase](../../Models/inc/SinglePhase.hxx)::setPressureLossField).\n",
       "\n",
       "We close the Navier-Stokes system by the ideal gas law $p = (\\gamma -1) \\rho e$ for steam water and a stiffened gas law $p = (\\gamma -1) \\rho e -\\gamma p_0$ for liquid water and a linearised internal energy law valid around the points $(P=1 bar, T=300K)$ or $(P=155 bars, T=618K)$ depending on the value of the enum \\ref pressureEstimate.\n",
       "\n",
       "For the sake of simplicity, for the moment we consider constant viscosity and conductivity, and neglect the contribution of viscous forces in the energy equation.\n",
       "\n",
       "The constant parameters $\\lambda, \\nu,\\vec g, K_r$ and the fields $\\phi(\\vec x),\\: \\Phi(\\vec x),\\: K_s(\\vec x)$ can be set by the user.\n",
       "\n",
       "\n",
       "The class : [SinglePhase](../../Models/inc/SinglePhase.hxx) implements the single phase model  \n",
       "\n",
       "\\subpage ExampleSinglePhase \"Here are C and Python example scripts using the single phase model \"\n",
       "\n"
      ],
      "text/plain": [
       "<IPython.core.display.Markdown object>"
      ]
     },
     "metadata": {},
     "output_type": "display_data"
    }
   ],
   "source": [
    "from IPython.display import display, Markdown\n",
    "display(Markdown('NSModelsPage.md'))"
   ]
  }
 ],
 "metadata": {
  "kernelspec": {
   "display_name": "Python 2",
   "language": "python",
   "name": "python2"
  },
  "language_info": {
   "codemirror_mode": {
    "name": "ipython",
    "version": 2
   },
   "file_extension": ".py",
   "mimetype": "text/x-python",
   "name": "python",
   "nbconvert_exporter": "python",
   "pygments_lexer": "ipython2",
   "version": "2.7.12"
  }
 },
 "nbformat": 4,
 "nbformat_minor": 2
}
