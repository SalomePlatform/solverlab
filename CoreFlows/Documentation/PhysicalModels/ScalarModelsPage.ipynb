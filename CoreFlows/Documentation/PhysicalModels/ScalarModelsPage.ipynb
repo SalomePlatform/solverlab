{
 "cells": [
  {
   "cell_type": "code",
   "execution_count": 1,
   "metadata": {},
   "outputs": [
    {
     "data": {
      "text/markdown": [
       "The scalar models\n",
       "=================\n",
       "\n",
       "The transport equation\t\n",
       "----------------------\n",
       " \n",
       "$$\n",
       " \\partial_t H + \\vec{u}\\cdot\\vec{\\nabla} H = \\Phi+\\lambda_{sf}(T_s-T)\n",
       "$$\n",
       "\n",
       "where\n",
       "\n",
       "- $ H $ the main unknown is the fluid enthalpy field\n",
       "- $ \\vec{u} $ is the constant transport velocity\n",
       "- $ \\Phi $ is the heat source term if explicitely known\n",
       "- $ T_s $ is the rod temperature field provided by the user\n",
       "- $ T=T_0+\\frac{H-H_0}{c_p}$ is the fluid temperature field\n",
       "- $ \\lambda_{sf}$ is the fluid-rod heat transfer coefficient provided by the user\n",
       "- $ c_p $ is the fluid specific heat, provided by the user and assumed constant\n",
       "\n",
       "See the [Transport equation page](TransportEq.ipynb)\n",
       "\n",
       "The diffusion equation\t\n",
       "----------------------\n",
       "$$\n",
       " \\partial_t T =d\\triangle T +\\frac{ \\Phi+\\lambda_{sf}(T_f-T)}{\\rho c_p}\n",
       "$$\n",
       "where\n",
       "- $T$ the main unknown is the rod temperature field\n",
       "- $d=\\frac{\\lambda}{\\rho c_p}$ is the rod diffusivity\n",
       "- $\\lambda_{sf}$ is the fluid-rod heat transfer coefficient provided by the user\n",
       "- $\\rho$ is the rod density assumed constant\n",
       "- $c_p$ is the rod specific heat, provided by the user and assumed constant\n",
       "- $\\Phi$ is the heat source term if explicitely known\n",
       "- $T_f$ is the fluid temperature field provided by the user\n",
       "\n",
       "See the [Diffusion equation page](DiffusionEq.ipynb)\n",
       "\n"
      ],
      "text/plain": [
       "<IPython.core.display.Markdown object>"
      ]
     },
     "metadata": {},
     "output_type": "display_data"
    }
   ],
   "source": [
    "from IPython.display import display, Markdown\n",
    "display(Markdown('ScalarModelsPage.md'))"
   ]
  }
 ],
 "metadata": {
  "kernelspec": {
   "display_name": "Python 2",
   "language": "python",
   "name": "python2"
  },
  "language_info": {
   "codemirror_mode": {
    "name": "ipython",
    "version": 2
   },
   "file_extension": ".py",
   "mimetype": "text/x-python",
   "name": "python",
   "nbconvert_exporter": "python",
   "pygments_lexer": "ipython2",
   "version": "2.7.12"
  }
 },
 "nbformat": 4,
 "nbformat_minor": 2
}
