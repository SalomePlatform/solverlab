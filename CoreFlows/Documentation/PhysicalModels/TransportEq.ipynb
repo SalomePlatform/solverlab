{
 "cells": [
  {
   "cell_type": "code",
   "execution_count": 1,
   "metadata": {},
   "outputs": [
    {
     "data": {
      "text/markdown": [
       "The transport equation\n",
       "======================\n",
       " \n",
       "$$\n",
       " \\partial_t h + \\vec{u}\\cdot\\vec{\\nabla} h = \\Phi+\\lambda_{sf}(T_s-T)\n",
       "$$\n",
       "\n",
       "where\n",
       "\n",
       "- $ h $ the main unknown is the fluid enthalpy field\n",
       "- $ \\vec{u} $ is the constant transport velocity set by the user\n",
       "- $ \\Phi $ is the heat source term if explicitely known\n",
       "- $ T_s $ is the rod temperature field provided by the user\n",
       "- $ T=T_0+\\frac{h-h_0}{c_p}$ is the fluid temperature field\n",
       "- $ \\lambda_{sf}$ is the fluid-rod heat transfer coefficient provided by the user\n",
       "- $ c_p $ is the fluid specific heat, provided by the user and assumed constant\n",
       "\n",
       "\n",
       "\n",
       "The class [TransportEquation](../../Models/inc/TransportEquation.hxx) implements a scalar advection equation for the enthalpy of a fluid. The fluid can be either steam or liquid water around 1 bar or 155 bars.  \n",
       "\n",
       "\\subpage ExampleTransportEqPage \"Here are C and Python example scripts\"\t\n",
       "\n",
       "\n"
      ],
      "text/plain": [
       "<IPython.core.display.Markdown object>"
      ]
     },
     "metadata": {},
     "output_type": "display_data"
    }
   ],
   "source": [
    "from IPython.display import display, Markdown\n",
    "display(Markdown('TransportEq.md'))"
   ]
  }
 ],
 "metadata": {
  "kernelspec": {
   "display_name": "Python 2",
   "language": "python",
   "name": "python2"
  },
  "language_info": {
   "codemirror_mode": {
    "name": "ipython",
    "version": 2
   },
   "file_extension": ".py",
   "mimetype": "text/x-python",
   "name": "python",
   "nbconvert_exporter": "python",
   "pygments_lexer": "ipython2",
   "version": "2.7.12"
  }
 },
 "nbformat": 4,
 "nbformat_minor": 2
}
