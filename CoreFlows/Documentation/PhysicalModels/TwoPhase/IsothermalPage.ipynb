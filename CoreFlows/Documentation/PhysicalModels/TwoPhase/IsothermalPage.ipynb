{
 "cells": [
  {
   "cell_type": "code",
   "execution_count": 3,
   "metadata": {},
   "outputs": [
    {
     "data": {
      "text/markdown": [
       "The isothermal two-fluid model\n",
       "==============================\n",
       "\n",
       "The model consists in the phasic mass and momentum balance equations.\n",
       "\n",
       "The main unknowns are $\\alpha$, $P$, $\\vec{u}_g$, $\\vec{u}_l$. The model uses stiffened gas laws $p_g(\\rho_g)$ and  $p_l(\\rho_l)$ valid around the saturation points $(P=1 bar, T=373K)$ or $(P=155 bars, T=618K)$ depending on the value of the enum \\ref pressureEstimate.\n",
       "\n",
       "The subscript $k$ stands for $l$ for the liquid phase and $g$ for the gas phase. The common\n",
       "averaged pressure of the two phases is denoted by $p$. \n",
       "\n",
       "In our model, pressure equilibrium between the two phases is postulated, and the resulting system to solve is:\n",
       "$$\n",
       "\\left\\{\n",
       "\\begin{array}{ccll}\n",
       " \\frac{\\partial m_g}{\\partial t}& +& \\nabla \\cdot \\vec{q}_g &= 0,\\\\[1.5ex]\n",
       "\\frac{\\partial m_l}{\\partial t} &+ &\\nabla \\cdot \\vec{q}_l &= 0,\\\\[1.5ex]\n",
       "\\frac{\\partial \\vec{q}_g}{\\partial t}& +& \\nabla \\cdot (\\vec{q}_g\\otimes\\frac{\\vec{q}_g}{m_g})+ \\alpha_g \\vec\\nabla p&\\\\[1.5ex] \n",
       " &+&\\Delta p \\nabla \\alpha_g -\\nu_g\\Delta \\vec{u}_g &= m_g\\vec{g}-K\\rho_m||\\vec{u}_g-\\vec{u}_l||(\\vec{u}_g-\\vec{u}_l)-K_s\\delta(x)m_g||\\vec{u}_g||\\vec{u}_g\\\\[1.5ex]\n",
       "\\frac{\\partial \\vec{q}_l}{\\partial t}& +& \\nabla \\cdot (\\vec{q}_l\\otimes\\frac{\\vec{q}_l}{m_l})+ \\alpha_l \\vec\\nabla p&\\\\[1.5ex]\n",
       "&+&\\Delta p \\nabla \\alpha_l -\\nu_l\\Delta \\vec{u}_l &= m_l\\vec{g}-K\\rho_m||\\vec{u}_l-\\vec{u}_g||(\\vec{u}_l-\\vec{u}_g)-K_s\\delta(x)m_l||\\vec{u}_l||\\vec{u}_l\\\\\n",
       "\\end{array}\n",
       "\\right.\n",
       "$$\n",
       "\n",
       "Here :\n",
       "- $\\nu_k$ is the viscosity of phase $k$, set by [IsothermalTwoFluid](../../../Models/inc/IsothermalTwoFluid.hxx)::setViscosity\n",
       "- $\\Delta p$ denotes the pressure default $p-p_k$ between the bulk average pressure and the interfacial average pressure.\n",
       "- $\\vec g$ the gravity vector ([IsothermalTwoFluid](../../../Models/inc/IsothermalTwoFluid.hxx)::setGravity)\n",
       "- $K$ the interphase friction coefficient ([IsothermalTwoFluid](../../../Models/inc/IsothermalTwoFluid.hxx)::setDragCoeffs),\n",
       "- $K_s(\\vec x)$ the singular friction function, $\\delta_s(\\vec x)$ the Dirac delta function with support on the set $s$ ([IsothermalTwoFluid](../../../Models/inc/IsothermalTwoFluid.hxx)::setPressureLossField).\n",
       "\n",
       "where \n",
       "$$ \n",
       " \\left\\{\\begin{array}{clc}\n",
       "\t\\alpha_g +\\alpha_l &=& 1 \\\\[1.5ex]\n",
       "\tm_k &=& \\alpha_k \\rho_k \\\\[1.5ex]\n",
       "\t\\vec{q}_k &=& \\alpha_k \\rho_k \\vec{u}_k\n",
       "\t\\end{array}\\right..\n",
       "$$\n",
       "\n",
       "\n",
       "The class : [IsothermalTwoFluid](../../../Models/inc/IsothermalTwoFluid.hxx) implements the isentropic two-fluid model  \n",
       "\n",
       "\\subpage ExampleIsothermalPage \"Here are C and Python example scripts using the isothermal two-fluid model\"\t\n",
       "\n"
      ],
      "text/plain": [
       "<IPython.core.display.Markdown object>"
      ]
     },
     "metadata": {},
     "output_type": "display_data"
    }
   ],
   "source": [
    "from IPython.display import display, Markdown\n",
    "display(Markdown('IsothermalPage.md'))"
   ]
  }
 ],
 "metadata": {
  "kernelspec": {
   "display_name": "Python 2",
   "language": "python",
   "name": "python2"
  },
  "language_info": {
   "codemirror_mode": {
    "name": "ipython",
    "version": 2
   },
   "file_extension": ".py",
   "mimetype": "text/x-python",
   "name": "python",
   "nbconvert_exporter": "python",
   "pygments_lexer": "ipython2",
   "version": "2.7.12"
  }
 },
 "nbformat": 4,
 "nbformat_minor": 2
}
